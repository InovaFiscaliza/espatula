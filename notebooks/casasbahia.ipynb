{
 "cells": [
  {
   "cell_type": "code",
   "execution_count": 1,
   "metadata": {},
   "outputs": [
    {
     "data": {
      "text/plain": [
       "(#10) [Path('D:/OneDrive - ANATEL/Regulatron/Resultados/amazon'),Path('D:/OneDrive - ANATEL/Regulatron/Resultados/americanas'),Path('D:/OneDrive - ANATEL/Regulatron/Resultados/carrefour'),Path('D:/OneDrive - ANATEL/Regulatron/Resultados/casasbahia'),Path('D:/OneDrive - ANATEL/Regulatron/Resultados/ean.xlsx'),Path('D:/OneDrive - ANATEL/Regulatron/Resultados/ean_Antigo.xlsx'),Path('D:/OneDrive - ANATEL/Regulatron/Resultados/magalu'),Path('D:/OneDrive - ANATEL/Regulatron/Resultados/ml'),Path('D:/OneDrive - ANATEL/Regulatron/Resultados/screenshots'),Path('D:/OneDrive - ANATEL/Regulatron/Resultados/shopee')]"
      ]
     },
     "execution_count": 1,
     "metadata": {},
     "output_type": "execute_result"
    }
   ],
   "source": [
    "from datetime import datetime\n",
    "from fastcore.xtras import Path\n",
    "import pandas as pd\n",
    "from IPython.display import display\n",
    "import xlsxwriter\n",
    "\n",
    "\n",
    "FOLDER = Path(r\"D:\\OneDrive - ANATEL\\Regulatron\\Resultados\")\n",
    "FOLDER.ls()\n"
   ]
  },
  {
   "cell_type": "code",
   "execution_count": 20,
   "metadata": {},
   "outputs": [],
   "source": [
    "TO_DISCARD = {\n",
    "    \"amazon\": [\n",
    "        \"Acessórios de Carros\",\n",
    "        \"Antenas\",\n",
    "        \"Apoios\",\n",
    "        \"Binóculos, Telescópios e Óptica\",\n",
    "        \"Cabos USB\",\n",
    "        \"Cabos de Lightning\",\n",
    "        \"Capas Laterais\",\n",
    "        \"Expansores e Ampliadores de Tela\",\n",
    "        \"GPS e Acessórios\",\n",
    "        \"Lentes\",\n",
    "        \"Som Automotivo\",\n",
    "        \"Suportes\",\n",
    "        \"Suportes de Cabeceira e Mesa\",\n",
    "    ],\n",
    "    \"ml\": [],\n",
    "}\n",
    "\n",
    "SUBCATEGORIES = {\n",
    "    \"amazon\": [\"Celulares e Smartphones\"],\n",
    "    \"ml\": [\"Celulares e Smartphones\"],\n",
    "    \"magalu\": [\n",
    "        \"xiaomi\",\n",
    "        \"celular básico\",\n",
    "        \"galaxy\",\n",
    "        \"smartphone\",\n",
    "        \"motorola\",\n",
    "        \"carregador de celular\",\n",
    "        \"moto\",\n",
    "        \"multilaser\",\n",
    "        \"poco\",\n",
    "        \"iphone\",\n",
    "        \"positivo\",\n",
    "        \"lg\",\n",
    "        \"infinix\",\n",
    "        \"nokia\",\n",
    "        \"redmi\",\n",
    "        \"tcl\",\n",
    "        \"oppo\",\n",
    "        \"asus\",\n",
    "        \"philco\",\n",
    "        \"lenovo\",\n",
    "        \"realme\",\n",
    "    ],\n",
    "    \"casasbahia\": [\n",
    "        \"celulares\",\n",
    "        \"android\",\n",
    "        \"iphone\",\n",
    "    ],\n",
    "}"
   ]
  },
  {
   "cell_type": "code",
   "execution_count": 3,
   "metadata": {},
   "outputs": [],
   "source": [
    "name = 'casasbahia'\n",
    "folder = FOLDER / name\n"
   ]
  },
  {
   "cell_type": "code",
   "execution_count": 4,
   "metadata": {},
   "outputs": [
    {
     "data": {
      "text/html": [
       "<div>\n",
       "<style scoped>\n",
       "    .dataframe tbody tr th:only-of-type {\n",
       "        vertical-align: middle;\n",
       "    }\n",
       "\n",
       "    .dataframe tbody tr th {\n",
       "        vertical-align: top;\n",
       "    }\n",
       "\n",
       "    .dataframe thead th {\n",
       "        text-align: right;\n",
       "    }\n",
       "</style>\n",
       "<table border=\"1\" class=\"dataframe\">\n",
       "  <thead>\n",
       "    <tr style=\"text-align: right;\">\n",
       "      <th></th>\n",
       "      <th>nome</th>\n",
       "      <th>preço</th>\n",
       "      <th>preço_original</th>\n",
       "      <th>avaliações</th>\n",
       "      <th>imagem</th>\n",
       "      <th>url</th>\n",
       "      <th>data</th>\n",
       "      <th>palavra_busca</th>\n",
       "      <th>página_de_busca</th>\n",
       "      <th>categoria</th>\n",
       "      <th>nota</th>\n",
       "      <th>vendedor</th>\n",
       "      <th>marca</th>\n",
       "      <th>modelo</th>\n",
       "      <th>certificado</th>\n",
       "      <th>ean_gtin</th>\n",
       "      <th>características</th>\n",
       "      <th>product_id</th>\n",
       "      <th>index</th>\n",
       "    </tr>\n",
       "  </thead>\n",
       "  <tbody>\n",
       "    <tr>\n",
       "      <th>0</th>\n",
       "      <td>Smartphone Samsung Galaxy S23 FE Tela 6.4 Octa...</td>\n",
       "      <td>4399.00</td>\n",
       "      <td>por R$ 4.399,00 ou em até 10x de R$ 439,90 sem...</td>\n",
       "      <td>&lt;NA&gt;</td>\n",
       "      <td>https://imgs.casasbahia.com.br/1567587358/1xg.jpg</td>\n",
       "      <td>https://www.casasbahia.com.br/smartphone-samsu...</td>\n",
       "      <td>2024-07-11T07:47:46</td>\n",
       "      <td>smartphone</td>\n",
       "      <td>19.0</td>\n",
       "      <td>casasbahia.com.br | Telefones e Celulares | Sm...</td>\n",
       "      <td></td>\n",
       "      <td>Primetek</td>\n",
       "      <td>Samsung</td>\n",
       "      <td>&lt;NA&gt;</td>\n",
       "      <td>&lt;NA&gt;</td>\n",
       "      <td>&lt;NA&gt;</td>\n",
       "      <td>{}</td>\n",
       "      <td>1567587358</td>\n",
       "      <td>513</td>\n",
       "    </tr>\n",
       "    <tr>\n",
       "      <th>1</th>\n",
       "      <td>Smartphone Samsung Galaxy S23 Plus 512GB 5G - ...</td>\n",
       "      <td>5639.06</td>\n",
       "      <td>por R$ 5.999,00 ou em até 10x de R$ 599,90 sem...</td>\n",
       "      <td>&lt;NA&gt;</td>\n",
       "      <td>https://imgs.casasbahia.com.br/1555435715/1xg.jpg</td>\n",
       "      <td>https://www.casasbahia.com.br/smartphone-samsu...</td>\n",
       "      <td>2024-07-11T07:48:07</td>\n",
       "      <td>smartphone</td>\n",
       "      <td>24.0</td>\n",
       "      <td>casasbahia.com.br | Telefones e Celulares | Sm...</td>\n",
       "      <td></td>\n",
       "      <td>MASTERCELL</td>\n",
       "      <td>Samsung</td>\n",
       "      <td>&lt;NA&gt;</td>\n",
       "      <td>171532200953</td>\n",
       "      <td>7892509126564</td>\n",
       "      <td>{'Número Homologação Anatel': '171532200953', ...</td>\n",
       "      <td>1555435715</td>\n",
       "      <td>1013</td>\n",
       "    </tr>\n",
       "    <tr>\n",
       "      <th>2</th>\n",
       "      <td>Smartphone INFINIX Smart 6 64 GB Câmera dupla ...</td>\n",
       "      <td>649.00</td>\n",
       "      <td>por R$ 899,00 ou em até 9x de R$ 99,89 sem jur...</td>\n",
       "      <td>&lt;NA&gt;</td>\n",
       "      <td>https://imgs.casasbahia.com.br/1547058945/1xg.jpg</td>\n",
       "      <td>https://www.casasbahia.com.br/smartphone-infin...</td>\n",
       "      <td>2024-07-11T07:48:28</td>\n",
       "      <td>smartphone</td>\n",
       "      <td>24.0</td>\n",
       "      <td>casasbahia.com.br | Telefones e Celulares | Sm...</td>\n",
       "      <td>5.0</td>\n",
       "      <td>InPower Oficial</td>\n",
       "      <td>Infinix</td>\n",
       "      <td>&lt;NA&gt;</td>\n",
       "      <td>097102203589</td>\n",
       "      <td>7908068800903</td>\n",
       "      <td>{'Tipo': 'Deslizante', 'Som': 'MP3 Player', 'G...</td>\n",
       "      <td>1547058945</td>\n",
       "      <td>360</td>\n",
       "    </tr>\n",
       "    <tr>\n",
       "      <th>3</th>\n",
       "      <td>Smartphone Samsung Galaxy A05s 4G 6.7 Polegada...</td>\n",
       "      <td>1330.90</td>\n",
       "      <td>por R$ 1.330,90 ou em até 10x de R$ 133,09 sem...</td>\n",
       "      <td>&lt;NA&gt;</td>\n",
       "      <td>https://imgs.casasbahia.com.br/1564983915/1xg.jpg</td>\n",
       "      <td>https://www.casasbahia.com.br/smartphone-samsu...</td>\n",
       "      <td>2024-07-11T07:48:58</td>\n",
       "      <td>smartphone</td>\n",
       "      <td>29.0</td>\n",
       "      <td>casasbahia.com.br | Telefones e Celulares | Sm...</td>\n",
       "      <td>5.0</td>\n",
       "      <td>Gazin</td>\n",
       "      <td>Samsung</td>\n",
       "      <td>&lt;NA&gt;</td>\n",
       "      <td>184262300953</td>\n",
       "      <td>7892509134873</td>\n",
       "      <td>{'Número Homologação Anatel': '18426-23-00953'...</td>\n",
       "      <td>1564983915</td>\n",
       "      <td>1039</td>\n",
       "    </tr>\n",
       "    <tr>\n",
       "      <th>4</th>\n",
       "      <td>Smartphone Samsung Galaxy S24 Plus 256GB 5G - ...</td>\n",
       "      <td>5357.06</td>\n",
       "      <td>por R$ 5.699,00 ou em até 10x de R$ 569,90 sem...</td>\n",
       "      <td>&lt;NA&gt;</td>\n",
       "      <td>https://imgs.casasbahia.com.br/1567835928/1xg.jpg</td>\n",
       "      <td>https://www.casasbahia.com.br/smartphone-samsu...</td>\n",
       "      <td>2024-07-11T07:49:29</td>\n",
       "      <td>smartphone</td>\n",
       "      <td>23.0</td>\n",
       "      <td>casasbahia.com.br | Telefones e Celulares | Sm...</td>\n",
       "      <td></td>\n",
       "      <td>MASTERCELL</td>\n",
       "      <td>Samsung</td>\n",
       "      <td>&lt;NA&gt;</td>\n",
       "      <td>206372300953</td>\n",
       "      <td>7892509133517</td>\n",
       "      <td>{'Número Homologação Anatel': '206372300953', ...</td>\n",
       "      <td>1567835928</td>\n",
       "      <td>1010</td>\n",
       "    </tr>\n",
       "  </tbody>\n",
       "</table>\n",
       "</div>"
      ],
      "text/plain": [
       "                                                nome     preço  \\\n",
       "0  Smartphone Samsung Galaxy S23 FE Tela 6.4 Octa...   4399.00   \n",
       "1  Smartphone Samsung Galaxy S23 Plus 512GB 5G - ...   5639.06   \n",
       "2  Smartphone INFINIX Smart 6 64 GB Câmera dupla ...    649.00   \n",
       "3  Smartphone Samsung Galaxy A05s 4G 6.7 Polegada...   1330.90   \n",
       "4  Smartphone Samsung Galaxy S24 Plus 256GB 5G - ...   5357.06   \n",
       "\n",
       "                                      preço_original avaliações  \\\n",
       "0  por R$ 4.399,00 ou em até 10x de R$ 439,90 sem...       <NA>   \n",
       "1  por R$ 5.999,00 ou em até 10x de R$ 599,90 sem...       <NA>   \n",
       "2  por R$ 899,00 ou em até 9x de R$ 99,89 sem jur...       <NA>   \n",
       "3  por R$ 1.330,90 ou em até 10x de R$ 133,09 sem...       <NA>   \n",
       "4  por R$ 5.699,00 ou em até 10x de R$ 569,90 sem...       <NA>   \n",
       "\n",
       "                                              imagem  \\\n",
       "0  https://imgs.casasbahia.com.br/1567587358/1xg.jpg   \n",
       "1  https://imgs.casasbahia.com.br/1555435715/1xg.jpg   \n",
       "2  https://imgs.casasbahia.com.br/1547058945/1xg.jpg   \n",
       "3  https://imgs.casasbahia.com.br/1564983915/1xg.jpg   \n",
       "4  https://imgs.casasbahia.com.br/1567835928/1xg.jpg   \n",
       "\n",
       "                                                 url                 data  \\\n",
       "0  https://www.casasbahia.com.br/smartphone-samsu...  2024-07-11T07:47:46   \n",
       "1  https://www.casasbahia.com.br/smartphone-samsu...  2024-07-11T07:48:07   \n",
       "2  https://www.casasbahia.com.br/smartphone-infin...  2024-07-11T07:48:28   \n",
       "3  https://www.casasbahia.com.br/smartphone-samsu...  2024-07-11T07:48:58   \n",
       "4  https://www.casasbahia.com.br/smartphone-samsu...  2024-07-11T07:49:29   \n",
       "\n",
       "  palavra_busca página_de_busca  \\\n",
       "0    smartphone            19.0   \n",
       "1    smartphone            24.0   \n",
       "2    smartphone            24.0   \n",
       "3    smartphone            29.0   \n",
       "4    smartphone            23.0   \n",
       "\n",
       "                                           categoria nota         vendedor  \\\n",
       "0  casasbahia.com.br | Telefones e Celulares | Sm...              Primetek   \n",
       "1  casasbahia.com.br | Telefones e Celulares | Sm...            MASTERCELL   \n",
       "2  casasbahia.com.br | Telefones e Celulares | Sm...  5.0  InPower Oficial   \n",
       "3  casasbahia.com.br | Telefones e Celulares | Sm...  5.0            Gazin   \n",
       "4  casasbahia.com.br | Telefones e Celulares | Sm...            MASTERCELL   \n",
       "\n",
       "     marca modelo   certificado       ean_gtin  \\\n",
       "0  Samsung   <NA>          <NA>           <NA>   \n",
       "1  Samsung   <NA>  171532200953  7892509126564   \n",
       "2  Infinix   <NA>  097102203589  7908068800903   \n",
       "3  Samsung   <NA>  184262300953  7892509134873   \n",
       "4  Samsung   <NA>  206372300953  7892509133517   \n",
       "\n",
       "                                     características  product_id index  \n",
       "0                                                 {}  1567587358   513  \n",
       "1  {'Número Homologação Anatel': '171532200953', ...  1555435715  1013  \n",
       "2  {'Tipo': 'Deslizante', 'Som': 'MP3 Player', 'G...  1547058945   360  \n",
       "3  {'Número Homologação Anatel': '18426-23-00953'...  1564983915  1039  \n",
       "4  {'Número Homologação Anatel': '206372300953', ...  1567835928  1010  "
      ]
     },
     "execution_count": 4,
     "metadata": {},
     "output_type": "execute_result"
    }
   ],
   "source": [
    "KEYWORD = \"smartphone\"\n",
    "json = folder / f\"{name}_20240711_{KEYWORD}.json\"\n",
    "df = pd.DataFrame(json.read_json().values(), dtype=\"string\")\n",
    "df.head()"
   ]
  },
  {
   "cell_type": "code",
   "execution_count": 5,
   "metadata": {},
   "outputs": [
    {
     "name": "stdout",
     "output_type": "stream",
     "text": [
      "<class 'pandas.core.frame.DataFrame'>\n",
      "RangeIndex: 73 entries, 0 to 72\n",
      "Data columns (total 19 columns):\n",
      " #   Column           Non-Null Count  Dtype \n",
      "---  ------           --------------  ----- \n",
      " 0   nome             73 non-null     string\n",
      " 1   preço            73 non-null     string\n",
      " 2   preço_original   73 non-null     string\n",
      " 3   avaliações       0 non-null      string\n",
      " 4   imagem           73 non-null     string\n",
      " 5   url              73 non-null     string\n",
      " 6   data             73 non-null     string\n",
      " 7   palavra_busca    73 non-null     string\n",
      " 8   página_de_busca  68 non-null     string\n",
      " 9   categoria        73 non-null     string\n",
      " 10  nota             73 non-null     string\n",
      " 11  vendedor         73 non-null     string\n",
      " 12  marca            73 non-null     string\n",
      " 13  modelo           10 non-null     string\n",
      " 14  certificado      26 non-null     string\n",
      " 15  ean_gtin         28 non-null     string\n",
      " 16  características  73 non-null     string\n",
      " 17  product_id       73 non-null     string\n",
      " 18  index            73 non-null     string\n",
      "dtypes: string(19)\n",
      "memory usage: 11.0 KB\n"
     ]
    }
   ],
   "source": [
    "df.info()"
   ]
  },
  {
   "cell_type": "code",
   "execution_count": 6,
   "metadata": {},
   "outputs": [],
   "source": [
    "for row in df.itertuples():\n",
    "    chrs = eval(row.características)\n",
    "    df.loc[row.Index, 'ean_gtin'] = chrs.get('Código de barras', '')"
   ]
  },
  {
   "cell_type": "code",
   "execution_count": 7,
   "metadata": {},
   "outputs": [
    {
     "data": {
      "text/plain": [
       "categoria\n",
       "casasbahia.com.br | Telefones e Celulares | Smartphones | Android                                           38\n",
       "casasbahia.com.br | Acessórios e Inovações | Acessórios para Celulares | Suporte                            18\n",
       "casasbahia.com.br | Telefones e Celulares | Celulares                                                        4\n",
       "casasbahia.com.br | Acessórios e Inovações | Acessórios para Celulares | Óculos de Realidade Virtual         3\n",
       "casasbahia.com.br | Automotivo | Motos | Componentes Elétricos                                               3\n",
       "casasbahia.com.br | Acessórios e Inovações | Acessórios para Celulares | Capa para celular                   2\n",
       "casasbahia.com.br | Acessórios e Inovações | Acessórios para Celulares | Películas e Adesivos de celular     2\n",
       "casasbahia.com.br | Marketplace | Produtos Diversos                                                          2\n",
       "casasbahia.com.br | Acessórios e Inovações | Acessórios para Celulares | Ampliador de Tela e Controles       1\n",
       "Name: count, dtype: Int64"
      ]
     },
     "execution_count": 7,
     "metadata": {},
     "output_type": "execute_result"
    }
   ],
   "source": [
    "df['categoria'].value_counts(dropna=False)"
   ]
  },
  {
   "cell_type": "code",
   "execution_count": 8,
   "metadata": {},
   "outputs": [
    {
     "data": {
      "text/html": [
       "<div>\n",
       "<style scoped>\n",
       "    .dataframe tbody tr th:only-of-type {\n",
       "        vertical-align: middle;\n",
       "    }\n",
       "\n",
       "    .dataframe tbody tr th {\n",
       "        vertical-align: top;\n",
       "    }\n",
       "\n",
       "    .dataframe thead th {\n",
       "        text-align: right;\n",
       "    }\n",
       "</style>\n",
       "<table border=\"1\" class=\"dataframe\">\n",
       "  <thead>\n",
       "    <tr style=\"text-align: right;\">\n",
       "      <th></th>\n",
       "      <th>nome</th>\n",
       "      <th>preço</th>\n",
       "      <th>preço_original</th>\n",
       "      <th>avaliações</th>\n",
       "      <th>imagem</th>\n",
       "      <th>url</th>\n",
       "      <th>data</th>\n",
       "      <th>palavra_busca</th>\n",
       "      <th>página_de_busca</th>\n",
       "      <th>categoria</th>\n",
       "      <th>nota</th>\n",
       "      <th>vendedor</th>\n",
       "      <th>marca</th>\n",
       "      <th>modelo</th>\n",
       "      <th>certificado</th>\n",
       "      <th>ean_gtin</th>\n",
       "      <th>características</th>\n",
       "      <th>product_id</th>\n",
       "      <th>index</th>\n",
       "    </tr>\n",
       "  </thead>\n",
       "  <tbody>\n",
       "  </tbody>\n",
       "</table>\n",
       "</div>"
      ],
      "text/plain": [
       "Empty DataFrame\n",
       "Columns: [nome, preço, preço_original, avaliações, imagem, url, data, palavra_busca, página_de_busca, categoria, nota, vendedor, marca, modelo, certificado, ean_gtin, características, product_id, index]\n",
       "Index: []"
      ]
     },
     "execution_count": 8,
     "metadata": {},
     "output_type": "execute_result"
    }
   ],
   "source": [
    "df[df['categoria'].isna()]"
   ]
  },
  {
   "cell_type": "code",
   "execution_count": 9,
   "metadata": {},
   "outputs": [],
   "source": [
    "df.loc[df[\"categoria\"] == \"[]\", 'categoria'] = pd.NA"
   ]
  },
  {
   "cell_type": "code",
   "execution_count": 10,
   "metadata": {},
   "outputs": [],
   "source": [
    "columns = [\"nome\", \"categoria\", \"url\"]\n",
    "for column in columns:\n",
    "    for row in df[df[column].isna()].itertuples():\n",
    "        if (file := FOLDER / \"screenshots\" / f\"{row.screenshot}\").is_file():\n",
    "            print(f\"Deleting {file}\")\n",
    "            file.unlink()\n",
    "    df = df.dropna(subset=column).reset_index(drop=True)\n"
   ]
  },
  {
   "cell_type": "code",
   "execution_count": 11,
   "metadata": {},
   "outputs": [
    {
     "data": {
      "text/plain": [
       "certificado\n",
       "<NA>            47\n",
       "235492300953     4\n",
       "206372300953     3\n",
       "203902300953     2\n",
       "198242300953     2\n",
       "184262300953     1\n",
       "171532200953     1\n",
       "097102203589     1\n",
       "027332300330     1\n",
       "032192400330     1\n",
       "183972100330     1\n",
       "011672103111     1\n",
       "064572400330     1\n",
       "046072213411     1\n",
       "139732300953     1\n",
       "032322200953     1\n",
       "217522314550     1\n",
       "206672300330     1\n",
       "198292300953     1\n",
       "147632207600     1\n",
       "Name: count, dtype: Int64"
      ]
     },
     "execution_count": 11,
     "metadata": {},
     "output_type": "execute_result"
    }
   ],
   "source": [
    "df[\"certificado\"].value_counts(dropna=False)"
   ]
  },
  {
   "cell_type": "code",
   "execution_count": 12,
   "metadata": {},
   "outputs": [
    {
     "data": {
      "text/plain": [
       "ean_gtin\n",
       "<NA>    73\n",
       "Name: count, dtype: Int64"
      ]
     },
     "execution_count": 12,
     "metadata": {},
     "output_type": "execute_result"
    }
   ],
   "source": [
    "df.loc[df[\"ean_gtin\"] == \"\", 'ean_gtin'] = pd.NA\n",
    "df[\"ean_gtin\"].value_counts(dropna=False)\n"
   ]
  },
  {
   "cell_type": "code",
   "execution_count": 13,
   "metadata": {},
   "outputs": [
    {
     "name": "stdout",
     "output_type": "stream",
     "text": [
      "4\n"
     ]
    }
   ],
   "source": [
    "categories = df[\"categoria\"].str.split(\"|\", expand=True)\n",
    "categories.columns = [f\"categoria_{c}\" for c in categories.columns]\n",
    "print(len(categories.columns))\n",
    "for cat in categories:\n",
    "    categories[cat] = categories[cat].str.strip()\n",
    "df = pd.concat([df, categories], axis=1)"
   ]
  },
  {
   "cell_type": "code",
   "execution_count": 14,
   "metadata": {},
   "outputs": [],
   "source": [
    "for cat in categories.columns:\n",
    "    condition = df[cat].notna()\n",
    "    df.loc[condition, \"subcategoria\"] = df.loc[condition, cat]"
   ]
  },
  {
   "cell_type": "code",
   "execution_count": 15,
   "metadata": {},
   "outputs": [
    {
     "data": {
      "text/plain": [
       "categoria_0\n",
       "casasbahia.com.br    73\n",
       "Name: count, dtype: Int64"
      ]
     },
     "execution_count": 15,
     "metadata": {},
     "output_type": "execute_result"
    }
   ],
   "source": [
    "df[\"categoria_0\"].value_counts(dropna=False)"
   ]
  },
  {
   "cell_type": "code",
   "execution_count": 16,
   "metadata": {},
   "outputs": [
    {
     "data": {
      "text/plain": [
       "categoria_1\n",
       "Telefones e Celulares     42\n",
       "Acessórios e Inovações    26\n",
       "Automotivo                 3\n",
       "Marketplace                2\n",
       "Name: count, dtype: Int64"
      ]
     },
     "execution_count": 16,
     "metadata": {},
     "output_type": "execute_result"
    }
   ],
   "source": [
    "df[\"categoria_1\"].value_counts(dropna=False)"
   ]
  },
  {
   "cell_type": "code",
   "execution_count": 17,
   "metadata": {},
   "outputs": [
    {
     "data": {
      "text/plain": [
       "categoria_2\n",
       "Smartphones                  38\n",
       "Acessórios para Celulares    26\n",
       "Celulares                     4\n",
       "Motos                         3\n",
       "Produtos Diversos             2\n",
       "Name: count, dtype: Int64"
      ]
     },
     "execution_count": 17,
     "metadata": {},
     "output_type": "execute_result"
    }
   ],
   "source": [
    "df[\"categoria_2\"].value_counts(dropna=False)"
   ]
  },
  {
   "cell_type": "code",
   "execution_count": 18,
   "metadata": {},
   "outputs": [
    {
     "data": {
      "text/plain": [
       "categoria_3\n",
       "Android                            38\n",
       "Suporte                            18\n",
       "<NA>                                6\n",
       "Óculos de Realidade Virtual         3\n",
       "Componentes Elétricos               3\n",
       "Capa para celular                   2\n",
       "Películas e Adesivos de celular     2\n",
       "Ampliador de Tela e Controles       1\n",
       "Name: count, dtype: Int64"
      ]
     },
     "execution_count": 18,
     "metadata": {},
     "output_type": "execute_result"
    }
   ],
   "source": [
    "df[\"categoria_3\"].value_counts(dropna=False)"
   ]
  },
  {
   "cell_type": "code",
   "execution_count": 19,
   "metadata": {},
   "outputs": [],
   "source": [
    "# df[\"categoria_4\"].value_counts(dropna=False)"
   ]
  },
  {
   "cell_type": "code",
   "execution_count": 19,
   "metadata": {},
   "outputs": [
    {
     "data": {
      "text/plain": [
       "subcategoria\n",
       "Android                            0.520548\n",
       "Suporte                            0.246575\n",
       "Celulares                          0.054795\n",
       "Óculos de Realidade Virtual        0.041096\n",
       "Componentes Elétricos              0.041096\n",
       "Capa para celular                  0.027397\n",
       "Películas e Adesivos de celular    0.027397\n",
       "Produtos Diversos                  0.027397\n",
       "Ampliador de Tela e Controles      0.013699\n",
       "Name: proportion, dtype: Float64"
      ]
     },
     "execution_count": 19,
     "metadata": {},
     "output_type": "execute_result"
    }
   ],
   "source": [
    "df[\"subcategoria\"].value_counts(dropna=False, normalize=True)"
   ]
  },
  {
   "cell_type": "code",
   "execution_count": 21,
   "metadata": {},
   "outputs": [],
   "source": [
    "for cat in SUBCATEGORIES['casasbahia']:\n",
    "    df.loc[df[\"subcategoria\"].str.lower().str.contains(cat), \"subcategoria\"] = \"Celulares e Smartphones\"\n"
   ]
  },
  {
   "cell_type": "code",
   "execution_count": 22,
   "metadata": {},
   "outputs": [
    {
     "data": {
      "text/plain": [
       "subcategoria\n",
       "Celulares e Smartphones            0.575342\n",
       "Suporte                            0.246575\n",
       "Óculos de Realidade Virtual        0.041096\n",
       "Componentes Elétricos              0.041096\n",
       "Capa para celular                  0.027397\n",
       "Películas e Adesivos de celular    0.027397\n",
       "Produtos Diversos                  0.027397\n",
       "Ampliador de Tela e Controles      0.013699\n",
       "Name: proportion, dtype: Float64"
      ]
     },
     "execution_count": 22,
     "metadata": {},
     "output_type": "execute_result"
    }
   ],
   "source": [
    "df[\"subcategoria\"].value_counts(dropna=False, normalize=True)"
   ]
  },
  {
   "cell_type": "code",
   "execution_count": 23,
   "metadata": {},
   "outputs": [],
   "source": [
    "df = df[df[\"subcategoria\"] == \"Celulares e Smartphones\"]"
   ]
  },
  {
   "cell_type": "code",
   "execution_count": 25,
   "metadata": {},
   "outputs": [
    {
     "name": "stdout",
     "output_type": "stream",
     "text": [
      "<class 'pandas.core.frame.DataFrame'>\n",
      "Index: 42 entries, 0 to 71\n",
      "Data columns (total 24 columns):\n",
      " #   Column           Non-Null Count  Dtype \n",
      "---  ------           --------------  ----- \n",
      " 0   nome             42 non-null     string\n",
      " 1   preço            42 non-null     string\n",
      " 2   preço_original   42 non-null     string\n",
      " 3   avaliações       0 non-null      string\n",
      " 4   imagem           42 non-null     string\n",
      " 5   url              42 non-null     string\n",
      " 6   data             42 non-null     string\n",
      " 7   palavra_busca    42 non-null     string\n",
      " 8   página_de_busca  41 non-null     string\n",
      " 9   categoria        42 non-null     string\n",
      " 10  nota             42 non-null     string\n",
      " 11  vendedor         42 non-null     string\n",
      " 12  marca            42 non-null     string\n",
      " 13  modelo           10 non-null     string\n",
      " 14  certificado      26 non-null     string\n",
      " 15  ean_gtin         0 non-null      string\n",
      " 16  características  42 non-null     string\n",
      " 17  product_id       42 non-null     string\n",
      " 18  index            42 non-null     string\n",
      " 19  categoria_0      42 non-null     string\n",
      " 20  categoria_1      42 non-null     string\n",
      " 21  categoria_2      42 non-null     string\n",
      " 22  categoria_3      38 non-null     string\n",
      " 23  subcategoria     42 non-null     string\n",
      "dtypes: string(24)\n",
      "memory usage: 8.2 KB\n"
     ]
    }
   ],
   "source": [
    "df.info()"
   ]
  },
  {
   "cell_type": "markdown",
   "metadata": {},
   "source": [
    "## Formatação"
   ]
  },
  {
   "cell_type": "code",
   "execution_count": 23,
   "metadata": {},
   "outputs": [],
   "source": [
    "df['Item'] = df.index.to_list()"
   ]
  },
  {
   "cell_type": "code",
   "execution_count": 24,
   "metadata": {},
   "outputs": [],
   "source": [
    "df[\"Data da Coleta\"] = pd.to_datetime(df[\"data\"], format=\"mixed\").dt.strftime(\"%d/%m/%Y\")"
   ]
  },
  {
   "cell_type": "code",
   "execution_count": 25,
   "metadata": {},
   "outputs": [],
   "source": [
    "discard = df[\"certificado\"].isna() & ~(df[\"subcategoria\"] == \"Celulares e Smartphones\")"
   ]
  },
  {
   "cell_type": "code",
   "execution_count": 26,
   "metadata": {},
   "outputs": [],
   "source": [
    "df = df[~discard]"
   ]
  },
  {
   "cell_type": "code",
   "execution_count": 27,
   "metadata": {},
   "outputs": [],
   "source": [
    "# column = \"O tipo do produto é de uso proibido no Brasil?\"\n",
    "# df[column] = \"Não\""
   ]
  },
  {
   "cell_type": "code",
   "execution_count": 28,
   "metadata": {},
   "outputs": [],
   "source": [
    "# column = \"O produto é passível de homologação na Anatel? (Sim ou Não)\"\n",
    "# df[column] = \"Sim\"\n",
    "# df.loc[discard, column] = \"Não\"\n"
   ]
  },
  {
   "cell_type": "code",
   "execution_count": 29,
   "metadata": {},
   "outputs": [],
   "source": [
    "column = \"Número de Unidades à Venda\"\n",
    "df[column] = \"Não Informado\""
   ]
  },
  {
   "cell_type": "code",
   "execution_count": 30,
   "metadata": {},
   "outputs": [],
   "source": [
    "columns = [\"Existe o campo código de homologação no anúncio? (Sim ou Não)\",\n",
    "           \"O código de homologação foi fornecido? (Sim ou Não)\"]\n",
    "for column in columns:\n",
    "    df[column] = \"Sim\"\n",
    "    df.loc[df[\"certificado\"].isna(), column] = \"Não\"\n"
   ]
  },
  {
   "cell_type": "code",
   "execution_count": 31,
   "metadata": {},
   "outputs": [],
   "source": [
    "columns = [\n",
    "    \"O produto é homologado? (Sim, Não e N.A.)\",\n",
    "    \"Validação do código de homologação - O código de homologação fornecido é o do produto anunciado? (Sim, Não, N.A.)\",\n",
    "]\n",
    "for column in columns:\n",
    "    df[column] = \"\"\n"
   ]
  },
  {
   "cell_type": "code",
   "execution_count": 32,
   "metadata": {},
   "outputs": [],
   "source": [
    "column = \"O código EAN foi fornecido? (Sim ou Não) - Apenas para Smartphones.\"\n",
    "df[column] = \"Sim\"\n",
    "df.loc[df['ean_gtin'].isna(), column] = \"Não\"\n"
   ]
  },
  {
   "cell_type": "code",
   "execution_count": 33,
   "metadata": {},
   "outputs": [],
   "source": [
    "column = \"O código EAN fornecido corresponde ao produto? (Sim ou Não) -  Apenas para Smartphones.\"\n",
    "df[column] = \"\""
   ]
  },
  {
   "cell_type": "code",
   "execution_count": 34,
   "metadata": {},
   "outputs": [],
   "source": [
    "df.rename(\n",
    "    columns={\n",
    "        \"palavra_busca\": \"Texto da Busca\",\n",
    "        \"screenshot\": \"Arquivo da Página\",\n",
    "        \"url\": \"Endereço eletrônico (URL)\",\n",
    "        \"nome\": \"Descrição do produto no anúncio\",\n",
    "        \"subcategoria\": \"Tipo do Produto\",\n",
    "        \"marca\": \"Fabricante\",\n",
    "        \"modelo\": \"Modelo do Produto\",\n",
    "        \"preço\": \"Valor do Produto (R$)\",\n",
    "        \"certificado\": \"Observação 1 - Qual Código de Homologação fornecido no anúncio?\"\n",
    "    },\n",
    "    inplace=True,\n",
    ")\n"
   ]
  },
  {
   "cell_type": "code",
   "execution_count": 35,
   "metadata": {},
   "outputs": [],
   "source": [
    "COLUNAS = [\n",
    "    \"Item\",\n",
    "    \"Texto da Busca\",\n",
    "    \"Arquivo da Página\",\n",
    "    \"Data da Coleta\",\n",
    "    \"Endereço eletrônico (URL)\",\n",
    "    \"Descrição do produto no anúncio\",\n",
    "    # \"O tipo do produto é de uso proibido no Brasil?\",\n",
    "    # \"O produto é passível de homologação na Anatel? (Sim ou Não)\",\n",
    "    \"Tipo do Produto\",\n",
    "    \"Fabricante\",\n",
    "    \"Modelo do Produto\",\n",
    "    \"Valor do Produto (R$)\",\n",
    "    \"Número de Unidades à Venda\",\n",
    "    \"Existe o campo código de homologação no anúncio? (Sim ou Não)\",\n",
    "    \"O código de homologação foi fornecido? (Sim ou Não)\",\n",
    "    \"O produto é homologado? (Sim, Não e N.A.)\",\n",
    "    \"Validação do código de homologação - O código de homologação fornecido é o do produto anunciado? (Sim, Não, N.A.)\",\n",
    "    \"O código EAN foi fornecido? (Sim ou Não) - Apenas para Smartphones.\",\n",
    "    \"O código EAN fornecido corresponde ao produto? (Sim ou Não) -  Apenas para Smartphones.\",\n",
    "    \"Observação 1 - Qual Código de Homologação fornecido no anúncio?\",\n",
    "]\n"
   ]
  },
  {
   "cell_type": "code",
   "execution_count": 36,
   "metadata": {},
   "outputs": [],
   "source": [
    "df = df[COLUNAS] #.sample(78)"
   ]
  },
  {
   "cell_type": "code",
   "execution_count": 37,
   "metadata": {},
   "outputs": [],
   "source": [
    "writer = pd.ExcelWriter(\n",
    "    json.with_suffix(\".xlsx\"),\n",
    "    engine=\"xlsxwriter\",\n",
    "    engine_kwargs={\"options\": {\"strings_to_urls\": True}},\n",
    ")\n"
   ]
  },
  {
   "cell_type": "code",
   "execution_count": 38,
   "metadata": {},
   "outputs": [],
   "source": [
    "sheet_name = f\"{name}-smartphone\"\n",
    "df.to_excel(writer, sheet_name=sheet_name, engine=\"xlsxwriter\", index=False)\n"
   ]
  },
  {
   "cell_type": "code",
   "execution_count": 39,
   "metadata": {},
   "outputs": [],
   "source": [
    "workbook = writer.book\n",
    "worksheet = writer.sheets[sheet_name]\n",
    "# Make the columns wider for clarity.\n",
    "worksheet.autofit()\n",
    "worksheet.set_default_row(hide_unused_rows=True)\n",
    "# Freeze the first row\n",
    "worksheet.freeze_panes(1, 0)\n",
    "        "
   ]
  },
  {
   "cell_type": "code",
   "execution_count": 40,
   "metadata": {},
   "outputs": [],
   "source": [
    "PREFIX = \"https://anatel365.sharepoint.com/sites/Desenvolvimentodeappfiscalizaoe-commerce/Documentos%20Compartilhados/General/Resultados/screenshots/\"\n",
    "for i, link in enumerate(df[\"Arquivo da Página\"], start=2):\n",
    "    pdf = PREFIX + link\n",
    "    worksheet.write_url(f\"C{i}\", pdf, string=link)\n"
   ]
  },
  {
   "cell_type": "code",
   "execution_count": 41,
   "metadata": {},
   "outputs": [],
   "source": [
    "writer.close()"
   ]
  }
 ],
 "metadata": {
  "kernelspec": {
   "display_name": "reg_dados",
   "language": "python",
   "name": "python3"
  },
  "language_info": {
   "codemirror_mode": {
    "name": "ipython",
    "version": 3
   },
   "file_extension": ".py",
   "mimetype": "text/x-python",
   "name": "python",
   "nbconvert_exporter": "python",
   "pygments_lexer": "ipython3",
   "version": "3.12.4"
  }
 },
 "nbformat": 4,
 "nbformat_minor": 2
}
