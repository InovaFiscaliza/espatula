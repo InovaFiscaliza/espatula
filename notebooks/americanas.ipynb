{
 "cells": [
  {
   "cell_type": "code",
   "execution_count": 1,
   "metadata": {},
   "outputs": [
    {
     "data": {
      "text/plain": [
       "(#9) [Path('D:/OneDrive - ANATEL/Regulatron/Resultados/amazon'),Path('D:/OneDrive - ANATEL/Regulatron/Resultados/americanas'),Path('D:/OneDrive - ANATEL/Regulatron/Resultados/carrefour'),Path('D:/OneDrive - ANATEL/Regulatron/Resultados/casasbahia'),Path('D:/OneDrive - ANATEL/Regulatron/Resultados/lista_celulares_homologados_EAN_09_05 2.xlsx'),Path('D:/OneDrive - ANATEL/Regulatron/Resultados/magalu'),Path('D:/OneDrive - ANATEL/Regulatron/Resultados/ml'),Path('D:/OneDrive - ANATEL/Regulatron/Resultados/screenshots'),Path('D:/OneDrive - ANATEL/Regulatron/Resultados/shopee')]"
      ]
     },
     "execution_count": 1,
     "metadata": {},
     "output_type": "execute_result"
    }
   ],
   "source": [
    "from datetime import datetime\n",
    "from fastcore.xtras import Path\n",
    "import pandas as pd\n",
    "from IPython.display import display\n",
    "import xlsxwriter\n",
    "\n",
    "\n",
    "FOLDER = Path(r\"D:\\OneDrive - ANATEL\\Regulatron\\Resultados\")\n",
    "FOLDER.ls()\n"
   ]
  },
  {
   "cell_type": "code",
   "execution_count": 2,
   "metadata": {},
   "outputs": [],
   "source": [
    "TO_DISCARD = {\n",
    "    \"amazon\": [\n",
    "        \"Acessórios de Carros\",\n",
    "        \"Antenas\",\n",
    "        \"Apoios\",\n",
    "        \"Binóculos, Telescópios e Óptica\",\n",
    "        \"Cabos USB\",\n",
    "        \"Cabos de Lightning\",\n",
    "        \"Capas Laterais\",\n",
    "        \"Expansores e Ampliadores de Tela\",\n",
    "        \"GPS e Acessórios\",\n",
    "        \"Lentes\",\n",
    "        \"Som Automotivo\",\n",
    "        \"Suportes\",\n",
    "        \"Suportes de Cabeceira e Mesa\",\n",
    "    ],\n",
    "    \"ml\": [],\n",
    "}\n",
    "\n",
    "SUBCATEGORIES = {\n",
    "    \"amazon\": [\"Celulares e Smartphones\"],\n",
    "    \"ml\": [\"Celulares e Smartphones\"],\n",
    "    \"magalu\": [\n",
    "        \"xiaomi\",\n",
    "        \"celular básico\",\n",
    "        \"galaxy\",\n",
    "        \"smartphone\",\n",
    "        \"motorola\",\n",
    "        \"carregador de celular\",\n",
    "        \"moto\",\n",
    "        \"multilaser\",\n",
    "        \"poco\",\n",
    "        \"iphone\",\n",
    "        \"positivo\",\n",
    "        \"lg\",\n",
    "        \"infinix\",\n",
    "        \"nokia\",\n",
    "        \"redmi\",\n",
    "        \"tcl\",\n",
    "        \"oppo\",\n",
    "        \"asus\",\n",
    "        \"philco\",\n",
    "        \"lenovo\",\n",
    "        \"realme\",\n",
    "    ],\n",
    "}"
   ]
  },
  {
   "cell_type": "code",
   "execution_count": 3,
   "metadata": {},
   "outputs": [],
   "source": [
    "name = 'americanas'\n",
    "folder = FOLDER / name\n"
   ]
  },
  {
   "cell_type": "code",
   "execution_count": 4,
   "metadata": {},
   "outputs": [
    {
     "data": {
      "text/html": [
       "<div>\n",
       "<style scoped>\n",
       "    .dataframe tbody tr th:only-of-type {\n",
       "        vertical-align: middle;\n",
       "    }\n",
       "\n",
       "    .dataframe tbody tr th {\n",
       "        vertical-align: top;\n",
       "    }\n",
       "\n",
       "    .dataframe thead th {\n",
       "        text-align: right;\n",
       "    }\n",
       "</style>\n",
       "<table border=\"1\" class=\"dataframe\">\n",
       "  <thead>\n",
       "    <tr style=\"text-align: right;\">\n",
       "      <th></th>\n",
       "      <th>nome</th>\n",
       "      <th>preço</th>\n",
       "      <th>preço_original</th>\n",
       "      <th>avaliações</th>\n",
       "      <th>imagem</th>\n",
       "      <th>url</th>\n",
       "      <th>data</th>\n",
       "      <th>palavra_busca</th>\n",
       "      <th>página_de_busca</th>\n",
       "      <th>categoria</th>\n",
       "      <th>marca</th>\n",
       "      <th>modelo</th>\n",
       "      <th>certificado</th>\n",
       "      <th>ean_gtin</th>\n",
       "      <th>características</th>\n",
       "      <th>product_id</th>\n",
       "      <th>screenshot</th>\n",
       "      <th>index</th>\n",
       "    </tr>\n",
       "  </thead>\n",
       "  <tbody>\n",
       "    <tr>\n",
       "      <th>0</th>\n",
       "      <td>Smartphone Samsung Galaxy A25 5G 128GB 6GB ram...</td>\n",
       "      <td>1257.15</td>\n",
       "      <td>R$ 1.479,00</td>\n",
       "      <td>4 avaliações</td>\n",
       "      <td>https://images-americanas.b2w.io/produtos/7495...</td>\n",
       "      <td>https://www.americanas.com.br/produto/74953738...</td>\n",
       "      <td>2024-07-09T07:30:38</td>\n",
       "      <td>smartphone</td>\n",
       "      <td>3.0</td>\n",
       "      <td>página inicial | celulares e smartphones | sma...</td>\n",
       "      <td>Samsung</td>\n",
       "      <td>A25</td>\n",
       "      <td>198292300953</td>\n",
       "      <td>&lt;NA&gt;</td>\n",
       "      <td>{'Código': '7495373812', 'Código de barras': '...</td>\n",
       "      <td>7495373812</td>\n",
       "      <td>americanas_20240709_7495373812.pdf</td>\n",
       "      <td>2096</td>\n",
       "    </tr>\n",
       "    <tr>\n",
       "      <th>1</th>\n",
       "      <td>Smartphone 13C 256GB 8GB ram amoled 6.71 Verde</td>\n",
       "      <td>&lt;NA&gt;</td>\n",
       "      <td>R$ 1.210,00</td>\n",
       "      <td>sem avaliações</td>\n",
       "      <td>https://images-americanas.b2w.io/produtos/7499...</td>\n",
       "      <td>https://www.americanas.com.br/produto/74994314...</td>\n",
       "      <td>2024-07-09T07:30:54</td>\n",
       "      <td>smartphone</td>\n",
       "      <td>&lt;NA&gt;</td>\n",
       "      <td>página inicial | celulares e smartphones | sma...</td>\n",
       "      <td>Mi</td>\n",
       "      <td>Smartphone 13c 256gb 8gb ram amoled 6.71 verde</td>\n",
       "      <td>113482109185</td>\n",
       "      <td>&lt;NA&gt;</td>\n",
       "      <td>{'Código': '7499431472', 'Código de barras': '...</td>\n",
       "      <td>7499431472</td>\n",
       "      <td>americanas_20240709_7499431472.pdf</td>\n",
       "      <td>205</td>\n",
       "    </tr>\n",
       "    <tr>\n",
       "      <th>2</th>\n",
       "      <td>Smartphone Multilaser G max 2 64gb Dual Chip C...</td>\n",
       "      <td>490.05</td>\n",
       "      <td>&lt;NA&gt;</td>\n",
       "      <td>sem avaliações</td>\n",
       "      <td>https://images-americanas.b2w.io/produtos/7487...</td>\n",
       "      <td>https://www.americanas.com.br/produto/74874499...</td>\n",
       "      <td>2024-07-09T07:31:09</td>\n",
       "      <td>smartphone</td>\n",
       "      <td>&lt;NA&gt;</td>\n",
       "      <td>página inicial | celulares e smartphones | sma...</td>\n",
       "      <td>Multilaser</td>\n",
       "      <td>&lt;NA&gt;</td>\n",
       "      <td>048382203111</td>\n",
       "      <td>&lt;NA&gt;</td>\n",
       "      <td>{'Código': '7487449992', 'Código de barras': '...</td>\n",
       "      <td>7487449992</td>\n",
       "      <td>americanas_20240709_7487449992.pdf</td>\n",
       "      <td>857</td>\n",
       "    </tr>\n",
       "    <tr>\n",
       "      <th>3</th>\n",
       "      <td>Smartphone Xaiomi Redmi Note 13 4G 256gb - 8gb...</td>\n",
       "      <td>1346.39</td>\n",
       "      <td>R$ 1.529,99</td>\n",
       "      <td>sem avaliações</td>\n",
       "      <td>https://images-americanas.b2w.io/produtos/7495...</td>\n",
       "      <td>https://www.americanas.com.br/produto/74954022...</td>\n",
       "      <td>2024-07-09T07:31:26</td>\n",
       "      <td>smartphone</td>\n",
       "      <td>&lt;NA&gt;</td>\n",
       "      <td>página inicial | celulares e smartphones | sma...</td>\n",
       "      <td>&lt;NA&gt;</td>\n",
       "      <td>&lt;NA&gt;</td>\n",
       "      <td>221962314550</td>\n",
       "      <td>&lt;NA&gt;</td>\n",
       "      <td>{'Código': '7495402232', 'Código de barras': '...</td>\n",
       "      <td>7495402232</td>\n",
       "      <td>americanas_20240709_7495402232.pdf</td>\n",
       "      <td>1442</td>\n",
       "    </tr>\n",
       "    <tr>\n",
       "      <th>4</th>\n",
       "      <td>Smartphone G2 Max 4G Preto Multilaser 128GB/4G...</td>\n",
       "      <td>750.00</td>\n",
       "      <td>&lt;NA&gt;</td>\n",
       "      <td>sem avaliações</td>\n",
       "      <td>https://images-americanas.b2w.io/produtos/7498...</td>\n",
       "      <td>https://www.americanas.com.br/produto/74982197...</td>\n",
       "      <td>2024-07-09T07:31:52</td>\n",
       "      <td>smartphone</td>\n",
       "      <td>&lt;NA&gt;</td>\n",
       "      <td>página inicial | celulares e smartphones | sma...</td>\n",
       "      <td>&lt;NA&gt;</td>\n",
       "      <td>&lt;NA&gt;</td>\n",
       "      <td>048382203111</td>\n",
       "      <td>&lt;NA&gt;</td>\n",
       "      <td>{'Código': '7498219760', 'Código de barras': '...</td>\n",
       "      <td>7498219760</td>\n",
       "      <td>americanas_20240709_7498219760.pdf</td>\n",
       "      <td>970</td>\n",
       "    </tr>\n",
       "  </tbody>\n",
       "</table>\n",
       "</div>"
      ],
      "text/plain": [
       "                                                nome     preço preço_original  \\\n",
       "0  Smartphone Samsung Galaxy A25 5G 128GB 6GB ram...   1257.15    R$ 1.479,00   \n",
       "1     Smartphone 13C 256GB 8GB ram amoled 6.71 Verde      <NA>    R$ 1.210,00   \n",
       "2  Smartphone Multilaser G max 2 64gb Dual Chip C...    490.05           <NA>   \n",
       "3  Smartphone Xaiomi Redmi Note 13 4G 256gb - 8gb...   1346.39    R$ 1.529,99   \n",
       "4  Smartphone G2 Max 4G Preto Multilaser 128GB/4G...    750.00           <NA>   \n",
       "\n",
       "       avaliações                                             imagem  \\\n",
       "0    4 avaliações  https://images-americanas.b2w.io/produtos/7495...   \n",
       "1  sem avaliações  https://images-americanas.b2w.io/produtos/7499...   \n",
       "2  sem avaliações  https://images-americanas.b2w.io/produtos/7487...   \n",
       "3  sem avaliações  https://images-americanas.b2w.io/produtos/7495...   \n",
       "4  sem avaliações  https://images-americanas.b2w.io/produtos/7498...   \n",
       "\n",
       "                                                 url                 data  \\\n",
       "0  https://www.americanas.com.br/produto/74953738...  2024-07-09T07:30:38   \n",
       "1  https://www.americanas.com.br/produto/74994314...  2024-07-09T07:30:54   \n",
       "2  https://www.americanas.com.br/produto/74874499...  2024-07-09T07:31:09   \n",
       "3  https://www.americanas.com.br/produto/74954022...  2024-07-09T07:31:26   \n",
       "4  https://www.americanas.com.br/produto/74982197...  2024-07-09T07:31:52   \n",
       "\n",
       "  palavra_busca página_de_busca  \\\n",
       "0    smartphone             3.0   \n",
       "1    smartphone            <NA>   \n",
       "2    smartphone            <NA>   \n",
       "3    smartphone            <NA>   \n",
       "4    smartphone            <NA>   \n",
       "\n",
       "                                           categoria       marca  \\\n",
       "0  página inicial | celulares e smartphones | sma...     Samsung   \n",
       "1  página inicial | celulares e smartphones | sma...          Mi   \n",
       "2  página inicial | celulares e smartphones | sma...  Multilaser   \n",
       "3  página inicial | celulares e smartphones | sma...        <NA>   \n",
       "4  página inicial | celulares e smartphones | sma...        <NA>   \n",
       "\n",
       "                                           modelo   certificado ean_gtin  \\\n",
       "0                                             A25  198292300953     <NA>   \n",
       "1  Smartphone 13c 256gb 8gb ram amoled 6.71 verde  113482109185     <NA>   \n",
       "2                                            <NA>  048382203111     <NA>   \n",
       "3                                            <NA>  221962314550     <NA>   \n",
       "4                                            <NA>  048382203111     <NA>   \n",
       "\n",
       "                                     características  product_id  \\\n",
       "0  {'Código': '7495373812', 'Código de barras': '...  7495373812   \n",
       "1  {'Código': '7499431472', 'Código de barras': '...  7499431472   \n",
       "2  {'Código': '7487449992', 'Código de barras': '...  7487449992   \n",
       "3  {'Código': '7495402232', 'Código de barras': '...  7495402232   \n",
       "4  {'Código': '7498219760', 'Código de barras': '...  7498219760   \n",
       "\n",
       "                           screenshot index  \n",
       "0  americanas_20240709_7495373812.pdf  2096  \n",
       "1  americanas_20240709_7499431472.pdf   205  \n",
       "2  americanas_20240709_7487449992.pdf   857  \n",
       "3  americanas_20240709_7495402232.pdf  1442  \n",
       "4  americanas_20240709_7498219760.pdf   970  "
      ]
     },
     "execution_count": 4,
     "metadata": {},
     "output_type": "execute_result"
    }
   ],
   "source": [
    "KEYWORD = \"smartphone\"\n",
    "json = folder / f\"{name}_20240709_{KEYWORD}.json\"\n",
    "df = pd.DataFrame(json.read_json().values(), dtype=\"string\")\n",
    "df.head()"
   ]
  },
  {
   "cell_type": "code",
   "execution_count": 5,
   "metadata": {},
   "outputs": [
    {
     "name": "stdout",
     "output_type": "stream",
     "text": [
      "<class 'pandas.core.frame.DataFrame'>\n",
      "RangeIndex: 72 entries, 0 to 71\n",
      "Data columns (total 18 columns):\n",
      " #   Column           Non-Null Count  Dtype \n",
      "---  ------           --------------  ----- \n",
      " 0   nome             72 non-null     string\n",
      " 1   preço            69 non-null     string\n",
      " 2   preço_original   43 non-null     string\n",
      " 3   avaliações       72 non-null     string\n",
      " 4   imagem           72 non-null     string\n",
      " 5   url              72 non-null     string\n",
      " 6   data             72 non-null     string\n",
      " 7   palavra_busca    72 non-null     string\n",
      " 8   página_de_busca  23 non-null     string\n",
      " 9   categoria        72 non-null     string\n",
      " 10  marca            51 non-null     string\n",
      " 11  modelo           31 non-null     string\n",
      " 12  certificado      72 non-null     string\n",
      " 13  ean_gtin         0 non-null      string\n",
      " 14  características  72 non-null     string\n",
      " 15  product_id       72 non-null     string\n",
      " 16  screenshot       72 non-null     string\n",
      " 17  index            72 non-null     string\n",
      "dtypes: string(18)\n",
      "memory usage: 10.3 KB\n"
     ]
    }
   ],
   "source": [
    "df.info()"
   ]
  },
  {
   "cell_type": "code",
   "execution_count": 6,
   "metadata": {},
   "outputs": [],
   "source": [
    "for row in df.itertuples():\n",
    "    chrs = eval(row.características)\n",
    "    df.loc[row.Index, 'ean_gtin'] = chrs.get('Código de barras', '')"
   ]
  },
  {
   "cell_type": "code",
   "execution_count": 7,
   "metadata": {},
   "outputs": [
    {
     "data": {
      "text/plain": [
       "categoria\n",
       "página inicial | celulares e smartphones | smartphone | multilaser                                         10\n",
       "página inicial | celulares e smartphones | smartphone | samsung galaxy | galaxy a | galaxy a25 5g           5\n",
       "página inicial | celulares e smartphones | smartphone | lg | lg k | lg k11+                                 5\n",
       "página inicial | celulares e smartphones | smartphone | motorola                                            4\n",
       "página inicial | celulares e smartphones | smartphone | samsung galaxy | galaxy s | galaxy s9               4\n",
       "página inicial | celulares e smartphones | smartphone                                                       4\n",
       "página inicial | celulares e smartphones | smartphone | motorola | moto g | moto g04                        2\n",
       "página inicial | celulares e smartphones | smartphone | xiaomi                                              2\n",
       "página inicial | celulares e smartphones | smartphone | motorola | moto g | moto g24                        2\n",
       "página inicial | celulares e smartphones | smartphone | motorola | moto g | moto g54                        2\n",
       "página inicial | celulares e smartphones | smartphone | infinix | infinix zero                              2\n",
       "página inicial | celulares e smartphones | smartphone | samsung galaxy | galaxy a | galaxy a05              2\n",
       "página inicial | celulares e smartphones | smartphone | realme | realme 8                                   2\n",
       "página inicial | celulares e smartphones | smartphone | samsung galaxy | galaxy a | galaxy a15              2\n",
       "página inicial | celulares e smartphones | smartphone | xiaomi | redmi 12                                   1\n",
       "página inicial | celulares e smartphones | smartphone | motorola | moto g | moto g53 128gb                  1\n",
       "página inicial | celulares e smartphones | smartphone | motorola | moto g | moto g50                        1\n",
       "página inicial | celulares e smartphones | smartphone | motorola | motorola edge | motorola edge 40 neo     1\n",
       "página inicial | celulares e smartphones | smartphone | xiaomi | redmi 13                                   1\n",
       "página inicial | celulares e smartphones | smartphone | iphone | iphone 6                                   1\n",
       "página inicial | celulares e smartphones | smartphone | samsung galaxy | galaxy a | galaxy a05s             1\n",
       "página inicial | celulares e smartphones | smartphone | motorola | moto e | e20                             1\n",
       "página inicial | celulares e smartphones | smartphone | samsung galaxy | galaxy s | galaxy s23              1\n",
       "página inicial | celulares e smartphones | smartphone | samsung galaxy | galaxy a | galaxy a7               1\n",
       "página inicial | celulares e smartphones | smartphone | motorola | moto g | moto g14                        1\n",
       "página inicial | celulares e smartphones | smartphone | motorola | moto g | moto g23                        1\n",
       "página inicial | celulares e smartphones | smartphone | realme | realme c                                   1\n",
       "página inicial | celulares e smartphones | smartphone | motorola | moto g | moto g13                        1\n",
       "página inicial | celulares e smartphones | smartphone | motorola | moto g | moto g84                        1\n",
       "página inicial | celulares e smartphones | smartphone | samsung galaxy | galaxy s | galaxy s7               1\n",
       "página inicial | celulares e smartphones | smartphone | iphone | iphone 8                                   1\n",
       "página inicial | celulares e smartphones | smartphone | xiaomi | redmi note 13                              1\n",
       "página inicial | celulares e smartphones | smartphone | xiaomi | redmi 10                                   1\n",
       "página inicial | celulares e smartphones | smartphone | samsung galaxy | galaxy a | galaxy a55              1\n",
       "página inicial | celulares e smartphones | smartphone | samsung galaxy | galaxy a | galaxy a14              1\n",
       "página inicial | celulares e smartphones | smartphone | samsung galaxy | galaxy a | galaxy a02              1\n",
       "página inicial | celulares e smartphones | smartphone | realme                                              1\n",
       "página inicial | celulares e smartphones | smartphone | realme | realme 7                                   1\n",
       "Name: count, dtype: Int64"
      ]
     },
     "execution_count": 7,
     "metadata": {},
     "output_type": "execute_result"
    }
   ],
   "source": [
    "df['categoria'].value_counts(dropna=False)"
   ]
  },
  {
   "cell_type": "code",
   "execution_count": 8,
   "metadata": {},
   "outputs": [
    {
     "data": {
      "text/html": [
       "<div>\n",
       "<style scoped>\n",
       "    .dataframe tbody tr th:only-of-type {\n",
       "        vertical-align: middle;\n",
       "    }\n",
       "\n",
       "    .dataframe tbody tr th {\n",
       "        vertical-align: top;\n",
       "    }\n",
       "\n",
       "    .dataframe thead th {\n",
       "        text-align: right;\n",
       "    }\n",
       "</style>\n",
       "<table border=\"1\" class=\"dataframe\">\n",
       "  <thead>\n",
       "    <tr style=\"text-align: right;\">\n",
       "      <th></th>\n",
       "      <th>nome</th>\n",
       "      <th>preço</th>\n",
       "      <th>preço_original</th>\n",
       "      <th>avaliações</th>\n",
       "      <th>imagem</th>\n",
       "      <th>url</th>\n",
       "      <th>data</th>\n",
       "      <th>palavra_busca</th>\n",
       "      <th>página_de_busca</th>\n",
       "      <th>categoria</th>\n",
       "      <th>marca</th>\n",
       "      <th>modelo</th>\n",
       "      <th>certificado</th>\n",
       "      <th>ean_gtin</th>\n",
       "      <th>características</th>\n",
       "      <th>product_id</th>\n",
       "      <th>screenshot</th>\n",
       "      <th>index</th>\n",
       "    </tr>\n",
       "  </thead>\n",
       "  <tbody>\n",
       "  </tbody>\n",
       "</table>\n",
       "</div>"
      ],
      "text/plain": [
       "Empty DataFrame\n",
       "Columns: [nome, preço, preço_original, avaliações, imagem, url, data, palavra_busca, página_de_busca, categoria, marca, modelo, certificado, ean_gtin, características, product_id, screenshot, index]\n",
       "Index: []"
      ]
     },
     "execution_count": 8,
     "metadata": {},
     "output_type": "execute_result"
    }
   ],
   "source": [
    "df[df['categoria'].isna()]"
   ]
  },
  {
   "cell_type": "code",
   "execution_count": 9,
   "metadata": {},
   "outputs": [],
   "source": [
    "df.loc[df[\"categoria\"] == \"[]\", 'categoria'] = pd.NA"
   ]
  },
  {
   "cell_type": "code",
   "execution_count": 10,
   "metadata": {},
   "outputs": [],
   "source": [
    "columns = [\"nome\", \"categoria\", \"url\"]\n",
    "for column in columns:\n",
    "    for row in df[df[column].isna()].itertuples():\n",
    "        if (file := FOLDER / \"screenshots\" / f\"{row.screenshot}\").is_file():\n",
    "            print(f\"Deleting {file}\")\n",
    "            file.unlink()\n",
    "    df = df.dropna(subset=column).reset_index(drop=True)\n"
   ]
  },
  {
   "cell_type": "code",
   "execution_count": 11,
   "metadata": {},
   "outputs": [
    {
     "data": {
      "text/plain": [
       "certificado\n",
       "198292300953    5\n",
       "025931304858    5\n",
       "030782109185    3\n",
       "198252300953    3\n",
       "221962314550    2\n",
       "206672300330    2\n",
       "112462100330    2\n",
       "093622300330    2\n",
       "048382203111    2\n",
       "152872100953    2\n",
       "175342314550    2\n",
       "180022100330    1\n",
       "113482109185    1\n",
       "042801903111    1\n",
       "133832315156    1\n",
       "021181909185    1\n",
       "117602300330    1\n",
       "007982209185    1\n",
       "018601900953    1\n",
       "091932100330    1\n",
       "205312300330    1\n",
       "124942000953    1\n",
       "034561501993    1\n",
       "043261900330    1\n",
       "014361900953    1\n",
       "096342315156    1\n",
       "179182003589    1\n",
       "117032300330    1\n",
       "101462203111    1\n",
       "139722300953    1\n",
       "051192214550    1\n",
       "139732300953    1\n",
       "000972000953    1\n",
       "171522200953    1\n",
       "056351800953    1\n",
       "180732200330    1\n",
       "124422103589    1\n",
       "091332108134    1\n",
       "065732313366    1\n",
       "160332200330    1\n",
       "117072300330    1\n",
       "009972307600    1\n",
       "056851901993    1\n",
       "032192400330    1\n",
       "051491701993    1\n",
       "018532415156    1\n",
       "235492300953    1\n",
       "023611800953    1\n",
       "069282003111    1\n",
       "147352206146    1\n",
       "238392314550    1\n",
       "060522313366    1\n",
       "142732213366    1\n",
       "Name: count, dtype: Int64"
      ]
     },
     "execution_count": 11,
     "metadata": {},
     "output_type": "execute_result"
    }
   ],
   "source": [
    "df[\"certificado\"].value_counts(dropna=False)"
   ]
  },
  {
   "cell_type": "code",
   "execution_count": 12,
   "metadata": {},
   "outputs": [
    {
     "data": {
      "text/plain": [
       "ean_gtin\n",
       "<NA>             14\n",
       "7904414985577     3\n",
       "6941764416642     2\n",
       "7892509131582     2\n",
       "6941812759424     1\n",
       "7908414457591     1\n",
       "7894819300153     1\n",
       "7892509131872     1\n",
       "7892509108300     1\n",
       "7892597351404     1\n",
       "7892597353699     1\n",
       "7898655637329     1\n",
       "7892597352623     1\n",
       "7891072452186     1\n",
       "7899838889221     1\n",
       "7892597353323     1\n",
       "7892597353880     1\n",
       "7892597348848     1\n",
       "7899508315418     1\n",
       "7892509116022     1\n",
       "7892509107570     1\n",
       "7891901248737     1\n",
       "7892509135054     1\n",
       "7892597353576     1\n",
       "7908414457638     1\n",
       "7908068810605     1\n",
       "7896904660517     1\n",
       "7896904691795     1\n",
       "7892597353828     1\n",
       "7311271605270     1\n",
       "7892509133999     1\n",
       "7892509127783     1\n",
       "7892509103961     1\n",
       "7896643551664     1\n",
       "7892597353538     1\n",
       "7891356098772     1\n",
       "6941764418752     1\n",
       "7892405035816     1\n",
       "7892597353415     1\n",
       "7892509132800     1\n",
       "7892509131810     1\n",
       "7898552005344     1\n",
       "7892597354160     1\n",
       "7908426309444     1\n",
       "7908426308829     1\n",
       "7908068811817     1\n",
       "7892509135610     1\n",
       "7892509132763     1\n",
       "7892509099394     1\n",
       "7899838893570     1\n",
       "7892509127660     1\n",
       "7892509132817     1\n",
       "7899835993396     1\n",
       "7892509134262     1\n",
       "7908514700177     1\n",
       "Name: count, dtype: Int64"
      ]
     },
     "execution_count": 12,
     "metadata": {},
     "output_type": "execute_result"
    }
   ],
   "source": [
    "df.loc[df[\"ean_gtin\"] == \"\", 'ean_gtin'] = pd.NA\n",
    "df[\"ean_gtin\"].value_counts(dropna=False)\n"
   ]
  },
  {
   "cell_type": "code",
   "execution_count": 13,
   "metadata": {},
   "outputs": [
    {
     "name": "stdout",
     "output_type": "stream",
     "text": [
      "6\n"
     ]
    }
   ],
   "source": [
    "categories = df[\"categoria\"].str.split(\"|\", expand=True)\n",
    "categories.columns = [f\"categoria_{c}\" for c in categories.columns]\n",
    "print(len(categories.columns))\n",
    "for cat in categories:\n",
    "    categories[cat] = categories[cat].str.strip()\n",
    "df = pd.concat([df, categories], axis=1)"
   ]
  },
  {
   "cell_type": "code",
   "execution_count": 14,
   "metadata": {},
   "outputs": [],
   "source": [
    "for cat in categories.columns:\n",
    "    condition = df[cat].notna()\n",
    "    df.loc[condition, \"subcategoria\"] = df.loc[condition, cat]"
   ]
  },
  {
   "cell_type": "code",
   "execution_count": 15,
   "metadata": {},
   "outputs": [
    {
     "data": {
      "text/plain": [
       "categoria_0\n",
       "página inicial    72\n",
       "Name: count, dtype: Int64"
      ]
     },
     "execution_count": 15,
     "metadata": {},
     "output_type": "execute_result"
    }
   ],
   "source": [
    "df[\"categoria_0\"].value_counts(dropna=False)"
   ]
  },
  {
   "cell_type": "code",
   "execution_count": 16,
   "metadata": {},
   "outputs": [
    {
     "data": {
      "text/plain": [
       "categoria_1\n",
       "celulares e smartphones    72\n",
       "Name: count, dtype: Int64"
      ]
     },
     "execution_count": 16,
     "metadata": {},
     "output_type": "execute_result"
    }
   ],
   "source": [
    "df[\"categoria_1\"].value_counts(dropna=False)"
   ]
  },
  {
   "cell_type": "code",
   "execution_count": 17,
   "metadata": {},
   "outputs": [
    {
     "data": {
      "text/plain": [
       "categoria_2\n",
       "smartphone    72\n",
       "Name: count, dtype: Int64"
      ]
     },
     "execution_count": 17,
     "metadata": {},
     "output_type": "execute_result"
    }
   ],
   "source": [
    "df[\"categoria_2\"].value_counts(dropna=False)"
   ]
  },
  {
   "cell_type": "code",
   "execution_count": 18,
   "metadata": {},
   "outputs": [],
   "source": [
    "# df[\"categoria_3\"].value_counts(dropna=False)"
   ]
  },
  {
   "cell_type": "code",
   "execution_count": 19,
   "metadata": {},
   "outputs": [],
   "source": [
    "# df[\"categoria_4\"].value_counts(dropna=False)"
   ]
  },
  {
   "cell_type": "code",
   "execution_count": 20,
   "metadata": {},
   "outputs": [],
   "source": [
    "df[\"subcategoria\"] = df['categoria_2']"
   ]
  },
  {
   "cell_type": "code",
   "execution_count": 21,
   "metadata": {},
   "outputs": [],
   "source": [
    "for cat in SUBCATEGORIES['magalu']:\n",
    "    df.loc[df[\"subcategoria\"].str.lower().str.contains(cat), \"subcategoria\"] = \"smartphone\"\n"
   ]
  },
  {
   "cell_type": "code",
   "execution_count": 22,
   "metadata": {},
   "outputs": [
    {
     "data": {
      "text/plain": [
       "subcategoria\n",
       "smartphone    1.0\n",
       "Name: proportion, dtype: Float64"
      ]
     },
     "execution_count": 22,
     "metadata": {},
     "output_type": "execute_result"
    }
   ],
   "source": [
    "df[\"subcategoria\"].value_counts(dropna=False, normalize=True)"
   ]
  },
  {
   "cell_type": "code",
   "execution_count": 22,
   "metadata": {},
   "outputs": [],
   "source": [
    "df = df[df[\"subcategoria\"] == \"Celulares e Smartphones\"]"
   ]
  },
  {
   "cell_type": "markdown",
   "metadata": {},
   "source": [
    "## Formatação"
   ]
  },
  {
   "cell_type": "code",
   "execution_count": 23,
   "metadata": {},
   "outputs": [],
   "source": [
    "df['Item'] = df.index.to_list()"
   ]
  },
  {
   "cell_type": "code",
   "execution_count": 24,
   "metadata": {},
   "outputs": [],
   "source": [
    "df[\"Data da Coleta\"] = pd.to_datetime(df[\"data\"], format=\"mixed\").dt.strftime(\"%d/%m/%Y\")"
   ]
  },
  {
   "cell_type": "code",
   "execution_count": 25,
   "metadata": {},
   "outputs": [],
   "source": [
    "discard = df[\"certificado\"].isna() & ~(df[\"subcategoria\"] == \"Celulares e Smartphones\")"
   ]
  },
  {
   "cell_type": "code",
   "execution_count": 26,
   "metadata": {},
   "outputs": [],
   "source": [
    "df = df[~discard]"
   ]
  },
  {
   "cell_type": "code",
   "execution_count": 27,
   "metadata": {},
   "outputs": [],
   "source": [
    "# column = \"O tipo do produto é de uso proibido no Brasil?\"\n",
    "# df[column] = \"Não\""
   ]
  },
  {
   "cell_type": "code",
   "execution_count": 28,
   "metadata": {},
   "outputs": [],
   "source": [
    "# column = \"O produto é passível de homologação na Anatel? (Sim ou Não)\"\n",
    "# df[column] = \"Sim\"\n",
    "# df.loc[discard, column] = \"Não\"\n"
   ]
  },
  {
   "cell_type": "code",
   "execution_count": 29,
   "metadata": {},
   "outputs": [],
   "source": [
    "column = \"Número de Unidades à Venda\"\n",
    "df[column] = \"Não Informado\""
   ]
  },
  {
   "cell_type": "code",
   "execution_count": 30,
   "metadata": {},
   "outputs": [],
   "source": [
    "columns = [\"Existe o campo código de homologação no anúncio? (Sim ou Não)\",\n",
    "           \"O código de homologação foi fornecido? (Sim ou Não)\"]\n",
    "for column in columns:\n",
    "    df[column] = \"Sim\"\n",
    "    df.loc[df[\"certificado\"].isna(), column] = \"Não\"\n"
   ]
  },
  {
   "cell_type": "code",
   "execution_count": 31,
   "metadata": {},
   "outputs": [],
   "source": [
    "columns = [\n",
    "    \"O produto é homologado? (Sim, Não e N.A.)\",\n",
    "    \"Validação do código de homologação - O código de homologação fornecido é o do produto anunciado? (Sim, Não, N.A.)\",\n",
    "]\n",
    "for column in columns:\n",
    "    df[column] = \"\"\n"
   ]
  },
  {
   "cell_type": "code",
   "execution_count": 32,
   "metadata": {},
   "outputs": [],
   "source": [
    "column = \"O código EAN foi fornecido? (Sim ou Não) - Apenas para Smartphones.\"\n",
    "df[column] = \"Sim\"\n",
    "df.loc[df['ean_gtin'].isna(), column] = \"Não\"\n"
   ]
  },
  {
   "cell_type": "code",
   "execution_count": 33,
   "metadata": {},
   "outputs": [],
   "source": [
    "column = \"O código EAN fornecido corresponde ao produto? (Sim ou Não) -  Apenas para Smartphones.\"\n",
    "df[column] = \"\""
   ]
  },
  {
   "cell_type": "code",
   "execution_count": 34,
   "metadata": {},
   "outputs": [],
   "source": [
    "df.rename(\n",
    "    columns={\n",
    "        \"palavra_busca\": \"Texto da Busca\",\n",
    "        \"screenshot\": \"Arquivo da Página\",\n",
    "        \"url\": \"Endereço eletrônico (URL)\",\n",
    "        \"nome\": \"Descrição do produto no anúncio\",\n",
    "        \"subcategoria\": \"Tipo do Produto\",\n",
    "        \"marca\": \"Fabricante\",\n",
    "        \"modelo\": \"Modelo do Produto\",\n",
    "        \"preço\": \"Valor do Produto (R$)\",\n",
    "        \"certificado\": \"Observação 1 - Qual Código de Homologação fornecido no anúncio?\"\n",
    "    },\n",
    "    inplace=True,\n",
    ")\n"
   ]
  },
  {
   "cell_type": "code",
   "execution_count": 35,
   "metadata": {},
   "outputs": [],
   "source": [
    "COLUNAS = [\n",
    "    \"Item\",\n",
    "    \"Texto da Busca\",\n",
    "    \"Arquivo da Página\",\n",
    "    \"Data da Coleta\",\n",
    "    \"Endereço eletrônico (URL)\",\n",
    "    \"Descrição do produto no anúncio\",\n",
    "    # \"O tipo do produto é de uso proibido no Brasil?\",\n",
    "    # \"O produto é passível de homologação na Anatel? (Sim ou Não)\",\n",
    "    \"Tipo do Produto\",\n",
    "    \"Fabricante\",\n",
    "    \"Modelo do Produto\",\n",
    "    \"Valor do Produto (R$)\",\n",
    "    \"Número de Unidades à Venda\",\n",
    "    \"Existe o campo código de homologação no anúncio? (Sim ou Não)\",\n",
    "    \"O código de homologação foi fornecido? (Sim ou Não)\",\n",
    "    \"O produto é homologado? (Sim, Não e N.A.)\",\n",
    "    \"Validação do código de homologação - O código de homologação fornecido é o do produto anunciado? (Sim, Não, N.A.)\",\n",
    "    \"O código EAN foi fornecido? (Sim ou Não) - Apenas para Smartphones.\",\n",
    "    \"O código EAN fornecido corresponde ao produto? (Sim ou Não) -  Apenas para Smartphones.\",\n",
    "    \"Observação 1 - Qual Código de Homologação fornecido no anúncio?\",\n",
    "]\n"
   ]
  },
  {
   "cell_type": "code",
   "execution_count": 36,
   "metadata": {},
   "outputs": [],
   "source": [
    "df = df[COLUNAS] #.sample(78)"
   ]
  },
  {
   "cell_type": "code",
   "execution_count": 37,
   "metadata": {},
   "outputs": [],
   "source": [
    "writer = pd.ExcelWriter(\n",
    "    json.with_suffix(\".xlsx\"),\n",
    "    engine=\"xlsxwriter\",\n",
    "    engine_kwargs={\"options\": {\"strings_to_urls\": True}},\n",
    ")\n"
   ]
  },
  {
   "cell_type": "code",
   "execution_count": 38,
   "metadata": {},
   "outputs": [],
   "source": [
    "sheet_name = f\"{name}-smartphone\"\n",
    "df.to_excel(writer, sheet_name=sheet_name, engine=\"xlsxwriter\", index=False)\n"
   ]
  },
  {
   "cell_type": "code",
   "execution_count": 39,
   "metadata": {},
   "outputs": [],
   "source": [
    "workbook = writer.book\n",
    "worksheet = writer.sheets[sheet_name]\n",
    "# Make the columns wider for clarity.\n",
    "worksheet.autofit()\n",
    "worksheet.set_default_row(hide_unused_rows=True)\n",
    "# Freeze the first row\n",
    "worksheet.freeze_panes(1, 0)\n",
    "        "
   ]
  },
  {
   "cell_type": "code",
   "execution_count": 40,
   "metadata": {},
   "outputs": [],
   "source": [
    "PREFIX = \"https://anatel365.sharepoint.com/sites/Desenvolvimentodeappfiscalizaoe-commerce/Documentos%20Compartilhados/General/Resultados/screenshots/\"\n",
    "for i, link in enumerate(df[\"Arquivo da Página\"], start=2):\n",
    "    pdf = PREFIX + link\n",
    "    worksheet.write_url(f\"C{i}\", pdf, string=link)\n"
   ]
  },
  {
   "cell_type": "code",
   "execution_count": 41,
   "metadata": {},
   "outputs": [],
   "source": [
    "writer.close()"
   ]
  }
 ],
 "metadata": {
  "kernelspec": {
   "display_name": "reg_dados",
   "language": "python",
   "name": "python3"
  },
  "language_info": {
   "codemirror_mode": {
    "name": "ipython",
    "version": 3
   },
   "file_extension": ".py",
   "mimetype": "text/x-python",
   "name": "python",
   "nbconvert_exporter": "python",
   "pygments_lexer": "ipython3",
   "version": "3.12.4"
  }
 },
 "nbformat": 4,
 "nbformat_minor": 2
}
