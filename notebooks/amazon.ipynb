{
 "cells": [
  {
   "cell_type": "code",
   "execution_count": 1,
   "metadata": {},
   "outputs": [
    {
     "data": {
      "text/plain": [
       "(#9) [Path('D:/OneDrive - ANATEL/Regulatron/Resultados/amazon'),Path('D:/OneDrive - ANATEL/Regulatron/Resultados/americanas'),Path('D:/OneDrive - ANATEL/Regulatron/Resultados/carrefour'),Path('D:/OneDrive - ANATEL/Regulatron/Resultados/casas_bahia'),Path('D:/OneDrive - ANATEL/Regulatron/Resultados/lista_celulares_homologados_EAN_09_05 2.xlsx'),Path('D:/OneDrive - ANATEL/Regulatron/Resultados/magalu'),Path('D:/OneDrive - ANATEL/Regulatron/Resultados/ml'),Path('D:/OneDrive - ANATEL/Regulatron/Resultados/screenshots'),Path('D:/OneDrive - ANATEL/Regulatron/Resultados/shopee')]"
      ]
     },
     "execution_count": 1,
     "metadata": {},
     "output_type": "execute_result"
    }
   ],
   "source": [
    "from datetime import datetime\n",
    "from fastcore.xtras import Path\n",
    "import pandas as pd\n",
    "from IPython.display import display\n",
    "import xlsxwriter\n",
    "\n",
    "\n",
    "FOLDER = Path(r\"D:\\OneDrive - ANATEL\\Regulatron\\Resultados\")\n",
    "FOLDER.ls()\n"
   ]
  },
  {
   "cell_type": "code",
   "execution_count": 2,
   "metadata": {},
   "outputs": [],
   "source": [
    "TO_DISCARD = {\n",
    "    \"amazon\": [\n",
    "        \"Acessórios de Carros\",\n",
    "        \"Antenas\",\n",
    "        \"Apoios\",\n",
    "        \"Binóculos, Telescópios e Óptica\",\n",
    "        \"Cabos USB\",\n",
    "        \"Cabos de Lightning\",\n",
    "        \"Capas Laterais\",\n",
    "        \"Expansores e Ampliadores de Tela\",\n",
    "        \"GPS e Acessórios\",\n",
    "        \"Lentes\",\n",
    "        \"Som Automotivo\",\n",
    "        \"Suportes\",\n",
    "        \"Suportes de Cabeceira e Mesa\",\n",
    "    ]\n",
    "}\n",
    "\n",
    "SUBCATEGORIES = {\"amazon\": [\"Celulares e Smartphones\"]}\n"
   ]
  },
  {
   "cell_type": "code",
   "execution_count": 3,
   "metadata": {},
   "outputs": [],
   "source": [
    "# for pdf in (FOLDER / \"screenshots/20240708\").iterdir():\n",
    "#     if \"carrefour_\" in pdf.name:\n",
    "#         pdf.rename(\n",
    "#             pdf.with_name(pdf.name.replace(\"carrefour_\", \"carrefour_20240708_\"))\n",
    "#         )\n"
   ]
  },
  {
   "cell_type": "code",
   "execution_count": 4,
   "metadata": {},
   "outputs": [],
   "source": [
    "name = 'amazon'\n",
    "folder = FOLDER / name\n"
   ]
  },
  {
   "cell_type": "code",
   "execution_count": 5,
   "metadata": {},
   "outputs": [
    {
     "data": {
      "text/html": [
       "<div>\n",
       "<style scoped>\n",
       "    .dataframe tbody tr th:only-of-type {\n",
       "        vertical-align: middle;\n",
       "    }\n",
       "\n",
       "    .dataframe tbody tr th {\n",
       "        vertical-align: top;\n",
       "    }\n",
       "\n",
       "    .dataframe thead th {\n",
       "        text-align: right;\n",
       "    }\n",
       "</style>\n",
       "<table border=\"1\" class=\"dataframe\">\n",
       "  <thead>\n",
       "    <tr style=\"text-align: right;\">\n",
       "      <th></th>\n",
       "      <th>nome</th>\n",
       "      <th>preço</th>\n",
       "      <th>nota</th>\n",
       "      <th>avaliações</th>\n",
       "      <th>imagem</th>\n",
       "      <th>url</th>\n",
       "      <th>data</th>\n",
       "      <th>palavra_busca</th>\n",
       "      <th>página_de_busca</th>\n",
       "      <th>categoria</th>\n",
       "      <th>...</th>\n",
       "      <th>vendedor</th>\n",
       "      <th>link_vendedor</th>\n",
       "      <th>descrição</th>\n",
       "      <th>características</th>\n",
       "      <th>certificado</th>\n",
       "      <th>ean_gtin</th>\n",
       "      <th>modelo</th>\n",
       "      <th>vendas</th>\n",
       "      <th>product_id</th>\n",
       "      <th>screenshot</th>\n",
       "    </tr>\n",
       "  </thead>\n",
       "  <tbody>\n",
       "    <tr>\n",
       "      <th>0</th>\n",
       "      <td>Cabo Toocki Elbow 90 Graus USB A para USB C - ...</td>\n",
       "      <td>44.99</td>\n",
       "      <td>5 de 5 estrelas</td>\n",
       "      <td>1 classificação</td>\n",
       "      <td>https://m.media-amazon.com/images/I/51PpbePGTC...</td>\n",
       "      <td>https://www.amazon.com.br/Cabo-Toocki-Elbow-90...</td>\n",
       "      <td>2024-07-09T00:49:48</td>\n",
       "      <td>smartphone</td>\n",
       "      <td>10</td>\n",
       "      <td>Computadores e Informática|Acessórios|Cabos e ...</td>\n",
       "      <td>...</td>\n",
       "      <td>HenQi</td>\n",
       "      <td>https://www.amazon.com.br/gp/help/seller/at-a-...</td>\n",
       "      <td>👍 Design de ângulo em 90°: o design do conecto...</td>\n",
       "      <td>{'Marca': 'Genérico', 'Fabricante': 'Toocki', ...</td>\n",
       "      <td>&lt;NA&gt;</td>\n",
       "      <td>&lt;NA&gt;</td>\n",
       "      <td>Elbow A-C 60W 90 Graus</td>\n",
       "      <td>&lt;NA&gt;</td>\n",
       "      <td>B0D6M4QLF8</td>\n",
       "      <td>amazon_20240709_B0D6M4QLF8.pdf</td>\n",
       "    </tr>\n",
       "    <tr>\n",
       "      <th>1</th>\n",
       "      <td>Celular Multilaser Flip Vita Duo Dual Chip com...</td>\n",
       "      <td>179.90</td>\n",
       "      <td>3,9 de 5 estrelas</td>\n",
       "      <td>91 avaliações de clientes</td>\n",
       "      <td>https://m.media-amazon.com/images/I/51zmRuCmCh...</td>\n",
       "      <td>https://www.amazon.com.br/Celular-Multilaser-t...</td>\n",
       "      <td>2024-07-09T00:50:01</td>\n",
       "      <td>smartphone</td>\n",
       "      <td>21</td>\n",
       "      <td>Eletrônicos e Tecnologia|Celulares e Comunicaç...</td>\n",
       "      <td>...</td>\n",
       "      <td>Els Importados</td>\n",
       "      <td>https://www.amazon.com.br/gp/help/seller/at-a-...</td>\n",
       "      <td>Botão SOS, faça chamadas de emergência com mai...</td>\n",
       "      <td>{'Sistema operacional': 'Não aplicável', 'Tama...</td>\n",
       "      <td>003892103111</td>\n",
       "      <td>&lt;NA&gt;</td>\n",
       "      <td>P9145</td>\n",
       "      <td>&lt;NA&gt;</td>\n",
       "      <td>B09V3DPH5C</td>\n",
       "      <td>amazon_20240709_B09V3DPH5C.pdf</td>\n",
       "    </tr>\n",
       "    <tr>\n",
       "      <th>2</th>\n",
       "      <td>Smartphone Xiaomi Redmi Note 13 8+128GB Preto ...</td>\n",
       "      <td>Smartphone Xiaomi Redmi Note 13 8+256GB Preto ...</td>\n",
       "      <td>&lt;NA&gt;</td>\n",
       "      <td>&lt;NA&gt;</td>\n",
       "      <td>https://m.media-amazon.com/images/I/51K3CTm-KD...</td>\n",
       "      <td>https://www.amazon.com.br/Smartphone-Xiaomi-Re...</td>\n",
       "      <td>2024-07-09T00:50:14</td>\n",
       "      <td>smartphone</td>\n",
       "      <td>12</td>\n",
       "      <td>Eletrônicos e Tecnologia|Celulares e Comunicaç...</td>\n",
       "      <td>...</td>\n",
       "      <td>Redmi</td>\n",
       "      <td>https://www.amazon.com.br/s/ref=bl_dp_s_web_16...</td>\n",
       "      <td>NormalRegistre os melhores momentos em 108MP F...</td>\n",
       "      <td>{'Marca': 'Redmi', 'Fabricante': 'Xiaomi', 'Ce...</td>\n",
       "      <td>221962314550</td>\n",
       "      <td>&lt;NA&gt;</td>\n",
       "      <td>23129RA5FL | Redmi note 13 | 23129RA5FL</td>\n",
       "      <td>&lt;NA&gt;</td>\n",
       "      <td>B0CRK19S3M</td>\n",
       "      <td>amazon_20240709_B0CRK19S3M.pdf</td>\n",
       "    </tr>\n",
       "    <tr>\n",
       "      <th>3</th>\n",
       "      <td>Cabo Toocki Elbow 90 Graus USB A para USB C - ...</td>\n",
       "      <td>54.99</td>\n",
       "      <td>5 de 5 estrelas</td>\n",
       "      <td>1 classificação</td>\n",
       "      <td>https://m.media-amazon.com/images/I/51PpbePGTC...</td>\n",
       "      <td>https://www.amazon.com.br/Cabo-Toocki-Elbow-90...</td>\n",
       "      <td>2024-07-09T00:50:27</td>\n",
       "      <td>smartphone</td>\n",
       "      <td>8</td>\n",
       "      <td>Computadores e Informática|Acessórios|Cabos e ...</td>\n",
       "      <td>...</td>\n",
       "      <td>HenQi</td>\n",
       "      <td>https://www.amazon.com.br/gp/help/seller/at-a-...</td>\n",
       "      <td>👍 Design de ângulo em 90°: o design do conecto...</td>\n",
       "      <td>{'Marca': 'Genérico', 'Fabricante': 'Toocki', ...</td>\n",
       "      <td>&lt;NA&gt;</td>\n",
       "      <td>&lt;NA&gt;</td>\n",
       "      <td>Elbow A-C 60W 90 Graus</td>\n",
       "      <td>&lt;NA&gt;</td>\n",
       "      <td>B0D6M4D8TJ</td>\n",
       "      <td>amazon_20240709_B0D6M4D8TJ.pdf</td>\n",
       "    </tr>\n",
       "    <tr>\n",
       "      <th>4</th>\n",
       "      <td>Samsung Celular Galaxy A35 5G, Câmera Tripla a...</td>\n",
       "      <td>1694.99</td>\n",
       "      <td>3 de 5 estrelas</td>\n",
       "      <td>3 avaliações de clientes</td>\n",
       "      <td>https://m.media-amazon.com/images/I/51nMCicANC...</td>\n",
       "      <td>https://www.amazon.com.br/Samsung-Celular-Gala...</td>\n",
       "      <td>2024-07-09T00:50:40</td>\n",
       "      <td>smartphone</td>\n",
       "      <td>11</td>\n",
       "      <td>Eletrônicos e Tecnologia|Celulares e Comunicaç...</td>\n",
       "      <td>...</td>\n",
       "      <td>MAGAZINE BUMPER ⭐⭐⭐⭐⭐</td>\n",
       "      <td>https://www.amazon.com.br/gp/help/seller/at-a-...</td>\n",
       "      <td>Câmera Tripla de até 50MP, Selfie de 13 MP\n",
       "Nig...</td>\n",
       "      <td>{'Marca': 'SAMSUNG', 'Fabricante': 'SAMSUNG EL...</td>\n",
       "      <td>235482300953</td>\n",
       "      <td>&lt;NA&gt;</td>\n",
       "      <td>A35</td>\n",
       "      <td>&lt;NA&gt;</td>\n",
       "      <td>B0CXVF4GKC</td>\n",
       "      <td>amazon_20240709_B0CXVF4GKC.pdf</td>\n",
       "    </tr>\n",
       "  </tbody>\n",
       "</table>\n",
       "<p>5 rows × 22 columns</p>\n",
       "</div>"
      ],
      "text/plain": [
       "                                                nome  \\\n",
       "0  Cabo Toocki Elbow 90 Graus USB A para USB C - ...   \n",
       "1  Celular Multilaser Flip Vita Duo Dual Chip com...   \n",
       "2  Smartphone Xiaomi Redmi Note 13 8+128GB Preto ...   \n",
       "3  Cabo Toocki Elbow 90 Graus USB A para USB C - ...   \n",
       "4  Samsung Celular Galaxy A35 5G, Câmera Tripla a...   \n",
       "\n",
       "                                               preço               nota  \\\n",
       "0                                              44.99    5 de 5 estrelas   \n",
       "1                                             179.90  3,9 de 5 estrelas   \n",
       "2  Smartphone Xiaomi Redmi Note 13 8+256GB Preto ...               <NA>   \n",
       "3                                              54.99    5 de 5 estrelas   \n",
       "4                                            1694.99    3 de 5 estrelas   \n",
       "\n",
       "                  avaliações  \\\n",
       "0            1 classificação   \n",
       "1  91 avaliações de clientes   \n",
       "2                       <NA>   \n",
       "3            1 classificação   \n",
       "4   3 avaliações de clientes   \n",
       "\n",
       "                                              imagem  \\\n",
       "0  https://m.media-amazon.com/images/I/51PpbePGTC...   \n",
       "1  https://m.media-amazon.com/images/I/51zmRuCmCh...   \n",
       "2  https://m.media-amazon.com/images/I/51K3CTm-KD...   \n",
       "3  https://m.media-amazon.com/images/I/51PpbePGTC...   \n",
       "4  https://m.media-amazon.com/images/I/51nMCicANC...   \n",
       "\n",
       "                                                 url                 data  \\\n",
       "0  https://www.amazon.com.br/Cabo-Toocki-Elbow-90...  2024-07-09T00:49:48   \n",
       "1  https://www.amazon.com.br/Celular-Multilaser-t...  2024-07-09T00:50:01   \n",
       "2  https://www.amazon.com.br/Smartphone-Xiaomi-Re...  2024-07-09T00:50:14   \n",
       "3  https://www.amazon.com.br/Cabo-Toocki-Elbow-90...  2024-07-09T00:50:27   \n",
       "4  https://www.amazon.com.br/Samsung-Celular-Gala...  2024-07-09T00:50:40   \n",
       "\n",
       "  palavra_busca página_de_busca  \\\n",
       "0    smartphone              10   \n",
       "1    smartphone              21   \n",
       "2    smartphone              12   \n",
       "3    smartphone               8   \n",
       "4    smartphone              11   \n",
       "\n",
       "                                           categoria  ...  \\\n",
       "0  Computadores e Informática|Acessórios|Cabos e ...  ...   \n",
       "1  Eletrônicos e Tecnologia|Celulares e Comunicaç...  ...   \n",
       "2  Eletrônicos e Tecnologia|Celulares e Comunicaç...  ...   \n",
       "3  Computadores e Informática|Acessórios|Cabos e ...  ...   \n",
       "4  Eletrônicos e Tecnologia|Celulares e Comunicaç...  ...   \n",
       "\n",
       "                vendedor                                      link_vendedor  \\\n",
       "0                  HenQi  https://www.amazon.com.br/gp/help/seller/at-a-...   \n",
       "1         Els Importados  https://www.amazon.com.br/gp/help/seller/at-a-...   \n",
       "2                  Redmi  https://www.amazon.com.br/s/ref=bl_dp_s_web_16...   \n",
       "3                  HenQi  https://www.amazon.com.br/gp/help/seller/at-a-...   \n",
       "4  MAGAZINE BUMPER ⭐⭐⭐⭐⭐  https://www.amazon.com.br/gp/help/seller/at-a-...   \n",
       "\n",
       "                                           descrição  \\\n",
       "0  👍 Design de ângulo em 90°: o design do conecto...   \n",
       "1  Botão SOS, faça chamadas de emergência com mai...   \n",
       "2  NormalRegistre os melhores momentos em 108MP F...   \n",
       "3  👍 Design de ângulo em 90°: o design do conecto...   \n",
       "4  Câmera Tripla de até 50MP, Selfie de 13 MP\n",
       "Nig...   \n",
       "\n",
       "                                     características   certificado ean_gtin  \\\n",
       "0  {'Marca': 'Genérico', 'Fabricante': 'Toocki', ...          <NA>     <NA>   \n",
       "1  {'Sistema operacional': 'Não aplicável', 'Tama...  003892103111     <NA>   \n",
       "2  {'Marca': 'Redmi', 'Fabricante': 'Xiaomi', 'Ce...  221962314550     <NA>   \n",
       "3  {'Marca': 'Genérico', 'Fabricante': 'Toocki', ...          <NA>     <NA>   \n",
       "4  {'Marca': 'SAMSUNG', 'Fabricante': 'SAMSUNG EL...  235482300953     <NA>   \n",
       "\n",
       "                                    modelo vendas  product_id  \\\n",
       "0                   Elbow A-C 60W 90 Graus   <NA>  B0D6M4QLF8   \n",
       "1                                    P9145   <NA>  B09V3DPH5C   \n",
       "2  23129RA5FL | Redmi note 13 | 23129RA5FL   <NA>  B0CRK19S3M   \n",
       "3                   Elbow A-C 60W 90 Graus   <NA>  B0D6M4D8TJ   \n",
       "4                                      A35   <NA>  B0CXVF4GKC   \n",
       "\n",
       "                       screenshot  \n",
       "0  amazon_20240709_B0D6M4QLF8.pdf  \n",
       "1  amazon_20240709_B09V3DPH5C.pdf  \n",
       "2  amazon_20240709_B0CRK19S3M.pdf  \n",
       "3  amazon_20240709_B0D6M4D8TJ.pdf  \n",
       "4  amazon_20240709_B0CXVF4GKC.pdf  \n",
       "\n",
       "[5 rows x 22 columns]"
      ]
     },
     "execution_count": 5,
     "metadata": {},
     "output_type": "execute_result"
    }
   ],
   "source": [
    "KEYWORD = \"smartphone\"\n",
    "json = folder / f\"{name}_{datetime.today().strftime(\"%Y%m%d\")}_{KEYWORD}.json\"\n",
    "df = pd.DataFrame(json.read_json().values(), dtype='string')\n",
    "df.head()"
   ]
  },
  {
   "cell_type": "code",
   "execution_count": 6,
   "metadata": {},
   "outputs": [
    {
     "name": "stdout",
     "output_type": "stream",
     "text": [
      "<class 'pandas.core.frame.DataFrame'>\n",
      "RangeIndex: 78 entries, 0 to 77\n",
      "Data columns (total 22 columns):\n",
      " #   Column           Non-Null Count  Dtype \n",
      "---  ------           --------------  ----- \n",
      " 0   nome             78 non-null     string\n",
      " 1   preço            78 non-null     string\n",
      " 2   nota             65 non-null     string\n",
      " 3   avaliações       65 non-null     string\n",
      " 4   imagem           78 non-null     string\n",
      " 5   url              78 non-null     string\n",
      " 6   data             78 non-null     string\n",
      " 7   palavra_busca    78 non-null     string\n",
      " 8   página_de_busca  78 non-null     string\n",
      " 9   categoria        77 non-null     string\n",
      " 10  imagens          77 non-null     string\n",
      " 11  marca            77 non-null     string\n",
      " 12  vendedor         77 non-null     string\n",
      " 13  link_vendedor    77 non-null     string\n",
      " 14  descrição        77 non-null     string\n",
      " 15  características  77 non-null     string\n",
      " 16  certificado      68 non-null     string\n",
      " 17  ean_gtin         0 non-null      string\n",
      " 18  modelo           76 non-null     string\n",
      " 19  vendas           23 non-null     string\n",
      " 20  product_id       73 non-null     string\n",
      " 21  screenshot       77 non-null     string\n",
      "dtypes: string(22)\n",
      "memory usage: 13.5 KB\n"
     ]
    }
   ],
   "source": [
    "df.info()"
   ]
  },
  {
   "cell_type": "code",
   "execution_count": 7,
   "metadata": {},
   "outputs": [
    {
     "data": {
      "text/plain": [
       "categoria\n",
       "Eletrônicos e Tecnologia|Celulares e Comunicação|Celulares e Smartphones            70\n",
       "Computadores e Informática|Acessórios|Cabos e Acessórios|Cabos|Cabos USB             3\n",
       "Eletrônicos e Tecnologia|Celulares e Comunicação|Acessórios|Capas                    2\n",
       "Eletrônicos e Tecnologia|Celulares e Comunicação|Acessórios|Capas|Capas Laterais     2\n",
       "<NA>                                                                                 1\n",
       "Name: count, dtype: Int64"
      ]
     },
     "execution_count": 7,
     "metadata": {},
     "output_type": "execute_result"
    }
   ],
   "source": [
    "df['categoria'].value_counts(dropna=False)"
   ]
  },
  {
   "cell_type": "code",
   "execution_count": 8,
   "metadata": {},
   "outputs": [
    {
     "data": {
      "text/plain": [
       "certificado\n",
       "<NA>            10\n",
       "175412314550     5\n",
       "221962314550     3\n",
       "217522314550     3\n",
       "235482300953     3\n",
       "217592209185     3\n",
       "003892103111     2\n",
       "126752200330     2\n",
       "015822203111     2\n",
       "007982209185     2\n",
       "171532200953     2\n",
       "219902200953     2\n",
       "067992200330     1\n",
       "139732300953     1\n",
       "219892200953     1\n",
       "138462200953     1\n",
       "171522200953     1\n",
       "127822301993     1\n",
       "167352203109     1\n",
       "203882300953     1\n",
       "206372300953     1\n",
       "152872100953     1\n",
       "206672300330     1\n",
       "081482207600     1\n",
       "086722200953     1\n",
       "060522313366     1\n",
       "127832301993     1\n",
       "093622300330     1\n",
       "182272200330     1\n",
       "062482300330     1\n",
       "109862201993     1\n",
       "198252300953     1\n",
       "203612200953     1\n",
       "171892200953     1\n",
       "051172214550     1\n",
       "152972213366     1\n",
       "198242300953     1\n",
       "198292300953     1\n",
       "099532009185     1\n",
       "160412203589     1\n",
       "033452400330     1\n",
       "117072300330     1\n",
       "117602300330     1\n",
       "139722300953     1\n",
       "235492300953     1\n",
       "002722413366     1\n",
       "127572301993     1\n",
       "000032309185     1\n",
       "111172201993     1\n",
       "095832300953     1\n",
       "175342314550     1\n",
       "Name: count, dtype: Int64"
      ]
     },
     "execution_count": 8,
     "metadata": {},
     "output_type": "execute_result"
    }
   ],
   "source": [
    "df[\"certificado\"].value_counts(dropna=False)"
   ]
  },
  {
   "cell_type": "code",
   "execution_count": 9,
   "metadata": {},
   "outputs": [
    {
     "data": {
      "text/plain": [
       "ean_gtin\n",
       "<NA>    78\n",
       "Name: count, dtype: Int64"
      ]
     },
     "execution_count": 9,
     "metadata": {},
     "output_type": "execute_result"
    }
   ],
   "source": [
    "df.loc[df[\"ean_gtin\"] == \"\", 'ean_gtin'] = pd.NA\n",
    "df[\"ean_gtin\"].value_counts(dropna=False)\n"
   ]
  },
  {
   "cell_type": "code",
   "execution_count": 10,
   "metadata": {},
   "outputs": [],
   "source": [
    "categories = df[\"categoria\"].str.split(\"|\", expand=True)\n",
    "categories.columns = [f\"categoria_{c}\" for c in categories.columns]\n",
    "for cat in categories:\n",
    "    categories[cat] = categories[cat].str.strip()\n",
    "df = pd.concat([df, categories], axis=1)\n",
    "for cat in categories.columns:\n",
    "    condition = df[cat].notna()\n",
    "    df.loc[condition, \"subcategoria\"] = df.loc[condition, cat]\n"
   ]
  },
  {
   "cell_type": "code",
   "execution_count": 11,
   "metadata": {},
   "outputs": [
    {
     "data": {
      "text/plain": [
       "subcategoria\n",
       "Celulares e Smartphones    70\n",
       "Cabos USB                   3\n",
       "Capas                       2\n",
       "Capas Laterais              2\n",
       "<NA>                        1\n",
       "Name: count, dtype: Int64"
      ]
     },
     "execution_count": 11,
     "metadata": {},
     "output_type": "execute_result"
    }
   ],
   "source": [
    "df[\"subcategoria\"].value_counts(dropna=False)"
   ]
  },
  {
   "cell_type": "code",
   "execution_count": 12,
   "metadata": {},
   "outputs": [],
   "source": [
    "df = df.loc[df[\"subcategoria\"] == \"Celulares e Smartphones\"]"
   ]
  },
  {
   "cell_type": "code",
   "execution_count": 13,
   "metadata": {},
   "outputs": [
    {
     "data": {
      "text/plain": [
       "subcategoria\n",
       "Celulares e Smartphones    1.0\n",
       "Name: proportion, dtype: Float64"
      ]
     },
     "execution_count": 13,
     "metadata": {},
     "output_type": "execute_result"
    }
   ],
   "source": [
    "df[\"subcategoria\"].value_counts(dropna=False, normalize=True)"
   ]
  },
  {
   "cell_type": "markdown",
   "metadata": {},
   "source": [
    "## Formatação"
   ]
  },
  {
   "cell_type": "code",
   "execution_count": 13,
   "metadata": {},
   "outputs": [],
   "source": [
    "df['Item'] = df.index.to_list()"
   ]
  },
  {
   "cell_type": "code",
   "execution_count": 14,
   "metadata": {},
   "outputs": [],
   "source": [
    "df[\"Data da Coleta\"] = pd.to_datetime(df[\"data\"], format=\"mixed\").dt.strftime(\"%d/%m/%Y\")"
   ]
  },
  {
   "cell_type": "code",
   "execution_count": 17,
   "metadata": {},
   "outputs": [],
   "source": [
    "discard = df['certificado'].isna() & df['subcategoria'].isin(TO_DISCARD[name])\n",
    "df = df[~discard]"
   ]
  },
  {
   "cell_type": "code",
   "execution_count": 17,
   "metadata": {},
   "outputs": [],
   "source": [
    "# column = \"O tipo do produto é de uso proibido no Brasil?\"\n",
    "# df[column] = \"Não\""
   ]
  },
  {
   "cell_type": "code",
   "execution_count": 18,
   "metadata": {},
   "outputs": [],
   "source": [
    "# column = \"O produto é passível de homologação na Anatel? (Sim ou Não)\"\n",
    "# df[column] = \"Sim\"\n",
    "# df.loc[discard, column] = \"Não\"\n"
   ]
  },
  {
   "cell_type": "code",
   "execution_count": 18,
   "metadata": {},
   "outputs": [],
   "source": [
    "column = \"Número de Unidades à Venda\"\n",
    "df[column] = \"Não Informado\""
   ]
  },
  {
   "cell_type": "code",
   "execution_count": 19,
   "metadata": {},
   "outputs": [],
   "source": [
    "columns = [\"Existe o campo código de homologação no anúncio? (Sim ou Não)\",\n",
    "           \"O código de homologação foi fornecido? (Sim ou Não)\"]\n",
    "for column in columns:\n",
    "    df[column] = \"Sim\"\n",
    "    df.loc[df[\"certificado\"].isna(), column] = \"Não\"\n"
   ]
  },
  {
   "cell_type": "code",
   "execution_count": 20,
   "metadata": {},
   "outputs": [],
   "source": [
    "columns = [\n",
    "    \"O produto é homologado? (Sim, Não e N.A.)\",\n",
    "    \"Validação do código de homologação - O código de homologação fornecido é o do produto anunciado? (Sim, Não, N.A.)\",\n",
    "]\n",
    "for column in columns:\n",
    "    df[column] = \"\"\n"
   ]
  },
  {
   "cell_type": "code",
   "execution_count": 21,
   "metadata": {},
   "outputs": [],
   "source": [
    "column = \"O código EAN foi fornecido? (Sim ou Não) - Apenas para Smartphones.\"\n",
    "df[column] = \"Sim\"\n",
    "df.loc[df['ean_gtin'].isna(), column] = \"Não\"\n"
   ]
  },
  {
   "cell_type": "code",
   "execution_count": 22,
   "metadata": {},
   "outputs": [],
   "source": [
    "column = \"O código EAN fornecido corresponde ao produto? (Sim ou Não) -  Apenas para Smartphones.\"\n",
    "df[column] = \"\""
   ]
  },
  {
   "cell_type": "code",
   "execution_count": 23,
   "metadata": {},
   "outputs": [],
   "source": [
    "df.rename(\n",
    "    columns={\n",
    "        \"palavra_busca\": \"Texto da Busca\",\n",
    "        \"screenshot\": \"Arquivo da Página\",\n",
    "        \"url\": \"Endereço eletrônico (URL)\",\n",
    "        \"nome\": \"Descrição do produto no anúncio\",\n",
    "        \"subcategoria\": \"Tipo do Produto\",\n",
    "        \"marca\": \"Fabricante\",\n",
    "        \"modelo\": \"Modelo do Produto\",\n",
    "        \"preço\": \"Valor do Produto (R$)\",\n",
    "        \"certificado\": \"Observação 1 - Qual Código de Homologação fornecido no anúncio?\"\n",
    "    },\n",
    "    inplace=True,\n",
    ")\n"
   ]
  },
  {
   "cell_type": "code",
   "execution_count": 24,
   "metadata": {},
   "outputs": [],
   "source": [
    "COLUNAS = [\n",
    "    \"Item\",\n",
    "    \"Texto da Busca\",\n",
    "    \"Arquivo da Página\",\n",
    "    \"Data da Coleta\",\n",
    "    \"Endereço eletrônico (URL)\",\n",
    "    \"Descrição do produto no anúncio\",\n",
    "    \"Tipo do Produto\",\n",
    "    \"Fabricante\",\n",
    "    \"Modelo do Produto\",\n",
    "    \"Valor do Produto (R$)\",\n",
    "    \"Número de Unidades à Venda\",\n",
    "    \"Existe o campo código de homologação no anúncio? (Sim ou Não)\",\n",
    "    \"O código de homologação foi fornecido? (Sim ou Não)\",\n",
    "    \"O produto é homologado? (Sim, Não e N.A.)\",\n",
    "    \"Validação do código de homologação - O código de homologação fornecido é o do produto anunciado? (Sim, Não, N.A.)\",\n",
    "    \"O código EAN foi fornecido? (Sim ou Não) - Apenas para Smartphones.\",\n",
    "    \"O código EAN fornecido corresponde ao produto? (Sim ou Não) -  Apenas para Smartphones.\",\n",
    "    \"Observação 1 - Qual Código de Homologação fornecido no anúncio?\",\n",
    "]\n"
   ]
  },
  {
   "cell_type": "code",
   "execution_count": 25,
   "metadata": {},
   "outputs": [],
   "source": [
    "df = df[COLUNAS]"
   ]
  },
  {
   "cell_type": "code",
   "execution_count": 27,
   "metadata": {},
   "outputs": [
    {
     "name": "stdout",
     "output_type": "stream",
     "text": [
      "<class 'pandas.core.frame.DataFrame'>\n",
      "Index: 70 entries, 1 to 77\n",
      "Data columns (total 18 columns):\n",
      " #   Column                                                                                                             Non-Null Count  Dtype \n",
      "---  ------                                                                                                             --------------  ----- \n",
      " 0   Item                                                                                                               70 non-null     int64 \n",
      " 1   Texto da Busca                                                                                                     70 non-null     string\n",
      " 2   Arquivo da Página                                                                                                  70 non-null     string\n",
      " 3   Data da Coleta                                                                                                     70 non-null     object\n",
      " 4   Endereço eletrônico (URL)                                                                                          70 non-null     string\n",
      " 5   Descrição do produto no anúncio                                                                                    70 non-null     string\n",
      " 6   Tipo do Produto                                                                                                    70 non-null     string\n",
      " 7   Fabricante                                                                                                         70 non-null     string\n",
      " 8   Modelo do Produto                                                                                                  69 non-null     string\n",
      " 9   Valor do Produto (R$)                                                                                              70 non-null     string\n",
      " 10  Número de Unidades à Venda                                                                                         70 non-null     object\n",
      " 11  Existe o campo código de homologação no anúncio? (Sim ou Não)                                                      70 non-null     object\n",
      " 12  O código de homologação foi fornecido? (Sim ou Não)                                                                70 non-null     object\n",
      " 13  O produto é homologado? (Sim, Não e N.A.)                                                                          70 non-null     object\n",
      " 14  Validação do código de homologação - O código de homologação fornecido é o do produto anunciado? (Sim, Não, N.A.)  70 non-null     object\n",
      " 15  O código EAN foi fornecido? (Sim ou Não) - Apenas para Smartphones.                                                70 non-null     object\n",
      " 16  O código EAN fornecido corresponde ao produto? (Sim ou Não) -  Apenas para Smartphones.                            70 non-null     object\n",
      " 17  Observação 1 - Qual Código de Homologação fornecido no anúncio?                                                    68 non-null     string\n",
      "dtypes: int64(1), object(8), string(9)\n",
      "memory usage: 10.4+ KB\n"
     ]
    }
   ],
   "source": [
    "df.info()"
   ]
  },
  {
   "cell_type": "code",
   "execution_count": 28,
   "metadata": {},
   "outputs": [
    {
     "ename": "ValueError",
     "evalue": "Cannot take a larger sample than population when 'replace=False'",
     "output_type": "error",
     "traceback": [
      "\u001b[1;31m---------------------------------------------------------------------------\u001b[0m",
      "\u001b[1;31mValueError\u001b[0m                                Traceback (most recent call last)",
      "Cell \u001b[1;32mIn[28], line 1\u001b[0m\n\u001b[1;32m----> 1\u001b[0m df \u001b[38;5;241m=\u001b[39m \u001b[43mdf\u001b[49m\u001b[38;5;241;43m.\u001b[39;49m\u001b[43msample\u001b[49m\u001b[43m(\u001b[49m\u001b[38;5;241;43m78\u001b[39;49m\u001b[43m)\u001b[49m\n",
      "File \u001b[1;32md:\\Applications\\Scoop\\apps\\miniconda3\\current\\envs\\reg_dados\\Lib\\site-packages\\pandas\\core\\generic.py:6118\u001b[0m, in \u001b[0;36mNDFrame.sample\u001b[1;34m(self, n, frac, replace, weights, random_state, axis, ignore_index)\u001b[0m\n\u001b[0;32m   6115\u001b[0m \u001b[38;5;28;01mif\u001b[39;00m weights \u001b[38;5;129;01mis\u001b[39;00m \u001b[38;5;129;01mnot\u001b[39;00m \u001b[38;5;28;01mNone\u001b[39;00m:\n\u001b[0;32m   6116\u001b[0m     weights \u001b[38;5;241m=\u001b[39m sample\u001b[38;5;241m.\u001b[39mpreprocess_weights(\u001b[38;5;28mself\u001b[39m, weights, axis)\n\u001b[1;32m-> 6118\u001b[0m sampled_indices \u001b[38;5;241m=\u001b[39m \u001b[43msample\u001b[49m\u001b[38;5;241;43m.\u001b[39;49m\u001b[43msample\u001b[49m\u001b[43m(\u001b[49m\u001b[43mobj_len\u001b[49m\u001b[43m,\u001b[49m\u001b[43m \u001b[49m\u001b[43msize\u001b[49m\u001b[43m,\u001b[49m\u001b[43m \u001b[49m\u001b[43mreplace\u001b[49m\u001b[43m,\u001b[49m\u001b[43m \u001b[49m\u001b[43mweights\u001b[49m\u001b[43m,\u001b[49m\u001b[43m \u001b[49m\u001b[43mrs\u001b[49m\u001b[43m)\u001b[49m\n\u001b[0;32m   6119\u001b[0m result \u001b[38;5;241m=\u001b[39m \u001b[38;5;28mself\u001b[39m\u001b[38;5;241m.\u001b[39mtake(sampled_indices, axis\u001b[38;5;241m=\u001b[39maxis)\n\u001b[0;32m   6121\u001b[0m \u001b[38;5;28;01mif\u001b[39;00m ignore_index:\n",
      "File \u001b[1;32md:\\Applications\\Scoop\\apps\\miniconda3\\current\\envs\\reg_dados\\Lib\\site-packages\\pandas\\core\\sample.py:152\u001b[0m, in \u001b[0;36msample\u001b[1;34m(obj_len, size, replace, weights, random_state)\u001b[0m\n\u001b[0;32m    149\u001b[0m     \u001b[38;5;28;01melse\u001b[39;00m:\n\u001b[0;32m    150\u001b[0m         \u001b[38;5;28;01mraise\u001b[39;00m \u001b[38;5;167;01mValueError\u001b[39;00m(\u001b[38;5;124m\"\u001b[39m\u001b[38;5;124mInvalid weights: weights sum to zero\u001b[39m\u001b[38;5;124m\"\u001b[39m)\n\u001b[1;32m--> 152\u001b[0m \u001b[38;5;28;01mreturn\u001b[39;00m \u001b[43mrandom_state\u001b[49m\u001b[38;5;241;43m.\u001b[39;49m\u001b[43mchoice\u001b[49m\u001b[43m(\u001b[49m\u001b[43mobj_len\u001b[49m\u001b[43m,\u001b[49m\u001b[43m \u001b[49m\u001b[43msize\u001b[49m\u001b[38;5;241;43m=\u001b[39;49m\u001b[43msize\u001b[49m\u001b[43m,\u001b[49m\u001b[43m \u001b[49m\u001b[43mreplace\u001b[49m\u001b[38;5;241;43m=\u001b[39;49m\u001b[43mreplace\u001b[49m\u001b[43m,\u001b[49m\u001b[43m \u001b[49m\u001b[43mp\u001b[49m\u001b[38;5;241;43m=\u001b[39;49m\u001b[43mweights\u001b[49m\u001b[43m)\u001b[49m\u001b[38;5;241m.\u001b[39mastype(\n\u001b[0;32m    153\u001b[0m     np\u001b[38;5;241m.\u001b[39mintp, copy\u001b[38;5;241m=\u001b[39m\u001b[38;5;28;01mFalse\u001b[39;00m\n\u001b[0;32m    154\u001b[0m )\n",
      "File \u001b[1;32mnumpy\\\\random\\\\mtrand.pyx:1024\u001b[0m, in \u001b[0;36mnumpy.random.mtrand.RandomState.choice\u001b[1;34m()\u001b[0m\n",
      "\u001b[1;31mValueError\u001b[0m: Cannot take a larger sample than population when 'replace=False'"
     ]
    }
   ],
   "source": [
    "# df = df.sample(78)"
   ]
  },
  {
   "cell_type": "code",
   "execution_count": 29,
   "metadata": {},
   "outputs": [],
   "source": [
    "writer = pd.ExcelWriter(\n",
    "    json.with_suffix(\".xlsx\"),\n",
    "    engine=\"xlsxwriter\",\n",
    "    engine_kwargs={\"options\": {\"strings_to_urls\": True}},\n",
    ")\n"
   ]
  },
  {
   "cell_type": "code",
   "execution_count": 30,
   "metadata": {},
   "outputs": [],
   "source": [
    "sheet_name = f\"{name}-smartphone\"\n",
    "df.to_excel(writer, sheet_name=sheet_name, engine=\"xlsxwriter\", index=False)\n"
   ]
  },
  {
   "cell_type": "code",
   "execution_count": 31,
   "metadata": {},
   "outputs": [],
   "source": [
    "workbook = writer.book\n",
    "worksheet = writer.sheets[sheet_name]\n",
    "# Make the columns wider for clarity.\n",
    "worksheet.autofit()\n",
    "worksheet.set_default_row(hide_unused_rows=True)\n",
    "# Freeze the first row\n",
    "worksheet.freeze_panes(1, 0)\n",
    "        "
   ]
  },
  {
   "cell_type": "code",
   "execution_count": 32,
   "metadata": {},
   "outputs": [],
   "source": [
    "PREFIX = \"https://anatel365.sharepoint.com/sites/Desenvolvimentodeappfiscalizaoe-commerce/Documentos%20Compartilhados/General/Resultados/screenshots/\"\n",
    "for i, link in enumerate(df[\"Arquivo da Página\"], start=2):\n",
    "    pdf = PREFIX + link\n",
    "    worksheet.write_url(f\"C{i}\", pdf, string=link)\n"
   ]
  },
  {
   "cell_type": "code",
   "execution_count": 33,
   "metadata": {},
   "outputs": [],
   "source": [
    "writer.close()"
   ]
  }
 ],
 "metadata": {
  "kernelspec": {
   "display_name": "reg_dados",
   "language": "python",
   "name": "python3"
  },
  "language_info": {
   "codemirror_mode": {
    "name": "ipython",
    "version": 3
   },
   "file_extension": ".py",
   "mimetype": "text/x-python",
   "name": "python",
   "nbconvert_exporter": "python",
   "pygments_lexer": "ipython3",
   "version": "3.12.4"
  }
 },
 "nbformat": 4,
 "nbformat_minor": 2
}
