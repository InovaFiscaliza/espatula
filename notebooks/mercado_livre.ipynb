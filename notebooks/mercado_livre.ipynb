{
 "cells": [
  {
   "cell_type": "code",
   "execution_count": 1,
   "metadata": {},
   "outputs": [
    {
     "data": {
      "text/plain": [
       "(#9) [Path('D:/OneDrive - ANATEL/Regulatron/Resultados/amazon'),Path('D:/OneDrive - ANATEL/Regulatron/Resultados/americanas'),Path('D:/OneDrive - ANATEL/Regulatron/Resultados/carrefour'),Path('D:/OneDrive - ANATEL/Regulatron/Resultados/casas_bahia'),Path('D:/OneDrive - ANATEL/Regulatron/Resultados/lista_celulares_homologados_EAN_09_05 2.xlsx'),Path('D:/OneDrive - ANATEL/Regulatron/Resultados/magalu'),Path('D:/OneDrive - ANATEL/Regulatron/Resultados/ml'),Path('D:/OneDrive - ANATEL/Regulatron/Resultados/screenshots'),Path('D:/OneDrive - ANATEL/Regulatron/Resultados/shopee')]"
      ]
     },
     "execution_count": 1,
     "metadata": {},
     "output_type": "execute_result"
    }
   ],
   "source": [
    "from fastcore.xtras import Path\n",
    "from datetime import datetime\n",
    "import pandas as pd\n",
    "from IPython.display import display\n",
    "import xlsxwriter\n",
    "\n",
    "\n",
    "FOLDER = Path(r\"D:\\OneDrive - ANATEL\\Regulatron\\Resultados\")\n",
    "FOLDER.ls()\n"
   ]
  },
  {
   "cell_type": "code",
   "execution_count": 2,
   "metadata": {},
   "outputs": [],
   "source": [
    "TO_DISCARD = {\n",
    "    \"amazon\": [\n",
    "        \"Acessórios de Carros\",\n",
    "        \"Antenas\",\n",
    "        \"Apoios\",\n",
    "        \"Binóculos, Telescópios e Óptica\",\n",
    "        \"Cabos USB\",\n",
    "        \"Cabos de Lightning\",\n",
    "        \"Capas Laterais\",\n",
    "        \"Expansores e Ampliadores de Tela\",\n",
    "        \"GPS e Acessórios\",\n",
    "        \"Lentes\",\n",
    "        \"Som Automotivo\",\n",
    "        \"Suportes\",\n",
    "        \"Suportes de Cabeceira e Mesa\",\n",
    "    ],\n",
    "    \"ml\": [],\n",
    "}\n",
    "\n",
    "SUBCATEGORIES = {\n",
    "    \"amazon\": [\"Celulares e Smartphones\"],\n",
    "    \"ml\": [\"Celulares e Smartphones\"],\n",
    "}"
   ]
  },
  {
   "cell_type": "code",
   "execution_count": 3,
   "metadata": {},
   "outputs": [],
   "source": [
    "name = 'ml'\n",
    "folder = FOLDER / name\n"
   ]
  },
  {
   "cell_type": "code",
   "execution_count": 4,
   "metadata": {},
   "outputs": [
    {
     "data": {
      "text/html": [
       "<div>\n",
       "<style scoped>\n",
       "    .dataframe tbody tr th:only-of-type {\n",
       "        vertical-align: middle;\n",
       "    }\n",
       "\n",
       "    .dataframe tbody tr th {\n",
       "        vertical-align: top;\n",
       "    }\n",
       "\n",
       "    .dataframe thead th {\n",
       "        text-align: right;\n",
       "    }\n",
       "</style>\n",
       "<table border=\"1\" class=\"dataframe\">\n",
       "  <thead>\n",
       "    <tr style=\"text-align: right;\">\n",
       "      <th></th>\n",
       "      <th>nome</th>\n",
       "      <th>preço</th>\n",
       "      <th>avaliações</th>\n",
       "      <th>nota</th>\n",
       "      <th>imagem</th>\n",
       "      <th>url</th>\n",
       "      <th>data</th>\n",
       "      <th>palavra_busca</th>\n",
       "      <th>página_de_busca</th>\n",
       "      <th>categoria</th>\n",
       "      <th>...</th>\n",
       "      <th>estoque</th>\n",
       "      <th>vendedor</th>\n",
       "      <th>marca</th>\n",
       "      <th>modelo</th>\n",
       "      <th>certificado</th>\n",
       "      <th>ean_gtin</th>\n",
       "      <th>características</th>\n",
       "      <th>descrição</th>\n",
       "      <th>product_id</th>\n",
       "      <th>screenshot</th>\n",
       "    </tr>\n",
       "  </thead>\n",
       "  <tbody>\n",
       "    <tr>\n",
       "      <th>0</th>\n",
       "      <td>Xiaomi Redmi 13c 4/128gb</td>\n",
       "      <td>999</td>\n",
       "      <td>(22)</td>\n",
       "      <td>4.7</td>\n",
       "      <td>data:image/gif;base64,R0lGODlhAQABAIAAAAAAAP//...</td>\n",
       "      <td>https://click1.mercadolivre.com.br/mclics/clic...</td>\n",
       "      <td>2024-07-05T12:30:19</td>\n",
       "      <td>smartphone</td>\n",
       "      <td>34</td>\n",
       "      <td>&lt;NA&gt;</td>\n",
       "      <td>...</td>\n",
       "      <td>&lt;NA&gt;</td>\n",
       "      <td>&lt;NA&gt;</td>\n",
       "      <td>&lt;NA&gt;</td>\n",
       "      <td>&lt;NA&gt;</td>\n",
       "      <td>&lt;NA&gt;</td>\n",
       "      <td>&lt;NA&gt;</td>\n",
       "      <td>&lt;NA&gt;</td>\n",
       "      <td>&lt;NA&gt;</td>\n",
       "      <td>&lt;NA&gt;</td>\n",
       "      <td>&lt;NA&gt;</td>\n",
       "    </tr>\n",
       "    <tr>\n",
       "      <th>1</th>\n",
       "      <td>Xiaomi Redmi Note 13 4G Dual SIM 128 GB Azul 6...</td>\n",
       "      <td>1209</td>\n",
       "      <td>4197</td>\n",
       "      <td>4.7</td>\n",
       "      <td>data:image/gif;base64,R0lGODlhAQABAIAAAAAAAP//...</td>\n",
       "      <td>https://www.mercadolivre.com.br/xiaomi-redmi-n...</td>\n",
       "      <td>2024-07-09T03:27:13</td>\n",
       "      <td>smartphone</td>\n",
       "      <td>2</td>\n",
       "      <td>Celulares e Telefones|Celulares e Smartphones</td>\n",
       "      <td>...</td>\n",
       "      <td>+20</td>\n",
       "      <td>Vendido porYASSINIMPORTS +100 vendas</td>\n",
       "      <td>Xiaomi</td>\n",
       "      <td>Note 13 4G</td>\n",
       "      <td>221962314550</td>\n",
       "      <td>&lt;NA&gt;</td>\n",
       "      <td>{'Marca': 'Xiaomi', 'Linha': 'Redmi', 'Modelo'...</td>\n",
       "      <td>Fotografia profissional no seu bolsoDescubra i...</td>\n",
       "      <td>MLB30935711</td>\n",
       "      <td>ml_20240709_MLB30935711.pdf</td>\n",
       "    </tr>\n",
       "    <tr>\n",
       "      <th>2</th>\n",
       "      <td>&lt;NA&gt;</td>\n",
       "      <td>&lt;NA&gt;</td>\n",
       "      <td>&lt;NA&gt;</td>\n",
       "      <td>&lt;NA&gt;</td>\n",
       "      <td>data:image/gif;base64,R0lGODlhAQABAIAAAAAAAP//...</td>\n",
       "      <td>https://produto.mercadolivre.com.br/MLB-326475...</td>\n",
       "      <td>2024-07-09T03:27:30</td>\n",
       "      <td>smartphone</td>\n",
       "      <td>31</td>\n",
       "      <td>Celulares e Telefones</td>\n",
       "      <td>...</td>\n",
       "      <td>&lt;NA&gt;</td>\n",
       "      <td>&lt;NA&gt;</td>\n",
       "      <td>&lt;NA&gt;</td>\n",
       "      <td>&lt;NA&gt;</td>\n",
       "      <td>&lt;NA&gt;</td>\n",
       "      <td>&lt;NA&gt;</td>\n",
       "      <td>&lt;NA&gt;</td>\n",
       "      <td>&lt;NA&gt;</td>\n",
       "      <td>#redirectedFromVip</td>\n",
       "      <td>ml_20240709_#redirectedFromVip.pdf</td>\n",
       "    </tr>\n",
       "    <tr>\n",
       "      <th>3</th>\n",
       "      <td>Lançamento! Smartphone Zte Blade A3 Dual Sim 4...</td>\n",
       "      <td>399</td>\n",
       "      <td>&lt;NA&gt;</td>\n",
       "      <td>&lt;NA&gt;</td>\n",
       "      <td>data:image/gif;base64,R0lGODlhAQABAIAAAAAAAP//...</td>\n",
       "      <td>https://click1.mercadolivre.com.br/mclics/clic...</td>\n",
       "      <td>2024-07-05T12:24:35</td>\n",
       "      <td>smartphone</td>\n",
       "      <td>17</td>\n",
       "      <td>&lt;NA&gt;</td>\n",
       "      <td>...</td>\n",
       "      <td>&lt;NA&gt;</td>\n",
       "      <td>&lt;NA&gt;</td>\n",
       "      <td>&lt;NA&gt;</td>\n",
       "      <td>&lt;NA&gt;</td>\n",
       "      <td>&lt;NA&gt;</td>\n",
       "      <td>&lt;NA&gt;</td>\n",
       "      <td>&lt;NA&gt;</td>\n",
       "      <td>&lt;NA&gt;</td>\n",
       "      <td>&lt;NA&gt;</td>\n",
       "      <td>&lt;NA&gt;</td>\n",
       "    </tr>\n",
       "    <tr>\n",
       "      <th>4</th>\n",
       "      <td>Samsung Galaxy A15 256gb 8gb Ram Tela 6.5 90hz...</td>\n",
       "      <td>1177.05</td>\n",
       "      <td>15817</td>\n",
       "      <td>4.8</td>\n",
       "      <td>data:image/gif;base64,R0lGODlhAQABAIAAAAAAAP//...</td>\n",
       "      <td>https://www.mercadolivre.com.br/samsung-galaxy...</td>\n",
       "      <td>2024-07-09T03:28:09</td>\n",
       "      <td>smartphone</td>\n",
       "      <td>1</td>\n",
       "      <td>Celulares e Telefones|Celulares e Smartphones</td>\n",
       "      <td>...</td>\n",
       "      <td>+50</td>\n",
       "      <td>Loja oficialSamsung +1 M vendas</td>\n",
       "      <td>Samsung</td>\n",
       "      <td>A15 5G Dual Sim</td>\n",
       "      <td>198242300953</td>\n",
       "      <td>&lt;NA&gt;</td>\n",
       "      <td>{'Marca': 'Samsung', 'Linha': 'Galaxy A', 'Mod...</td>\n",
       "      <td>Galaxy A15 5GVibrante, fluido, detalhado.O dis...</td>\n",
       "      <td>MLB32290078</td>\n",
       "      <td>ml_20240709_MLB32290078.pdf</td>\n",
       "    </tr>\n",
       "  </tbody>\n",
       "</table>\n",
       "<p>5 rows × 23 columns</p>\n",
       "</div>"
      ],
      "text/plain": [
       "                                                nome    preço avaliações  \\\n",
       "0                           Xiaomi Redmi 13c 4/128gb      999       (22)   \n",
       "1  Xiaomi Redmi Note 13 4G Dual SIM 128 GB Azul 6...     1209       4197   \n",
       "2                                               <NA>     <NA>       <NA>   \n",
       "3  Lançamento! Smartphone Zte Blade A3 Dual Sim 4...      399       <NA>   \n",
       "4  Samsung Galaxy A15 256gb 8gb Ram Tela 6.5 90hz...  1177.05      15817   \n",
       "\n",
       "   nota                                             imagem  \\\n",
       "0   4.7  data:image/gif;base64,R0lGODlhAQABAIAAAAAAAP//...   \n",
       "1   4.7  data:image/gif;base64,R0lGODlhAQABAIAAAAAAAP//...   \n",
       "2  <NA>  data:image/gif;base64,R0lGODlhAQABAIAAAAAAAP//...   \n",
       "3  <NA>  data:image/gif;base64,R0lGODlhAQABAIAAAAAAAP//...   \n",
       "4   4.8  data:image/gif;base64,R0lGODlhAQABAIAAAAAAAP//...   \n",
       "\n",
       "                                                 url                 data  \\\n",
       "0  https://click1.mercadolivre.com.br/mclics/clic...  2024-07-05T12:30:19   \n",
       "1  https://www.mercadolivre.com.br/xiaomi-redmi-n...  2024-07-09T03:27:13   \n",
       "2  https://produto.mercadolivre.com.br/MLB-326475...  2024-07-09T03:27:30   \n",
       "3  https://click1.mercadolivre.com.br/mclics/clic...  2024-07-05T12:24:35   \n",
       "4  https://www.mercadolivre.com.br/samsung-galaxy...  2024-07-09T03:28:09   \n",
       "\n",
       "  palavra_busca página_de_busca  \\\n",
       "0    smartphone              34   \n",
       "1    smartphone               2   \n",
       "2    smartphone              31   \n",
       "3    smartphone              17   \n",
       "4    smartphone               1   \n",
       "\n",
       "                                       categoria  ... estoque  \\\n",
       "0                                           <NA>  ...    <NA>   \n",
       "1  Celulares e Telefones|Celulares e Smartphones  ...     +20   \n",
       "2                          Celulares e Telefones  ...    <NA>   \n",
       "3                                           <NA>  ...    <NA>   \n",
       "4  Celulares e Telefones|Celulares e Smartphones  ...     +50   \n",
       "\n",
       "                               vendedor    marca           modelo  \\\n",
       "0                                  <NA>     <NA>             <NA>   \n",
       "1  Vendido porYASSINIMPORTS +100 vendas   Xiaomi       Note 13 4G   \n",
       "2                                  <NA>     <NA>             <NA>   \n",
       "3                                  <NA>     <NA>             <NA>   \n",
       "4       Loja oficialSamsung +1 M vendas  Samsung  A15 5G Dual Sim   \n",
       "\n",
       "    certificado ean_gtin                                    características  \\\n",
       "0          <NA>     <NA>                                               <NA>   \n",
       "1  221962314550     <NA>  {'Marca': 'Xiaomi', 'Linha': 'Redmi', 'Modelo'...   \n",
       "2          <NA>     <NA>                                               <NA>   \n",
       "3          <NA>     <NA>                                               <NA>   \n",
       "4  198242300953     <NA>  {'Marca': 'Samsung', 'Linha': 'Galaxy A', 'Mod...   \n",
       "\n",
       "                                           descrição          product_id  \\\n",
       "0                                               <NA>                <NA>   \n",
       "1  Fotografia profissional no seu bolsoDescubra i...         MLB30935711   \n",
       "2                                               <NA>  #redirectedFromVip   \n",
       "3                                               <NA>                <NA>   \n",
       "4  Galaxy A15 5GVibrante, fluido, detalhado.O dis...         MLB32290078   \n",
       "\n",
       "                           screenshot  \n",
       "0                                <NA>  \n",
       "1         ml_20240709_MLB30935711.pdf  \n",
       "2  ml_20240709_#redirectedFromVip.pdf  \n",
       "3                                <NA>  \n",
       "4         ml_20240709_MLB32290078.pdf  \n",
       "\n",
       "[5 rows x 23 columns]"
      ]
     },
     "execution_count": 4,
     "metadata": {},
     "output_type": "execute_result"
    }
   ],
   "source": [
    "KEYWORD = \"smartphone\"\n",
    "json = folder / f\"{name}_{datetime.today().strftime(\"%Y%m%d\")}_{KEYWORD}.json\"\n",
    "df = pd.DataFrame(json.read_json().values(), dtype=\"string\")\n",
    "df.head()"
   ]
  },
  {
   "cell_type": "code",
   "execution_count": 5,
   "metadata": {},
   "outputs": [
    {
     "name": "stdout",
     "output_type": "stream",
     "text": [
      "<class 'pandas.core.frame.DataFrame'>\n",
      "RangeIndex: 78 entries, 0 to 77\n",
      "Data columns (total 23 columns):\n",
      " #   Column           Non-Null Count  Dtype \n",
      "---  ------           --------------  ----- \n",
      " 0   nome             75 non-null     string\n",
      " 1   preço            75 non-null     string\n",
      " 2   avaliações       29 non-null     string\n",
      " 3   nota             29 non-null     string\n",
      " 4   imagem           78 non-null     string\n",
      " 5   url              78 non-null     string\n",
      " 6   data             78 non-null     string\n",
      " 7   palavra_busca    78 non-null     string\n",
      " 8   página_de_busca  78 non-null     string\n",
      " 9   categoria        66 non-null     string\n",
      " 10  imagens          66 non-null     string\n",
      " 11  estado           36 non-null     string\n",
      " 12  vendas           36 non-null     string\n",
      " 13  estoque          38 non-null     string\n",
      " 14  vendedor         59 non-null     string\n",
      " 15  marca            63 non-null     string\n",
      " 16  modelo           63 non-null     string\n",
      " 17  certificado      63 non-null     string\n",
      " 18  ean_gtin         0 non-null      string\n",
      " 19  características  63 non-null     string\n",
      " 20  descrição        63 non-null     string\n",
      " 21  product_id       66 non-null     string\n",
      " 22  screenshot       66 non-null     string\n",
      "dtypes: string(23)\n",
      "memory usage: 14.1 KB\n"
     ]
    }
   ],
   "source": [
    "df.info()"
   ]
  },
  {
   "cell_type": "code",
   "execution_count": 6,
   "metadata": {},
   "outputs": [
    {
     "data": {
      "text/plain": [
       "categoria\n",
       "Celulares e Telefones|Celulares e Smartphones                                  55\n",
       "<NA>                                                                           12\n",
       "Celulares e Telefones                                                           3\n",
       "Celulares e Telefones|Celulares e Smartphones|Moto                              2\n",
       "Celulares e Telefones|Celulares e Smartphones|Samsung J7 Prime|Samsung J7       1\n",
       "Celulares e Telefones|Celulares e Smartphones|Samsung S20|Samsung S20 Fe        1\n",
       "Celulares e Telefones|Celulares e Smartphones|Asus                              1\n",
       "Celulares e Telefones|Celulares e Smartphones|Xiaomi|Xiaomi Redmi               1\n",
       "Celulares e Telefones|Celulares e Smartphones|Celular|Celular Samsung           1\n",
       "Celulares e Telefones|Celulares e Smartphones|Multilaser|Multilaser G Max 2     1\n",
       "Name: count, dtype: Int64"
      ]
     },
     "execution_count": 6,
     "metadata": {},
     "output_type": "execute_result"
    }
   ],
   "source": [
    "df['categoria'].value_counts(dropna=False)"
   ]
  },
  {
   "cell_type": "code",
   "execution_count": 7,
   "metadata": {},
   "outputs": [],
   "source": [
    "df.loc[df[\"categoria\"] == \"[]\", 'categoria'] = pd.NA"
   ]
  },
  {
   "cell_type": "code",
   "execution_count": 8,
   "metadata": {},
   "outputs": [],
   "source": [
    "columns = [\"nome\", \"categoria\", \"url\"]\n",
    "for column in columns:\n",
    "    for row in df[df[column].isna()].itertuples():\n",
    "        if (file := FOLDER / \"screenshots\" / f\"{row.screenshot}\").is_file():\n",
    "            print(f\"Deleting {file}\")\n",
    "            file.unlink()\n",
    "    df = df.dropna(subset=column).reset_index(drop=True)\n"
   ]
  },
  {
   "cell_type": "code",
   "execution_count": 9,
   "metadata": {},
   "outputs": [
    {
     "name": "stdout",
     "output_type": "stream",
     "text": [
      "<class 'pandas.core.frame.DataFrame'>\n",
      "RangeIndex: 84 entries, 0 to 83\n",
      "Data columns (total 22 columns):\n",
      " #   Column           Non-Null Count  Dtype \n",
      "---  ------           --------------  ----- \n",
      " 0   nome             84 non-null     string\n",
      " 1   preço            83 non-null     string\n",
      " 2   avaliações       29 non-null     string\n",
      " 3   nota             29 non-null     string\n",
      " 4   imagem           84 non-null     string\n",
      " 5   url              84 non-null     string\n",
      " 6   data             84 non-null     string\n",
      " 7   palavra_busca    84 non-null     string\n",
      " 8   página_de_busca  84 non-null     string\n",
      " 9   categoria        84 non-null     string\n",
      " 10  imagens          84 non-null     string\n",
      " 11  estado           43 non-null     string\n",
      " 12  vendas           43 non-null     string\n",
      " 13  estoque          57 non-null     string\n",
      " 14  vendedor         79 non-null     string\n",
      " 15  marca            84 non-null     string\n",
      " 16  modelo           84 non-null     string\n",
      " 17  certificado      42 non-null     string\n",
      " 18  ean_gtin         0 non-null      string\n",
      " 19  características  84 non-null     string\n",
      " 20  descrição        84 non-null     string\n",
      " 21  screenshot       84 non-null     string\n",
      "dtypes: string(22)\n",
      "memory usage: 14.6 KB\n"
     ]
    }
   ],
   "source": [
    "df.info()"
   ]
  },
  {
   "cell_type": "code",
   "execution_count": 10,
   "metadata": {},
   "outputs": [
    {
     "data": {
      "text/plain": [
       "certificado\n",
       "<NA>            42\n",
       "221962314550     5\n",
       "175342314550     5\n",
       "175412314550     2\n",
       "126752200330     2\n",
       "198292300953     2\n",
       "174092200330     2\n",
       "203362313366     2\n",
       "235492300953     1\n",
       "162182100953     1\n",
       "217582209185     1\n",
       "130772203589     1\n",
       "101232009185     1\n",
       "233792313713     1\n",
       "154282003589     1\n",
       "233922313713     1\n",
       "184972000953     1\n",
       "175602314550     1\n",
       "217622209185     1\n",
       "152442000953     1\n",
       "139722300953     1\n",
       "206672300330     1\n",
       "215602313366     1\n",
       "178752000330     1\n",
       "238392314550     1\n",
       "178242000330     1\n",
       "130982007600     1\n",
       "237932314550     1\n",
       "130132206887     1\n",
       "217522314550     1\n",
       "Name: count, dtype: Int64"
      ]
     },
     "execution_count": 10,
     "metadata": {},
     "output_type": "execute_result"
    }
   ],
   "source": [
    "df[\"certificado\"].value_counts(dropna=False)"
   ]
  },
  {
   "cell_type": "code",
   "execution_count": 11,
   "metadata": {},
   "outputs": [
    {
     "data": {
      "text/plain": [
       "ean_gtin\n",
       "<NA>    84\n",
       "Name: count, dtype: Int64"
      ]
     },
     "execution_count": 11,
     "metadata": {},
     "output_type": "execute_result"
    }
   ],
   "source": [
    "df.loc[df[\"ean_gtin\"] == \"\", 'ean_gtin'] = pd.NA\n",
    "df[\"ean_gtin\"].value_counts(dropna=False)\n"
   ]
  },
  {
   "cell_type": "code",
   "execution_count": 8,
   "metadata": {},
   "outputs": [
    {
     "name": "stdout",
     "output_type": "stream",
     "text": [
      "4\n"
     ]
    }
   ],
   "source": [
    "categories = df[\"categoria\"].str.split(\"|\", expand=True)\n",
    "categories.columns = [f\"categoria_{c}\" for c in categories.columns]\n",
    "print(len(categories.columns))\n",
    "for cat in categories:\n",
    "    categories[cat] = categories[cat].str.strip()\n",
    "df = pd.concat([df, categories], axis=1)"
   ]
  },
  {
   "cell_type": "code",
   "execution_count": 9,
   "metadata": {},
   "outputs": [],
   "source": [
    "for cat in categories.columns:\n",
    "    condition = df[cat].notna()\n",
    "    df.loc[condition, \"subcategoria\"] = df.loc[condition, cat]"
   ]
  },
  {
   "cell_type": "code",
   "execution_count": 10,
   "metadata": {},
   "outputs": [
    {
     "data": {
      "text/plain": [
       "categoria_0\n",
       "Celulares e Telefones    66\n",
       "<NA>                     12\n",
       "Name: count, dtype: Int64"
      ]
     },
     "execution_count": 10,
     "metadata": {},
     "output_type": "execute_result"
    }
   ],
   "source": [
    "df[\"categoria_0\"].value_counts(dropna=False)"
   ]
  },
  {
   "cell_type": "code",
   "execution_count": 11,
   "metadata": {},
   "outputs": [
    {
     "data": {
      "text/plain": [
       "categoria_1\n",
       "Celulares e Smartphones    63\n",
       "<NA>                       15\n",
       "Name: count, dtype: Int64"
      ]
     },
     "execution_count": 11,
     "metadata": {},
     "output_type": "execute_result"
    }
   ],
   "source": [
    "df[\"categoria_1\"].value_counts(dropna=False)"
   ]
  },
  {
   "cell_type": "code",
   "execution_count": 12,
   "metadata": {},
   "outputs": [
    {
     "data": {
      "text/plain": [
       "categoria_2\n",
       "<NA>                70\n",
       "Moto                 2\n",
       "Samsung J7 Prime     1\n",
       "Samsung S20          1\n",
       "Asus                 1\n",
       "Xiaomi               1\n",
       "Celular              1\n",
       "Multilaser           1\n",
       "Name: count, dtype: Int64"
      ]
     },
     "execution_count": 12,
     "metadata": {},
     "output_type": "execute_result"
    }
   ],
   "source": [
    "df[\"categoria_2\"].value_counts(dropna=False)"
   ]
  },
  {
   "cell_type": "code",
   "execution_count": 13,
   "metadata": {},
   "outputs": [
    {
     "data": {
      "text/plain": [
       "categoria_3\n",
       "<NA>                  73\n",
       "Samsung S20 Fe         1\n",
       "Samsung J7             1\n",
       "Xiaomi Redmi           1\n",
       "Celular Samsung        1\n",
       "Multilaser G Max 2     1\n",
       "Name: count, dtype: Int64"
      ]
     },
     "execution_count": 13,
     "metadata": {},
     "output_type": "execute_result"
    }
   ],
   "source": [
    "df[\"categoria_3\"].value_counts(dropna=False)"
   ]
  },
  {
   "cell_type": "code",
   "execution_count": 18,
   "metadata": {},
   "outputs": [],
   "source": [
    "# df[\"categoria_4\"].value_counts(dropna=False)"
   ]
  },
  {
   "cell_type": "code",
   "execution_count": 14,
   "metadata": {},
   "outputs": [
    {
     "data": {
      "text/plain": [
       "subcategoria\n",
       "Celulares e Smartphones    55\n",
       "<NA>                       12\n",
       "Celulares e Telefones       3\n",
       "Moto                        2\n",
       "Samsung J7                  1\n",
       "Samsung S20 Fe              1\n",
       "Asus                        1\n",
       "Xiaomi Redmi                1\n",
       "Celular Samsung             1\n",
       "Multilaser G Max 2          1\n",
       "Name: count, dtype: Int64"
      ]
     },
     "execution_count": 14,
     "metadata": {},
     "output_type": "execute_result"
    }
   ],
   "source": [
    "df[\"subcategoria\"].value_counts(dropna=False)"
   ]
  },
  {
   "cell_type": "code",
   "execution_count": 20,
   "metadata": {},
   "outputs": [],
   "source": [
    "df['subcategoria'] = df['categoria_1']"
   ]
  },
  {
   "cell_type": "code",
   "execution_count": 21,
   "metadata": {},
   "outputs": [
    {
     "data": {
      "text/plain": [
       "subcategoria\n",
       "Celulares e Smartphones    1.0\n",
       "Name: proportion, dtype: Float64"
      ]
     },
     "execution_count": 21,
     "metadata": {},
     "output_type": "execute_result"
    }
   ],
   "source": [
    "df[\"subcategoria\"].value_counts(dropna=False, normalize=True)"
   ]
  },
  {
   "cell_type": "markdown",
   "metadata": {},
   "source": [
    "## Formatação"
   ]
  },
  {
   "cell_type": "code",
   "execution_count": 22,
   "metadata": {},
   "outputs": [],
   "source": [
    "df['Item'] = df.index.to_list()"
   ]
  },
  {
   "cell_type": "code",
   "execution_count": 23,
   "metadata": {},
   "outputs": [],
   "source": [
    "df[\"Data da Coleta\"] = pd.to_datetime(df[\"data\"], format=\"mixed\").dt.strftime(\"%d/%m/%Y\")"
   ]
  },
  {
   "cell_type": "code",
   "execution_count": 24,
   "metadata": {},
   "outputs": [],
   "source": [
    "discard = df['certificado'].isna() & df['subcategoria'].isin(TO_DISCARD[name])"
   ]
  },
  {
   "cell_type": "code",
   "execution_count": 25,
   "metadata": {},
   "outputs": [],
   "source": [
    "# column = \"O tipo do produto é de uso proibido no Brasil?\"\n",
    "# df[column] = \"Não\""
   ]
  },
  {
   "cell_type": "code",
   "execution_count": 26,
   "metadata": {},
   "outputs": [],
   "source": [
    "# column = \"O produto é passível de homologação na Anatel? (Sim ou Não)\"\n",
    "# df[column] = \"Sim\"\n",
    "# df.loc[discard, column] = \"Não\"\n"
   ]
  },
  {
   "cell_type": "code",
   "execution_count": 27,
   "metadata": {},
   "outputs": [],
   "source": [
    "column = \"Número de Unidades à Venda\"\n",
    "df[column] = df['estoque']"
   ]
  },
  {
   "cell_type": "code",
   "execution_count": 28,
   "metadata": {},
   "outputs": [],
   "source": [
    "columns = [\"Existe o campo código de homologação no anúncio? (Sim ou Não)\",\n",
    "           \"O código de homologação foi fornecido? (Sim ou Não)\"]\n",
    "for column in columns:\n",
    "    df[column] = \"Sim\"\n",
    "    df.loc[df[\"certificado\"].isna(), column] = \"Não\"\n"
   ]
  },
  {
   "cell_type": "code",
   "execution_count": 29,
   "metadata": {},
   "outputs": [],
   "source": [
    "columns = [\n",
    "    \"O produto é homologado? (Sim, Não e N.A.)\",\n",
    "    \"Validação do código de homologação - O código de homologação fornecido é o do produto anunciado? (Sim, Não, N.A.)\",\n",
    "]\n",
    "for column in columns:\n",
    "    df[column] = \"\"\n"
   ]
  },
  {
   "cell_type": "code",
   "execution_count": 30,
   "metadata": {},
   "outputs": [],
   "source": [
    "column = \"O código EAN foi fornecido? (Sim ou Não) - Apenas para Smartphones.\"\n",
    "df[column] = \"Sim\"\n",
    "df.loc[df['ean_gtin'].isna(), column] = \"Não\"\n"
   ]
  },
  {
   "cell_type": "code",
   "execution_count": 31,
   "metadata": {},
   "outputs": [],
   "source": [
    "column = \"O código EAN fornecido corresponde ao produto? (Sim ou Não) -  Apenas para Smartphones.\"\n",
    "df[column] = \"\""
   ]
  },
  {
   "cell_type": "code",
   "execution_count": 32,
   "metadata": {},
   "outputs": [],
   "source": [
    "df.rename(\n",
    "    columns={\n",
    "        \"palavra_busca\": \"Texto da Busca\",\n",
    "        \"screenshot\": \"Arquivo da Página\",\n",
    "        \"url\": \"Endereço eletrônico (URL)\",\n",
    "        \"nome\": \"Descrição do produto no anúncio\",\n",
    "        \"subcategoria\": \"Tipo do Produto\",\n",
    "        \"marca\": \"Fabricante\",\n",
    "        \"modelo\": \"Modelo do Produto\",\n",
    "        \"preço\": \"Valor do Produto (R$)\",\n",
    "        \"certificado\": \"Observação 1 - Qual Código de Homologação fornecido no anúncio?\"\n",
    "    },\n",
    "    inplace=True,\n",
    ")\n"
   ]
  },
  {
   "cell_type": "code",
   "execution_count": 33,
   "metadata": {},
   "outputs": [],
   "source": [
    "COLUNAS = [\n",
    "    \"Item\",\n",
    "    \"Texto da Busca\",\n",
    "    \"Arquivo da Página\",\n",
    "    \"Data da Coleta\",\n",
    "    \"Endereço eletrônico (URL)\",\n",
    "    \"Descrição do produto no anúncio\",\n",
    "    # \"O tipo do produto é de uso proibido no Brasil?\",\n",
    "    # \"O produto é passível de homologação na Anatel? (Sim ou Não)\",\n",
    "    \"Tipo do Produto\",\n",
    "    \"Fabricante\",\n",
    "    \"Modelo do Produto\",\n",
    "    \"Valor do Produto (R$)\",\n",
    "    \"Número de Unidades à Venda\",\n",
    "    \"Existe o campo código de homologação no anúncio? (Sim ou Não)\",\n",
    "    \"O código de homologação foi fornecido? (Sim ou Não)\",\n",
    "    \"O produto é homologado? (Sim, Não e N.A.)\",\n",
    "    \"Validação do código de homologação - O código de homologação fornecido é o do produto anunciado? (Sim, Não, N.A.)\",\n",
    "    \"O código EAN foi fornecido? (Sim ou Não) - Apenas para Smartphones.\",\n",
    "    \"O código EAN fornecido corresponde ao produto? (Sim ou Não) -  Apenas para Smartphones.\",\n",
    "    \"Observação 1 - Qual Código de Homologação fornecido no anúncio?\",\n",
    "]\n"
   ]
  },
  {
   "cell_type": "code",
   "execution_count": 34,
   "metadata": {},
   "outputs": [],
   "source": [
    "df = df[COLUNAS]"
   ]
  },
  {
   "cell_type": "code",
   "execution_count": 35,
   "metadata": {},
   "outputs": [],
   "source": [
    "df = df.sample(78)"
   ]
  },
  {
   "cell_type": "code",
   "execution_count": 36,
   "metadata": {},
   "outputs": [],
   "source": [
    "writer = pd.ExcelWriter(\n",
    "    json.with_suffix(\".xlsx\"),\n",
    "    engine=\"xlsxwriter\",\n",
    "    engine_kwargs={\"options\": {\"strings_to_urls\": True}},\n",
    ")\n"
   ]
  },
  {
   "cell_type": "code",
   "execution_count": 37,
   "metadata": {},
   "outputs": [],
   "source": [
    "sheet_name = f\"{name}-smartphone\"\n",
    "df.to_excel(writer, sheet_name=sheet_name, engine=\"xlsxwriter\", index=False)\n"
   ]
  },
  {
   "cell_type": "code",
   "execution_count": 38,
   "metadata": {},
   "outputs": [],
   "source": [
    "workbook = writer.book\n",
    "worksheet = writer.sheets[sheet_name]\n",
    "# Make the columns wider for clarity.\n",
    "worksheet.autofit()\n",
    "worksheet.set_default_row(hide_unused_rows=True)\n",
    "# Freeze the first row\n",
    "worksheet.freeze_panes(1, 0)\n",
    "        "
   ]
  },
  {
   "cell_type": "code",
   "execution_count": 39,
   "metadata": {},
   "outputs": [],
   "source": [
    "PREFIX = \"https://anatel365.sharepoint.com/sites/Desenvolvimentodeappfiscalizaoe-commerce/Documentos%20Compartilhados/General/Resultados/screenshots/\"\n",
    "for i, link in enumerate(df[\"Arquivo da Página\"], start=2):\n",
    "    pdf = PREFIX + link\n",
    "    worksheet.write_url(f\"C{i}\", pdf, string=link)\n"
   ]
  },
  {
   "cell_type": "code",
   "execution_count": 40,
   "metadata": {},
   "outputs": [],
   "source": [
    "writer.close()"
   ]
  }
 ],
 "metadata": {
  "kernelspec": {
   "display_name": "reg_dados",
   "language": "python",
   "name": "python3"
  },
  "language_info": {
   "codemirror_mode": {
    "name": "ipython",
    "version": 3
   },
   "file_extension": ".py",
   "mimetype": "text/x-python",
   "name": "python",
   "nbconvert_exporter": "python",
   "pygments_lexer": "ipython3",
   "version": "3.12.4"
  }
 },
 "nbformat": 4,
 "nbformat_minor": 2
}
