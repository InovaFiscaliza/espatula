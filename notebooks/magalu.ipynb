{
 "cells": [
  {
   "cell_type": "code",
   "execution_count": 1,
   "metadata": {},
   "outputs": [
    {
     "data": {
      "text/plain": [
       "(#9) [Path('D:/OneDrive - ANATEL/Regulatron/Resultados/amazon'),Path('D:/OneDrive - ANATEL/Regulatron/Resultados/americanas'),Path('D:/OneDrive - ANATEL/Regulatron/Resultados/carrefour'),Path('D:/OneDrive - ANATEL/Regulatron/Resultados/casas_bahia'),Path('D:/OneDrive - ANATEL/Regulatron/Resultados/lista_celulares_homologados_EAN_09_05 2.xlsx'),Path('D:/OneDrive - ANATEL/Regulatron/Resultados/magalu'),Path('D:/OneDrive - ANATEL/Regulatron/Resultados/ml'),Path('D:/OneDrive - ANATEL/Regulatron/Resultados/screenshots'),Path('D:/OneDrive - ANATEL/Regulatron/Resultados/shopee_smartphone.json')]"
      ]
     },
     "execution_count": 1,
     "metadata": {},
     "output_type": "execute_result"
    }
   ],
   "source": [
    "from datetime import datetime\n",
    "from fastcore.xtras import Path\n",
    "import pandas as pd\n",
    "from IPython.display import display\n",
    "import xlsxwriter\n",
    "\n",
    "\n",
    "FOLDER = Path(r\"D:\\OneDrive - ANATEL\\Regulatron\\Resultados\")\n",
    "FOLDER.ls()\n"
   ]
  },
  {
   "cell_type": "code",
   "execution_count": 2,
   "metadata": {},
   "outputs": [],
   "source": [
    "TO_DISCARD = {\n",
    "    \"amazon\": [\n",
    "        \"Acessórios de Carros\",\n",
    "        \"Antenas\",\n",
    "        \"Apoios\",\n",
    "        \"Binóculos, Telescópios e Óptica\",\n",
    "        \"Cabos USB\",\n",
    "        \"Cabos de Lightning\",\n",
    "        \"Capas Laterais\",\n",
    "        \"Expansores e Ampliadores de Tela\",\n",
    "        \"GPS e Acessórios\",\n",
    "        \"Lentes\",\n",
    "        \"Som Automotivo\",\n",
    "        \"Suportes\",\n",
    "        \"Suportes de Cabeceira e Mesa\",\n",
    "    ],\n",
    "    \"ml\": [],\n",
    "}\n",
    "\n",
    "SUBCATEGORIES = {\n",
    "    \"amazon\": [\"Celulares e Smartphones\"],\n",
    "    \"ml\": [\"Celulares e Smartphones\"],\n",
    "    \"magalu\": [\n",
    "        \"xiaomi\",\n",
    "        \"celular básico\",\n",
    "        \"galaxy\",\n",
    "        \"smartphone\",\n",
    "        \"motorola\",\n",
    "        \"carregador de celular\",\n",
    "        \"moto\",\n",
    "        \"multilaser\",\n",
    "        \"poco\",\n",
    "        \"iphone\",\n",
    "        \"positivo\",\n",
    "        \"lg\",\n",
    "        \"infinix\",\n",
    "        \"nokia\",\n",
    "        \"redmi\",\n",
    "        \"tcl\",\n",
    "        \"oppo\",\n",
    "        \"asus\",\n",
    "        \"philco\",\n",
    "        \"lenovo\",\n",
    "    ],\n",
    "}"
   ]
  },
  {
   "cell_type": "code",
   "execution_count": 3,
   "metadata": {},
   "outputs": [],
   "source": [
    "name = 'magalu'\n",
    "folder = FOLDER / name\n"
   ]
  },
  {
   "cell_type": "code",
   "execution_count": 4,
   "metadata": {},
   "outputs": [
    {
     "data": {
      "text/html": [
       "<div>\n",
       "<style scoped>\n",
       "    .dataframe tbody tr th:only-of-type {\n",
       "        vertical-align: middle;\n",
       "    }\n",
       "\n",
       "    .dataframe tbody tr th {\n",
       "        vertical-align: top;\n",
       "    }\n",
       "\n",
       "    .dataframe thead th {\n",
       "        text-align: right;\n",
       "    }\n",
       "</style>\n",
       "<table border=\"1\" class=\"dataframe\">\n",
       "  <thead>\n",
       "    <tr style=\"text-align: right;\">\n",
       "      <th></th>\n",
       "      <th>nome</th>\n",
       "      <th>preço</th>\n",
       "      <th>preço_Original</th>\n",
       "      <th>avaliações</th>\n",
       "      <th>imagem</th>\n",
       "      <th>url</th>\n",
       "      <th>data</th>\n",
       "      <th>palavra_busca</th>\n",
       "      <th>página_de_busca</th>\n",
       "      <th>categoria</th>\n",
       "      <th>nota</th>\n",
       "      <th>imagens</th>\n",
       "      <th>descrição</th>\n",
       "      <th>marca</th>\n",
       "      <th>modelo</th>\n",
       "      <th>certificado</th>\n",
       "      <th>ean_gtin</th>\n",
       "      <th>características</th>\n",
       "      <th>product_id</th>\n",
       "      <th>screenshot</th>\n",
       "    </tr>\n",
       "  </thead>\n",
       "  <tbody>\n",
       "    <tr>\n",
       "      <th>0</th>\n",
       "      <td>Apple iPhone 15 128GB Preto 6,1\" 48MP iOS 5G</td>\n",
       "      <td>4769.10</td>\n",
       "      <td>R$ 7.299,00</td>\n",
       "      <td>315</td>\n",
       "      <td>https://a-static.mlcdn.com.br/280x210/apple-ip...</td>\n",
       "      <td>https://www.magazineluiza.com.br/apple-iphone-...</td>\n",
       "      <td>2024-07-08T04:42:40</td>\n",
       "      <td>smartphone</td>\n",
       "      <td>2</td>\n",
       "      <td>Celulares e Smartphones | iPhone | iPhone 15</td>\n",
       "      <td>4.9</td>\n",
       "      <td>['https://a-static.mlcdn.com.br/90x90/apple-ip...</td>\n",
       "      <td>O iPhone 15 traz a Dynamic Island, câmera gran...</td>\n",
       "      <td>Apple</td>\n",
       "      <td>iPhone 15</td>\n",
       "      <td>127572301993</td>\n",
       "      <td>&lt;NA&gt;</td>\n",
       "      <td>{'Marca': 'Apple', 'Referência': 'MTP03BR/A', ...</td>\n",
       "      <td>238035600</td>\n",
       "      <td>magalu_20240708_238035600.pdf</td>\n",
       "    </tr>\n",
       "    <tr>\n",
       "      <th>1</th>\n",
       "      <td>Smartphone Motorola Edge 50 Pro 5G</td>\n",
       "      <td>3149.10</td>\n",
       "      <td>R$ 3.499,00</td>\n",
       "      <td>38</td>\n",
       "      <td>https://a-static.mlcdn.com.br/280x210/smartpho...</td>\n",
       "      <td>https://www.magazineluiza.com.br/smartphone-mo...</td>\n",
       "      <td>2024-07-08T04:42:49</td>\n",
       "      <td>smartphone</td>\n",
       "      <td>3</td>\n",
       "      <td>Celulares e Smartphones | Motorola</td>\n",
       "      <td>4.6</td>\n",
       "      <td>['https://a-static.mlcdn.com.br/90x90/smartpho...</td>\n",
       "      <td>Conheça o smartphone motorola edge 50 pro com ...</td>\n",
       "      <td>&lt;NA&gt;</td>\n",
       "      <td>&lt;NA&gt;</td>\n",
       "      <td>004972400330</td>\n",
       "      <td>&lt;NA&gt;</td>\n",
       "      <td>{'tela': 'Tela 6,7” Super HD (1220x2712) | HDR...</td>\n",
       "      <td>jja4721368</td>\n",
       "      <td>magalu_20240708_jja4721368.pdf</td>\n",
       "    </tr>\n",
       "    <tr>\n",
       "      <th>2</th>\n",
       "      <td>Celular para Idosos: Positivo P28, Letras Gran...</td>\n",
       "      <td>198.18</td>\n",
       "      <td>R$ 233,15</td>\n",
       "      <td>&lt;NA&gt;</td>\n",
       "      <td>https://a-static.mlcdn.com.br/280x210/celular-...</td>\n",
       "      <td>https://www.magazineluiza.com.br/celular-para-...</td>\n",
       "      <td>2024-07-08T04:42:58</td>\n",
       "      <td>smartphone</td>\n",
       "      <td>13</td>\n",
       "      <td>Celulares e Smartphones | Celular Básico</td>\n",
       "      <td>&lt;NA&gt;</td>\n",
       "      <td>['https://a-static.mlcdn.com.br/90x90/celular-...</td>\n",
       "      <td>Celular Positivo P28 Dual Sim 32Mb Preto</td>\n",
       "      <td>&lt;NA&gt;</td>\n",
       "      <td>&lt;NA&gt;</td>\n",
       "      <td>037442113015</td>\n",
       "      <td>&lt;NA&gt;</td>\n",
       "      <td>{'Registro do produto ANVISA': '80275310044', ...</td>\n",
       "      <td>ge964864ck</td>\n",
       "      <td>magalu_20240708_ge964864ck.pdf</td>\n",
       "    </tr>\n",
       "    <tr>\n",
       "      <th>3</th>\n",
       "      <td>Smartphone xiaomi redmi note 13 8gb Ram 256gb</td>\n",
       "      <td>1499.90</td>\n",
       "      <td>R$ 1.999,99</td>\n",
       "      <td>42</td>\n",
       "      <td>https://a-static.mlcdn.com.br/280x210/smartpho...</td>\n",
       "      <td>https://www.magazineluiza.com.br/smartphone-xi...</td>\n",
       "      <td>2024-07-08T04:43:07</td>\n",
       "      <td>smartphone</td>\n",
       "      <td>5</td>\n",
       "      <td>Celulares e Smartphones | Xiaomi</td>\n",
       "      <td>4.5</td>\n",
       "      <td>['https://a-static.mlcdn.com.br/90x90/smartpho...</td>\n",
       "      <td>Fotos vibrantes e cheias de vida com 108MP</td>\n",
       "      <td>Xiaomi</td>\n",
       "      <td>&lt;NA&gt;</td>\n",
       "      <td>221962314550</td>\n",
       "      <td>&lt;NA&gt;</td>\n",
       "      <td>{'Marca': 'Xiaomi', 'Memoria Ram': '8GB', 'Mem...</td>\n",
       "      <td>bcbk6dk038</td>\n",
       "      <td>magalu_20240708_bcbk6dk038.pdf</td>\n",
       "    </tr>\n",
       "    <tr>\n",
       "      <th>4</th>\n",
       "      <td>Smartphone Samsung Galaxy S23 256GB Creme 5G -...</td>\n",
       "      <td>2988.10</td>\n",
       "      <td>R$ 7.198,00</td>\n",
       "      <td>177</td>\n",
       "      <td>https://a-static.mlcdn.com.br/280x210/smartpho...</td>\n",
       "      <td>https://www.magazineluiza.com.br/smartphone-sa...</td>\n",
       "      <td>2024-07-08T04:43:16</td>\n",
       "      <td>smartphone</td>\n",
       "      <td>1</td>\n",
       "      <td>Celulares e Smartphones | Galaxy | Galaxy S23</td>\n",
       "      <td>4.5</td>\n",
       "      <td>['https://a-static.mlcdn.com.br/90x90/smartpho...</td>\n",
       "      <td>Para você que está a procura de um novo smartp...</td>\n",
       "      <td>Samsung</td>\n",
       "      <td>S23</td>\n",
       "      <td>171522200953</td>\n",
       "      <td>&lt;NA&gt;</td>\n",
       "      <td>{'Marca': 'Samsung', 'Referência': 'SM-S911BZE...</td>\n",
       "      <td>239000200</td>\n",
       "      <td>magalu_20240708_239000200.pdf</td>\n",
       "    </tr>\n",
       "  </tbody>\n",
       "</table>\n",
       "</div>"
      ],
      "text/plain": [
       "                                                nome     preço preço_Original  \\\n",
       "0       Apple iPhone 15 128GB Preto 6,1\" 48MP iOS 5G   4769.10    R$ 7.299,00   \n",
       "1                 Smartphone Motorola Edge 50 Pro 5G   3149.10    R$ 3.499,00   \n",
       "2  Celular para Idosos: Positivo P28, Letras Gran...    198.18      R$ 233,15   \n",
       "3      Smartphone xiaomi redmi note 13 8gb Ram 256gb   1499.90    R$ 1.999,99   \n",
       "4  Smartphone Samsung Galaxy S23 256GB Creme 5G -...   2988.10    R$ 7.198,00   \n",
       "\n",
       "  avaliações                                             imagem  \\\n",
       "0        315  https://a-static.mlcdn.com.br/280x210/apple-ip...   \n",
       "1         38  https://a-static.mlcdn.com.br/280x210/smartpho...   \n",
       "2       <NA>  https://a-static.mlcdn.com.br/280x210/celular-...   \n",
       "3         42  https://a-static.mlcdn.com.br/280x210/smartpho...   \n",
       "4        177  https://a-static.mlcdn.com.br/280x210/smartpho...   \n",
       "\n",
       "                                                 url                 data  \\\n",
       "0  https://www.magazineluiza.com.br/apple-iphone-...  2024-07-08T04:42:40   \n",
       "1  https://www.magazineluiza.com.br/smartphone-mo...  2024-07-08T04:42:49   \n",
       "2  https://www.magazineluiza.com.br/celular-para-...  2024-07-08T04:42:58   \n",
       "3  https://www.magazineluiza.com.br/smartphone-xi...  2024-07-08T04:43:07   \n",
       "4  https://www.magazineluiza.com.br/smartphone-sa...  2024-07-08T04:43:16   \n",
       "\n",
       "  palavra_busca página_de_busca  \\\n",
       "0    smartphone               2   \n",
       "1    smartphone               3   \n",
       "2    smartphone              13   \n",
       "3    smartphone               5   \n",
       "4    smartphone               1   \n",
       "\n",
       "                                       categoria  nota  \\\n",
       "0   Celulares e Smartphones | iPhone | iPhone 15   4.9   \n",
       "1             Celulares e Smartphones | Motorola   4.6   \n",
       "2       Celulares e Smartphones | Celular Básico  <NA>   \n",
       "3               Celulares e Smartphones | Xiaomi   4.5   \n",
       "4  Celulares e Smartphones | Galaxy | Galaxy S23   4.5   \n",
       "\n",
       "                                             imagens  \\\n",
       "0  ['https://a-static.mlcdn.com.br/90x90/apple-ip...   \n",
       "1  ['https://a-static.mlcdn.com.br/90x90/smartpho...   \n",
       "2  ['https://a-static.mlcdn.com.br/90x90/celular-...   \n",
       "3  ['https://a-static.mlcdn.com.br/90x90/smartpho...   \n",
       "4  ['https://a-static.mlcdn.com.br/90x90/smartpho...   \n",
       "\n",
       "                                           descrição    marca     modelo  \\\n",
       "0  O iPhone 15 traz a Dynamic Island, câmera gran...    Apple  iPhone 15   \n",
       "1  Conheça o smartphone motorola edge 50 pro com ...     <NA>       <NA>   \n",
       "2           Celular Positivo P28 Dual Sim 32Mb Preto     <NA>       <NA>   \n",
       "3         Fotos vibrantes e cheias de vida com 108MP   Xiaomi       <NA>   \n",
       "4  Para você que está a procura de um novo smartp...  Samsung        S23   \n",
       "\n",
       "    certificado ean_gtin                                    características  \\\n",
       "0  127572301993     <NA>  {'Marca': 'Apple', 'Referência': 'MTP03BR/A', ...   \n",
       "1  004972400330     <NA>  {'tela': 'Tela 6,7” Super HD (1220x2712) | HDR...   \n",
       "2  037442113015     <NA>  {'Registro do produto ANVISA': '80275310044', ...   \n",
       "3  221962314550     <NA>  {'Marca': 'Xiaomi', 'Memoria Ram': '8GB', 'Mem...   \n",
       "4  171522200953     <NA>  {'Marca': 'Samsung', 'Referência': 'SM-S911BZE...   \n",
       "\n",
       "   product_id                      screenshot  \n",
       "0   238035600   magalu_20240708_238035600.pdf  \n",
       "1  jja4721368  magalu_20240708_jja4721368.pdf  \n",
       "2  ge964864ck  magalu_20240708_ge964864ck.pdf  \n",
       "3  bcbk6dk038  magalu_20240708_bcbk6dk038.pdf  \n",
       "4   239000200   magalu_20240708_239000200.pdf  "
      ]
     },
     "execution_count": 4,
     "metadata": {},
     "output_type": "execute_result"
    }
   ],
   "source": [
    "KEYWORD = \"smartphone\"\n",
    "json = folder / f\"{name}_{datetime.today().strftime(\"%Y%m%d\")}_{KEYWORD}.json\"\n",
    "df = pd.DataFrame(json.read_json().values(), dtype=\"string\")\n",
    "df.head()"
   ]
  },
  {
   "cell_type": "code",
   "execution_count": 5,
   "metadata": {},
   "outputs": [
    {
     "name": "stdout",
     "output_type": "stream",
     "text": [
      "<class 'pandas.core.frame.DataFrame'>\n",
      "RangeIndex: 100 entries, 0 to 99\n",
      "Data columns (total 20 columns):\n",
      " #   Column           Non-Null Count  Dtype \n",
      "---  ------           --------------  ----- \n",
      " 0   nome             100 non-null    string\n",
      " 1   preço            100 non-null    string\n",
      " 2   preço_Original   89 non-null     string\n",
      " 3   avaliações       58 non-null     string\n",
      " 4   imagem           100 non-null    string\n",
      " 5   url              100 non-null    string\n",
      " 6   data             100 non-null    string\n",
      " 7   palavra_busca    100 non-null    string\n",
      " 8   página_de_busca  100 non-null    string\n",
      " 9   categoria        94 non-null     string\n",
      " 10  nota             57 non-null     string\n",
      " 11  imagens          94 non-null     string\n",
      " 12  descrição        94 non-null     string\n",
      " 13  marca            48 non-null     string\n",
      " 14  modelo           45 non-null     string\n",
      " 15  certificado      78 non-null     string\n",
      " 16  ean_gtin         0 non-null      string\n",
      " 17  características  94 non-null     string\n",
      " 18  product_id       94 non-null     string\n",
      " 19  screenshot       94 non-null     string\n",
      "dtypes: string(20)\n",
      "memory usage: 15.8 KB\n"
     ]
    }
   ],
   "source": [
    "df.info()"
   ]
  },
  {
   "cell_type": "code",
   "execution_count": 6,
   "metadata": {},
   "outputs": [
    {
     "data": {
      "text/plain": [
       "categoria\n",
       "Celulares e Smartphones | Celular Básico                                     14\n",
       "Celulares e Smartphones | Xiaomi                                             11\n",
       "Celulares e Smartphones | Acessórios para Celular | Capinha                   7\n",
       "<NA>                                                                          6\n",
       "Celulares e Smartphones | Motorola                                            6\n",
       "Celulares e Smartphones | Galaxy                                              3\n",
       "Celulares e Smartphones | Galaxy | Galaxy A15                                 3\n",
       "Celulares e Smartphones | Acessórios para Celular | Película                  3\n",
       "Celulares e Smartphones | iPhone | iPhone 15                                  3\n",
       "Celulares e Smartphones | Galaxy | Galaxy A05                                 2\n",
       "Celulares e Smartphones | Acessórios para Celular | Suporte                   2\n",
       "Celulares e Smartphones | Motorola | Motorola Razr                            2\n",
       "Celulares e Smartphones | Smartphone                                          2\n",
       "Celulares e Smartphones | Infinix                                             2\n",
       "Celulares e Smartphones | Motorola | Motorola Edge 40 Neo                     2\n",
       "Celulares e Smartphones | Galaxy | Galaxy A35                                 2\n",
       "Celulares e Smartphones | Galaxy | Galaxy S24+                                2\n",
       "Celulares e Smartphones | Xiaomi | Redmi                                      2\n",
       "Celulares e Smartphones | Motorola | Motorola Edge                            2\n",
       "Celulares e Smartphones | Galaxy | Galaxy S23 Ultra                           2\n",
       "Celulares e Smartphones | Galaxy | Galaxy S24 Ultra                           2\n",
       "Celulares e Smartphones | Infinix | Infinix Smart 8 Pro                       1\n",
       "Celulares e Smartphones | Motorola | Moto E6                                  1\n",
       "Celulares e Smartphones | Galaxy | Galaxy S23                                 1\n",
       "Celulares e Smartphones | iPhone | iPhone 15 Pro Max                          1\n",
       "Celulares e Smartphones | Motorola | Moto E32                                 1\n",
       "Celulares e Smartphones | Galaxy | Galaxy A25                                 1\n",
       "Celulares e Smartphones | Motorola | Moto G22                                 1\n",
       "Celulares e Smartphones | Motorola | Moto G6                                  1\n",
       "Celulares e Smartphones | Motorola | Moto E22                                 1\n",
       "Celulares e Smartphones | Xiaomi | POCO                                       1\n",
       "Celulares e Smartphones | Motorola | Moto G20                                 1\n",
       "Celulares e Smartphones | Multilaser                                          1\n",
       "Celulares e Smartphones | Motorola | Moto G31                                 1\n",
       "Celulares e Smartphones | Galaxy | Galaxy S10                                 1\n",
       "Celulares e Smartphones | Galaxy | Galaxy A22                                 1\n",
       "Celulares e Smartphones | Acessórios para Celular | Carregador de Celular     1\n",
       "Celulares e Smartphones | Acessórios para Celular | Cabo                      1\n",
       "Celulares e Smartphones | Motorola | Moto G54                                 1\n",
       "Celulares e Smartphones | Motorola | Moto G32                                 1\n",
       "Celulares e Smartphones | Galaxy | Galaxy A02                                 1\n",
       "Name: count, dtype: Int64"
      ]
     },
     "execution_count": 6,
     "metadata": {},
     "output_type": "execute_result"
    }
   ],
   "source": [
    "df['categoria'].value_counts(dropna=False)"
   ]
  },
  {
   "cell_type": "code",
   "execution_count": 7,
   "metadata": {},
   "outputs": [
    {
     "data": {
      "text/html": [
       "<div>\n",
       "<style scoped>\n",
       "    .dataframe tbody tr th:only-of-type {\n",
       "        vertical-align: middle;\n",
       "    }\n",
       "\n",
       "    .dataframe tbody tr th {\n",
       "        vertical-align: top;\n",
       "    }\n",
       "\n",
       "    .dataframe thead th {\n",
       "        text-align: right;\n",
       "    }\n",
       "</style>\n",
       "<table border=\"1\" class=\"dataframe\">\n",
       "  <thead>\n",
       "    <tr style=\"text-align: right;\">\n",
       "      <th></th>\n",
       "      <th>nome</th>\n",
       "      <th>preço</th>\n",
       "      <th>preço_Original</th>\n",
       "      <th>avaliações</th>\n",
       "      <th>imagem</th>\n",
       "      <th>url</th>\n",
       "      <th>data</th>\n",
       "      <th>palavra_busca</th>\n",
       "      <th>página_de_busca</th>\n",
       "      <th>categoria</th>\n",
       "      <th>nota</th>\n",
       "      <th>imagens</th>\n",
       "      <th>descrição</th>\n",
       "      <th>marca</th>\n",
       "      <th>modelo</th>\n",
       "      <th>certificado</th>\n",
       "      <th>ean_gtin</th>\n",
       "      <th>características</th>\n",
       "      <th>product_id</th>\n",
       "      <th>screenshot</th>\n",
       "    </tr>\n",
       "  </thead>\n",
       "  <tbody>\n",
       "    <tr>\n",
       "      <th>8</th>\n",
       "      <td>Capa Capinha Anti Impacto Silicone Para Samsun...</td>\n",
       "      <td>R$ 16,52</td>\n",
       "      <td>R$ 18,35</td>\n",
       "      <td>&lt;NA&gt;</td>\n",
       "      <td>https://a-static.mlcdn.com.br/280x210/capa-cap...</td>\n",
       "      <td>https://www.magazineluiza.com.br/capa-capinha-...</td>\n",
       "      <td>2024-07-08T04:23:17</td>\n",
       "      <td>smartphone</td>\n",
       "      <td>13</td>\n",
       "      <td>&lt;NA&gt;</td>\n",
       "      <td>&lt;NA&gt;</td>\n",
       "      <td>&lt;NA&gt;</td>\n",
       "      <td>&lt;NA&gt;</td>\n",
       "      <td>&lt;NA&gt;</td>\n",
       "      <td>&lt;NA&gt;</td>\n",
       "      <td>&lt;NA&gt;</td>\n",
       "      <td>&lt;NA&gt;</td>\n",
       "      <td>&lt;NA&gt;</td>\n",
       "      <td>&lt;NA&gt;</td>\n",
       "      <td>&lt;NA&gt;</td>\n",
       "    </tr>\n",
       "    <tr>\n",
       "      <th>9</th>\n",
       "      <td>Capinha Samsung A23 4G + Película De Câmera + ...</td>\n",
       "      <td>R$ 54,73</td>\n",
       "      <td>R$ 60,81</td>\n",
       "      <td>&lt;NA&gt;</td>\n",
       "      <td>https://a-static.mlcdn.com.br/280x210/capinha-...</td>\n",
       "      <td>https://www.magazineluiza.com.br/capinha-samsu...</td>\n",
       "      <td>2024-07-08T04:23:30</td>\n",
       "      <td>smartphone</td>\n",
       "      <td>14</td>\n",
       "      <td>&lt;NA&gt;</td>\n",
       "      <td>&lt;NA&gt;</td>\n",
       "      <td>&lt;NA&gt;</td>\n",
       "      <td>&lt;NA&gt;</td>\n",
       "      <td>&lt;NA&gt;</td>\n",
       "      <td>&lt;NA&gt;</td>\n",
       "      <td>&lt;NA&gt;</td>\n",
       "      <td>&lt;NA&gt;</td>\n",
       "      <td>&lt;NA&gt;</td>\n",
       "      <td>&lt;NA&gt;</td>\n",
       "      <td>&lt;NA&gt;</td>\n",
       "    </tr>\n",
       "    <tr>\n",
       "      <th>19</th>\n",
       "      <td>Smartphone Samsung Z Flip 5 512GB Creme</td>\n",
       "      <td>R$ 4.048,20</td>\n",
       "      <td>R$ 8.698,00</td>\n",
       "      <td>&lt;NA&gt;</td>\n",
       "      <td>https://a-static.mlcdn.com.br/280x210/smartpho...</td>\n",
       "      <td>https://www.magazineluiza.com.br/smartphone-sa...</td>\n",
       "      <td>2024-07-08T04:23:04</td>\n",
       "      <td>smartphone</td>\n",
       "      <td>12</td>\n",
       "      <td>&lt;NA&gt;</td>\n",
       "      <td>&lt;NA&gt;</td>\n",
       "      <td>&lt;NA&gt;</td>\n",
       "      <td>&lt;NA&gt;</td>\n",
       "      <td>&lt;NA&gt;</td>\n",
       "      <td>&lt;NA&gt;</td>\n",
       "      <td>&lt;NA&gt;</td>\n",
       "      <td>&lt;NA&gt;</td>\n",
       "      <td>&lt;NA&gt;</td>\n",
       "      <td>&lt;NA&gt;</td>\n",
       "      <td>&lt;NA&gt;</td>\n",
       "    </tr>\n",
       "    <tr>\n",
       "      <th>35</th>\n",
       "      <td>Capa Capinha Aveludada Compatível Para Samsung...</td>\n",
       "      <td>R$ 51,21</td>\n",
       "      <td>R$ 56,90</td>\n",
       "      <td>&lt;NA&gt;</td>\n",
       "      <td>https://a-static.mlcdn.com.br/280x210/capa-cap...</td>\n",
       "      <td>https://www.magazineluiza.com.br/capa-capinha-...</td>\n",
       "      <td>2024-07-08T04:23:57</td>\n",
       "      <td>smartphone</td>\n",
       "      <td>16</td>\n",
       "      <td>&lt;NA&gt;</td>\n",
       "      <td>&lt;NA&gt;</td>\n",
       "      <td>&lt;NA&gt;</td>\n",
       "      <td>&lt;NA&gt;</td>\n",
       "      <td>&lt;NA&gt;</td>\n",
       "      <td>&lt;NA&gt;</td>\n",
       "      <td>&lt;NA&gt;</td>\n",
       "      <td>&lt;NA&gt;</td>\n",
       "      <td>&lt;NA&gt;</td>\n",
       "      <td>&lt;NA&gt;</td>\n",
       "      <td>&lt;NA&gt;</td>\n",
       "    </tr>\n",
       "    <tr>\n",
       "      <th>40</th>\n",
       "      <td>Smartphone Redm 13c de 128gb 4 de ram -preto</td>\n",
       "      <td>R$ 999,00</td>\n",
       "      <td>&lt;NA&gt;</td>\n",
       "      <td>3.0 (1)</td>\n",
       "      <td>https://a-static.mlcdn.com.br/280x210/smartpho...</td>\n",
       "      <td>https://www.magazineluiza.com.br/smartphone-re...</td>\n",
       "      <td>2024-07-08T04:21:13</td>\n",
       "      <td>smartphone</td>\n",
       "      <td>4</td>\n",
       "      <td>&lt;NA&gt;</td>\n",
       "      <td>&lt;NA&gt;</td>\n",
       "      <td>&lt;NA&gt;</td>\n",
       "      <td>&lt;NA&gt;</td>\n",
       "      <td>&lt;NA&gt;</td>\n",
       "      <td>&lt;NA&gt;</td>\n",
       "      <td>&lt;NA&gt;</td>\n",
       "      <td>&lt;NA&gt;</td>\n",
       "      <td>&lt;NA&gt;</td>\n",
       "      <td>&lt;NA&gt;</td>\n",
       "      <td>&lt;NA&gt;</td>\n",
       "    </tr>\n",
       "    <tr>\n",
       "      <th>60</th>\n",
       "      <td>Capa protetora de silicone smartphone xiaomi r...</td>\n",
       "      <td>R$ 54,99</td>\n",
       "      <td>&lt;NA&gt;</td>\n",
       "      <td>&lt;NA&gt;</td>\n",
       "      <td>https://a-static.mlcdn.com.br/280x210/capa-pro...</td>\n",
       "      <td>https://www.magazineluiza.com.br/capa-protetor...</td>\n",
       "      <td>2024-07-08T04:23:30</td>\n",
       "      <td>smartphone</td>\n",
       "      <td>14</td>\n",
       "      <td>&lt;NA&gt;</td>\n",
       "      <td>&lt;NA&gt;</td>\n",
       "      <td>&lt;NA&gt;</td>\n",
       "      <td>&lt;NA&gt;</td>\n",
       "      <td>&lt;NA&gt;</td>\n",
       "      <td>&lt;NA&gt;</td>\n",
       "      <td>&lt;NA&gt;</td>\n",
       "      <td>&lt;NA&gt;</td>\n",
       "      <td>&lt;NA&gt;</td>\n",
       "      <td>&lt;NA&gt;</td>\n",
       "      <td>&lt;NA&gt;</td>\n",
       "    </tr>\n",
       "  </tbody>\n",
       "</table>\n",
       "</div>"
      ],
      "text/plain": [
       "                                                 nome        preço  \\\n",
       "8   Capa Capinha Anti Impacto Silicone Para Samsun...     R$ 16,52   \n",
       "9   Capinha Samsung A23 4G + Película De Câmera + ...     R$ 54,73   \n",
       "19            Smartphone Samsung Z Flip 5 512GB Creme  R$ 4.048,20   \n",
       "35  Capa Capinha Aveludada Compatível Para Samsung...     R$ 51,21   \n",
       "40       Smartphone Redm 13c de 128gb 4 de ram -preto    R$ 999,00   \n",
       "60  Capa protetora de silicone smartphone xiaomi r...     R$ 54,99   \n",
       "\n",
       "   preço_Original avaliações  \\\n",
       "8        R$ 18,35       <NA>   \n",
       "9        R$ 60,81       <NA>   \n",
       "19    R$ 8.698,00       <NA>   \n",
       "35       R$ 56,90       <NA>   \n",
       "40           <NA>    3.0 (1)   \n",
       "60           <NA>       <NA>   \n",
       "\n",
       "                                               imagem  \\\n",
       "8   https://a-static.mlcdn.com.br/280x210/capa-cap...   \n",
       "9   https://a-static.mlcdn.com.br/280x210/capinha-...   \n",
       "19  https://a-static.mlcdn.com.br/280x210/smartpho...   \n",
       "35  https://a-static.mlcdn.com.br/280x210/capa-cap...   \n",
       "40  https://a-static.mlcdn.com.br/280x210/smartpho...   \n",
       "60  https://a-static.mlcdn.com.br/280x210/capa-pro...   \n",
       "\n",
       "                                                  url                 data  \\\n",
       "8   https://www.magazineluiza.com.br/capa-capinha-...  2024-07-08T04:23:17   \n",
       "9   https://www.magazineluiza.com.br/capinha-samsu...  2024-07-08T04:23:30   \n",
       "19  https://www.magazineluiza.com.br/smartphone-sa...  2024-07-08T04:23:04   \n",
       "35  https://www.magazineluiza.com.br/capa-capinha-...  2024-07-08T04:23:57   \n",
       "40  https://www.magazineluiza.com.br/smartphone-re...  2024-07-08T04:21:13   \n",
       "60  https://www.magazineluiza.com.br/capa-protetor...  2024-07-08T04:23:30   \n",
       "\n",
       "   palavra_busca página_de_busca categoria  nota imagens descrição marca  \\\n",
       "8     smartphone              13      <NA>  <NA>    <NA>      <NA>  <NA>   \n",
       "9     smartphone              14      <NA>  <NA>    <NA>      <NA>  <NA>   \n",
       "19    smartphone              12      <NA>  <NA>    <NA>      <NA>  <NA>   \n",
       "35    smartphone              16      <NA>  <NA>    <NA>      <NA>  <NA>   \n",
       "40    smartphone               4      <NA>  <NA>    <NA>      <NA>  <NA>   \n",
       "60    smartphone              14      <NA>  <NA>    <NA>      <NA>  <NA>   \n",
       "\n",
       "   modelo certificado ean_gtin características product_id screenshot  \n",
       "8    <NA>        <NA>     <NA>            <NA>       <NA>       <NA>  \n",
       "9    <NA>        <NA>     <NA>            <NA>       <NA>       <NA>  \n",
       "19   <NA>        <NA>     <NA>            <NA>       <NA>       <NA>  \n",
       "35   <NA>        <NA>     <NA>            <NA>       <NA>       <NA>  \n",
       "40   <NA>        <NA>     <NA>            <NA>       <NA>       <NA>  \n",
       "60   <NA>        <NA>     <NA>            <NA>       <NA>       <NA>  "
      ]
     },
     "execution_count": 7,
     "metadata": {},
     "output_type": "execute_result"
    }
   ],
   "source": [
    "df[df['categoria'].isna()]"
   ]
  },
  {
   "cell_type": "code",
   "execution_count": 8,
   "metadata": {},
   "outputs": [],
   "source": [
    "df.loc[df[\"categoria\"] == \"[]\", 'categoria'] = pd.NA"
   ]
  },
  {
   "cell_type": "code",
   "execution_count": 9,
   "metadata": {},
   "outputs": [],
   "source": [
    "columns = [\"nome\", \"categoria\", \"url\"]\n",
    "for column in columns:\n",
    "    for row in df[df[column].isna()].itertuples():\n",
    "        if (file := FOLDER / \"screenshots\" / f\"{row.screenshot}\").is_file():\n",
    "            print(f\"Deleting {file}\")\n",
    "            file.unlink()\n",
    "    df = df.dropna(subset=column).reset_index(drop=True)\n"
   ]
  },
  {
   "cell_type": "code",
   "execution_count": 10,
   "metadata": {},
   "outputs": [
    {
     "data": {
      "text/plain": [
       "certificado\n",
       "<NA>            16\n",
       "217622209185     4\n",
       "127572301993     3\n",
       "025931304858     2\n",
       "032241803111     2\n",
       "217652209185     2\n",
       "117602300330     2\n",
       "198242300953     2\n",
       "139722300953     2\n",
       "235482300953     2\n",
       "099532009185     2\n",
       "000032309185     2\n",
       "198252300953     2\n",
       "117032300330     2\n",
       "171532200953     2\n",
       "206372300953     2\n",
       "138732301739     2\n",
       "011672103111     1\n",
       "171522200953     1\n",
       "203362313366     1\n",
       "127822301993     1\n",
       "175412314550     1\n",
       "133832315156     1\n",
       "000152000330     1\n",
       "037442113015     1\n",
       "004972400330     1\n",
       "221962314550     1\n",
       "126752200330     1\n",
       "183952100330     1\n",
       "198292300953     1\n",
       "183972100330     1\n",
       "000341800330     1\n",
       "081992100330     1\n",
       "001472314550     1\n",
       "047442103111     1\n",
       "850618009530     1\n",
       "031122315156     1\n",
       "206152313366     1\n",
       "112462100330     1\n",
       "040032200330     1\n",
       "154012213626     1\n",
       "206672300330     1\n",
       "017092100330     1\n",
       "002722413366     1\n",
       "184972000953     1\n",
       "007982209185     1\n",
       "175342314550     1\n",
       "129892001993     1\n",
       "027332300330     1\n",
       "037242214637     1\n",
       "182272200330     1\n",
       "162172100953     1\n",
       "235492300953     1\n",
       "038502400330     1\n",
       "019971205125     1\n",
       "175602314550     1\n",
       "203412300330     1\n",
       "067902200330     1\n",
       "062482300330     1\n",
       "152442000953     1\n",
       "Name: count, dtype: Int64"
      ]
     },
     "execution_count": 10,
     "metadata": {},
     "output_type": "execute_result"
    }
   ],
   "source": [
    "df[\"certificado\"].value_counts(dropna=False)"
   ]
  },
  {
   "cell_type": "code",
   "execution_count": 11,
   "metadata": {},
   "outputs": [
    {
     "data": {
      "text/plain": [
       "ean_gtin\n",
       "<NA>    94\n",
       "Name: count, dtype: Int64"
      ]
     },
     "execution_count": 11,
     "metadata": {},
     "output_type": "execute_result"
    }
   ],
   "source": [
    "df.loc[df[\"ean_gtin\"] == \"\", 'ean_gtin'] = pd.NA\n",
    "df[\"ean_gtin\"].value_counts(dropna=False)\n"
   ]
  },
  {
   "cell_type": "code",
   "execution_count": 12,
   "metadata": {},
   "outputs": [
    {
     "name": "stdout",
     "output_type": "stream",
     "text": [
      "3\n"
     ]
    }
   ],
   "source": [
    "categories = df[\"categoria\"].str.split(\"|\", expand=True)\n",
    "categories.columns = [f\"categoria_{c}\" for c in categories.columns]\n",
    "print(len(categories.columns))\n",
    "for cat in categories:\n",
    "    categories[cat] = categories[cat].str.strip()\n",
    "df = pd.concat([df, categories], axis=1)"
   ]
  },
  {
   "cell_type": "code",
   "execution_count": 13,
   "metadata": {},
   "outputs": [],
   "source": [
    "for cat in categories.columns:\n",
    "    condition = df[cat].notna()\n",
    "    df.loc[condition, \"subcategoria\"] = df.loc[condition, cat]"
   ]
  },
  {
   "cell_type": "code",
   "execution_count": 14,
   "metadata": {},
   "outputs": [
    {
     "data": {
      "text/plain": [
       "categoria_0\n",
       "Celulares e Smartphones    94\n",
       "Name: count, dtype: Int64"
      ]
     },
     "execution_count": 14,
     "metadata": {},
     "output_type": "execute_result"
    }
   ],
   "source": [
    "df[\"categoria_0\"].value_counts(dropna=False)"
   ]
  },
  {
   "cell_type": "code",
   "execution_count": 15,
   "metadata": {},
   "outputs": [
    {
     "data": {
      "text/plain": [
       "categoria_1\n",
       "Motorola                   21\n",
       "Galaxy                     21\n",
       "Acessórios para Celular    14\n",
       "Celular Básico             14\n",
       "Xiaomi                     14\n",
       "iPhone                      4\n",
       "Infinix                     3\n",
       "Smartphone                  2\n",
       "Multilaser                  1\n",
       "Name: count, dtype: Int64"
      ]
     },
     "execution_count": 15,
     "metadata": {},
     "output_type": "execute_result"
    }
   ],
   "source": [
    "df[\"categoria_1\"].value_counts(dropna=False)"
   ]
  },
  {
   "cell_type": "code",
   "execution_count": 16,
   "metadata": {},
   "outputs": [
    {
     "data": {
      "text/plain": [
       "categoria_2\n",
       "<NA>                     39\n",
       "Capinha                   7\n",
       "iPhone 15                 3\n",
       "Galaxy A15                3\n",
       "Película                  3\n",
       "Motorola Edge             2\n",
       "Motorola Edge 40 Neo      2\n",
       "Galaxy A05                2\n",
       "Galaxy S24+               2\n",
       "Galaxy A35                2\n",
       "Suporte                   2\n",
       "Redmi                     2\n",
       "Motorola Razr             2\n",
       "Galaxy S24 Ultra          2\n",
       "Galaxy S23 Ultra          2\n",
       "Infinix Smart 8 Pro       1\n",
       "Moto E22                  1\n",
       "Galaxy S23                1\n",
       "Galaxy A25                1\n",
       "iPhone 15 Pro Max         1\n",
       "Moto G6                   1\n",
       "Moto G22                  1\n",
       "POCO                      1\n",
       "Moto E6                   1\n",
       "Galaxy S10                1\n",
       "Moto E32                  1\n",
       "Moto G31                  1\n",
       "Moto G20                  1\n",
       "Galaxy A22                1\n",
       "Carregador de Celular     1\n",
       "Cabo                      1\n",
       "Moto G54                  1\n",
       "Moto G32                  1\n",
       "Galaxy A02                1\n",
       "Name: count, dtype: Int64"
      ]
     },
     "execution_count": 16,
     "metadata": {},
     "output_type": "execute_result"
    }
   ],
   "source": [
    "df[\"categoria_2\"].value_counts(dropna=False)"
   ]
  },
  {
   "cell_type": "code",
   "execution_count": 17,
   "metadata": {},
   "outputs": [
    {
     "ename": "KeyError",
     "evalue": "'categoria_3'",
     "output_type": "error",
     "traceback": [
      "\u001b[1;31m---------------------------------------------------------------------------\u001b[0m",
      "\u001b[1;31mKeyError\u001b[0m                                  Traceback (most recent call last)",
      "File \u001b[1;32md:\\Applications\\Scoop\\apps\\miniconda3\\current\\envs\\reg_dados\\Lib\\site-packages\\pandas\\core\\indexes\\base.py:3805\u001b[0m, in \u001b[0;36mIndex.get_loc\u001b[1;34m(self, key)\u001b[0m\n\u001b[0;32m   3804\u001b[0m \u001b[38;5;28;01mtry\u001b[39;00m:\n\u001b[1;32m-> 3805\u001b[0m     \u001b[38;5;28;01mreturn\u001b[39;00m \u001b[38;5;28;43mself\u001b[39;49m\u001b[38;5;241;43m.\u001b[39;49m\u001b[43m_engine\u001b[49m\u001b[38;5;241;43m.\u001b[39;49m\u001b[43mget_loc\u001b[49m\u001b[43m(\u001b[49m\u001b[43mcasted_key\u001b[49m\u001b[43m)\u001b[49m\n\u001b[0;32m   3806\u001b[0m \u001b[38;5;28;01mexcept\u001b[39;00m \u001b[38;5;167;01mKeyError\u001b[39;00m \u001b[38;5;28;01mas\u001b[39;00m err:\n",
      "File \u001b[1;32mindex.pyx:167\u001b[0m, in \u001b[0;36mpandas._libs.index.IndexEngine.get_loc\u001b[1;34m()\u001b[0m\n",
      "File \u001b[1;32mindex.pyx:196\u001b[0m, in \u001b[0;36mpandas._libs.index.IndexEngine.get_loc\u001b[1;34m()\u001b[0m\n",
      "File \u001b[1;32mpandas\\\\_libs\\\\hashtable_class_helper.pxi:7081\u001b[0m, in \u001b[0;36mpandas._libs.hashtable.PyObjectHashTable.get_item\u001b[1;34m()\u001b[0m\n",
      "File \u001b[1;32mpandas\\\\_libs\\\\hashtable_class_helper.pxi:7089\u001b[0m, in \u001b[0;36mpandas._libs.hashtable.PyObjectHashTable.get_item\u001b[1;34m()\u001b[0m\n",
      "\u001b[1;31mKeyError\u001b[0m: 'categoria_3'",
      "\nThe above exception was the direct cause of the following exception:\n",
      "\u001b[1;31mKeyError\u001b[0m                                  Traceback (most recent call last)",
      "Cell \u001b[1;32mIn[17], line 1\u001b[0m\n\u001b[1;32m----> 1\u001b[0m \u001b[43mdf\u001b[49m\u001b[43m[\u001b[49m\u001b[38;5;124;43m\"\u001b[39;49m\u001b[38;5;124;43mcategoria_3\u001b[39;49m\u001b[38;5;124;43m\"\u001b[39;49m\u001b[43m]\u001b[49m\u001b[38;5;241m.\u001b[39mvalue_counts(dropna\u001b[38;5;241m=\u001b[39m\u001b[38;5;28;01mFalse\u001b[39;00m)\n",
      "File \u001b[1;32md:\\Applications\\Scoop\\apps\\miniconda3\\current\\envs\\reg_dados\\Lib\\site-packages\\pandas\\core\\frame.py:4102\u001b[0m, in \u001b[0;36mDataFrame.__getitem__\u001b[1;34m(self, key)\u001b[0m\n\u001b[0;32m   4100\u001b[0m \u001b[38;5;28;01mif\u001b[39;00m \u001b[38;5;28mself\u001b[39m\u001b[38;5;241m.\u001b[39mcolumns\u001b[38;5;241m.\u001b[39mnlevels \u001b[38;5;241m>\u001b[39m \u001b[38;5;241m1\u001b[39m:\n\u001b[0;32m   4101\u001b[0m     \u001b[38;5;28;01mreturn\u001b[39;00m \u001b[38;5;28mself\u001b[39m\u001b[38;5;241m.\u001b[39m_getitem_multilevel(key)\n\u001b[1;32m-> 4102\u001b[0m indexer \u001b[38;5;241m=\u001b[39m \u001b[38;5;28;43mself\u001b[39;49m\u001b[38;5;241;43m.\u001b[39;49m\u001b[43mcolumns\u001b[49m\u001b[38;5;241;43m.\u001b[39;49m\u001b[43mget_loc\u001b[49m\u001b[43m(\u001b[49m\u001b[43mkey\u001b[49m\u001b[43m)\u001b[49m\n\u001b[0;32m   4103\u001b[0m \u001b[38;5;28;01mif\u001b[39;00m is_integer(indexer):\n\u001b[0;32m   4104\u001b[0m     indexer \u001b[38;5;241m=\u001b[39m [indexer]\n",
      "File \u001b[1;32md:\\Applications\\Scoop\\apps\\miniconda3\\current\\envs\\reg_dados\\Lib\\site-packages\\pandas\\core\\indexes\\base.py:3812\u001b[0m, in \u001b[0;36mIndex.get_loc\u001b[1;34m(self, key)\u001b[0m\n\u001b[0;32m   3807\u001b[0m     \u001b[38;5;28;01mif\u001b[39;00m \u001b[38;5;28misinstance\u001b[39m(casted_key, \u001b[38;5;28mslice\u001b[39m) \u001b[38;5;129;01mor\u001b[39;00m (\n\u001b[0;32m   3808\u001b[0m         \u001b[38;5;28misinstance\u001b[39m(casted_key, abc\u001b[38;5;241m.\u001b[39mIterable)\n\u001b[0;32m   3809\u001b[0m         \u001b[38;5;129;01mand\u001b[39;00m \u001b[38;5;28many\u001b[39m(\u001b[38;5;28misinstance\u001b[39m(x, \u001b[38;5;28mslice\u001b[39m) \u001b[38;5;28;01mfor\u001b[39;00m x \u001b[38;5;129;01min\u001b[39;00m casted_key)\n\u001b[0;32m   3810\u001b[0m     ):\n\u001b[0;32m   3811\u001b[0m         \u001b[38;5;28;01mraise\u001b[39;00m InvalidIndexError(key)\n\u001b[1;32m-> 3812\u001b[0m     \u001b[38;5;28;01mraise\u001b[39;00m \u001b[38;5;167;01mKeyError\u001b[39;00m(key) \u001b[38;5;28;01mfrom\u001b[39;00m \u001b[38;5;21;01merr\u001b[39;00m\n\u001b[0;32m   3813\u001b[0m \u001b[38;5;28;01mexcept\u001b[39;00m \u001b[38;5;167;01mTypeError\u001b[39;00m:\n\u001b[0;32m   3814\u001b[0m     \u001b[38;5;66;03m# If we have a listlike key, _check_indexing_error will raise\u001b[39;00m\n\u001b[0;32m   3815\u001b[0m     \u001b[38;5;66;03m#  InvalidIndexError. Otherwise we fall through and re-raise\u001b[39;00m\n\u001b[0;32m   3816\u001b[0m     \u001b[38;5;66;03m#  the TypeError.\u001b[39;00m\n\u001b[0;32m   3817\u001b[0m     \u001b[38;5;28mself\u001b[39m\u001b[38;5;241m.\u001b[39m_check_indexing_error(key)\n",
      "\u001b[1;31mKeyError\u001b[0m: 'categoria_3'"
     ]
    }
   ],
   "source": [
    "# df[\"categoria_3\"].value_counts(dropna=False)"
   ]
  },
  {
   "cell_type": "code",
   "execution_count": null,
   "metadata": {},
   "outputs": [],
   "source": [
    "# df[\"categoria_4\"].value_counts(dropna=False)"
   ]
  },
  {
   "cell_type": "code",
   "execution_count": 18,
   "metadata": {},
   "outputs": [
    {
     "data": {
      "text/plain": [
       "subcategoria\n",
       "Celular Básico           14\n",
       "Xiaomi                   11\n",
       "Capinha                   7\n",
       "Motorola                  6\n",
       "Galaxy                    3\n",
       "Galaxy A15                3\n",
       "Película                  3\n",
       "iPhone 15                 3\n",
       "Galaxy A05                2\n",
       "Suporte                   2\n",
       "Motorola Razr             2\n",
       "Smartphone                2\n",
       "Infinix                   2\n",
       "Motorola Edge 40 Neo      2\n",
       "Galaxy A35                2\n",
       "Galaxy S24+               2\n",
       "Redmi                     2\n",
       "Motorola Edge             2\n",
       "Galaxy S23 Ultra          2\n",
       "Galaxy S24 Ultra          2\n",
       "Moto E6                   1\n",
       "Infinix Smart 8 Pro       1\n",
       "Galaxy S23                1\n",
       "iPhone 15 Pro Max         1\n",
       "Moto E32                  1\n",
       "Galaxy A25                1\n",
       "Moto G22                  1\n",
       "Moto G6                   1\n",
       "Moto E22                  1\n",
       "POCO                      1\n",
       "Moto G20                  1\n",
       "Multilaser                1\n",
       "Moto G31                  1\n",
       "Galaxy S10                1\n",
       "Galaxy A22                1\n",
       "Carregador de Celular     1\n",
       "Cabo                      1\n",
       "Moto G54                  1\n",
       "Moto G32                  1\n",
       "Galaxy A02                1\n",
       "Name: count, dtype: Int64"
      ]
     },
     "execution_count": 18,
     "metadata": {},
     "output_type": "execute_result"
    }
   ],
   "source": [
    "df[\"subcategoria\"].value_counts(dropna=False)"
   ]
  },
  {
   "cell_type": "code",
   "execution_count": 20,
   "metadata": {},
   "outputs": [],
   "source": [
    "for cat in SUBCATEGORIES[name]:\n",
    "    df.loc[df[\"subcategoria\"].str.lower().str.contains(cat), \"subcategoria\"] = \"Celulares e Smartphones\"\n"
   ]
  },
  {
   "cell_type": "code",
   "execution_count": 21,
   "metadata": {},
   "outputs": [
    {
     "data": {
      "text/plain": [
       "subcategoria\n",
       "Celulares e Smartphones    0.861702\n",
       "Capinha                    0.074468\n",
       "Película                   0.031915\n",
       "Suporte                    0.021277\n",
       "Cabo                       0.010638\n",
       "Name: proportion, dtype: Float64"
      ]
     },
     "execution_count": 21,
     "metadata": {},
     "output_type": "execute_result"
    }
   ],
   "source": [
    "df[\"subcategoria\"].value_counts(dropna=False, normalize=True)"
   ]
  },
  {
   "cell_type": "code",
   "execution_count": 22,
   "metadata": {},
   "outputs": [],
   "source": [
    "df = df[df[\"subcategoria\"] == \"Celulares e Smartphones\"]"
   ]
  },
  {
   "cell_type": "markdown",
   "metadata": {},
   "source": [
    "## Formatação"
   ]
  },
  {
   "cell_type": "code",
   "execution_count": 23,
   "metadata": {},
   "outputs": [
    {
     "name": "stderr",
     "output_type": "stream",
     "text": [
      "C:\\Users\\rsilva\\AppData\\Local\\Temp\\ipykernel_3492\\3718574322.py:1: SettingWithCopyWarning: \n",
      "A value is trying to be set on a copy of a slice from a DataFrame.\n",
      "Try using .loc[row_indexer,col_indexer] = value instead\n",
      "\n",
      "See the caveats in the documentation: https://pandas.pydata.org/pandas-docs/stable/user_guide/indexing.html#returning-a-view-versus-a-copy\n",
      "  df['Item'] = df.index.to_list()\n"
     ]
    }
   ],
   "source": [
    "df['Item'] = df.index.to_list()"
   ]
  },
  {
   "cell_type": "code",
   "execution_count": 24,
   "metadata": {},
   "outputs": [
    {
     "name": "stderr",
     "output_type": "stream",
     "text": [
      "C:\\Users\\rsilva\\AppData\\Local\\Temp\\ipykernel_3492\\616638537.py:1: SettingWithCopyWarning: \n",
      "A value is trying to be set on a copy of a slice from a DataFrame.\n",
      "Try using .loc[row_indexer,col_indexer] = value instead\n",
      "\n",
      "See the caveats in the documentation: https://pandas.pydata.org/pandas-docs/stable/user_guide/indexing.html#returning-a-view-versus-a-copy\n",
      "  df[\"Data da Coleta\"] = pd.to_datetime(df[\"data\"], format=\"mixed\").dt.strftime(\"%d/%m/%Y\")\n"
     ]
    }
   ],
   "source": [
    "df[\"Data da Coleta\"] = pd.to_datetime(df[\"data\"], format=\"mixed\").dt.strftime(\"%d/%m/%Y\")"
   ]
  },
  {
   "cell_type": "code",
   "execution_count": 25,
   "metadata": {},
   "outputs": [],
   "source": [
    "discard = df[\"certificado\"].isna() & ~(df[\"subcategoria\"] == \"Celulares e Smartphones\")"
   ]
  },
  {
   "cell_type": "code",
   "execution_count": 26,
   "metadata": {},
   "outputs": [],
   "source": [
    "df = df[~discard]"
   ]
  },
  {
   "cell_type": "code",
   "execution_count": null,
   "metadata": {},
   "outputs": [],
   "source": [
    "# column = \"O tipo do produto é de uso proibido no Brasil?\"\n",
    "# df[column] = \"Não\""
   ]
  },
  {
   "cell_type": "code",
   "execution_count": null,
   "metadata": {},
   "outputs": [],
   "source": [
    "# column = \"O produto é passível de homologação na Anatel? (Sim ou Não)\"\n",
    "# df[column] = \"Sim\"\n",
    "# df.loc[discard, column] = \"Não\"\n"
   ]
  },
  {
   "cell_type": "code",
   "execution_count": 27,
   "metadata": {},
   "outputs": [],
   "source": [
    "column = \"Número de Unidades à Venda\"\n",
    "df[column] = \"Não Informado\""
   ]
  },
  {
   "cell_type": "code",
   "execution_count": 28,
   "metadata": {},
   "outputs": [],
   "source": [
    "columns = [\"Existe o campo código de homologação no anúncio? (Sim ou Não)\",\n",
    "           \"O código de homologação foi fornecido? (Sim ou Não)\"]\n",
    "for column in columns:\n",
    "    df[column] = \"Sim\"\n",
    "    df.loc[df[\"certificado\"].isna(), column] = \"Não\"\n"
   ]
  },
  {
   "cell_type": "code",
   "execution_count": 29,
   "metadata": {},
   "outputs": [],
   "source": [
    "columns = [\n",
    "    \"O produto é homologado? (Sim, Não e N.A.)\",\n",
    "    \"Validação do código de homologação - O código de homologação fornecido é o do produto anunciado? (Sim, Não, N.A.)\",\n",
    "]\n",
    "for column in columns:\n",
    "    df[column] = \"\"\n"
   ]
  },
  {
   "cell_type": "code",
   "execution_count": 30,
   "metadata": {},
   "outputs": [],
   "source": [
    "column = \"O código EAN foi fornecido? (Sim ou Não) - Apenas para Smartphones.\"\n",
    "df[column] = \"Sim\"\n",
    "df.loc[df['ean_gtin'].isna(), column] = \"Não\"\n"
   ]
  },
  {
   "cell_type": "code",
   "execution_count": 31,
   "metadata": {},
   "outputs": [],
   "source": [
    "column = \"O código EAN fornecido corresponde ao produto? (Sim ou Não) -  Apenas para Smartphones.\"\n",
    "df[column] = \"\""
   ]
  },
  {
   "cell_type": "code",
   "execution_count": 32,
   "metadata": {},
   "outputs": [],
   "source": [
    "df.rename(\n",
    "    columns={\n",
    "        \"palavra_busca\": \"Texto da Busca\",\n",
    "        \"screenshot\": \"Arquivo da Página\",\n",
    "        \"url\": \"Endereço eletrônico (URL)\",\n",
    "        \"nome\": \"Descrição do produto no anúncio\",\n",
    "        \"subcategoria\": \"Tipo do Produto\",\n",
    "        \"marca\": \"Fabricante\",\n",
    "        \"modelo\": \"Modelo do Produto\",\n",
    "        \"preço\": \"Valor do Produto (R$)\",\n",
    "        \"certificado\": \"Observação 1 - Qual Código de Homologação fornecido no anúncio?\"\n",
    "    },\n",
    "    inplace=True,\n",
    ")\n"
   ]
  },
  {
   "cell_type": "code",
   "execution_count": 33,
   "metadata": {},
   "outputs": [],
   "source": [
    "COLUNAS = [\n",
    "    \"Item\",\n",
    "    \"Texto da Busca\",\n",
    "    \"Arquivo da Página\",\n",
    "    \"Data da Coleta\",\n",
    "    \"Endereço eletrônico (URL)\",\n",
    "    \"Descrição do produto no anúncio\",\n",
    "    # \"O tipo do produto é de uso proibido no Brasil?\",\n",
    "    # \"O produto é passível de homologação na Anatel? (Sim ou Não)\",\n",
    "    \"Tipo do Produto\",\n",
    "    \"Fabricante\",\n",
    "    \"Modelo do Produto\",\n",
    "    \"Valor do Produto (R$)\",\n",
    "    \"Número de Unidades à Venda\",\n",
    "    \"Existe o campo código de homologação no anúncio? (Sim ou Não)\",\n",
    "    \"O código de homologação foi fornecido? (Sim ou Não)\",\n",
    "    \"O produto é homologado? (Sim, Não e N.A.)\",\n",
    "    \"Validação do código de homologação - O código de homologação fornecido é o do produto anunciado? (Sim, Não, N.A.)\",\n",
    "    \"O código EAN foi fornecido? (Sim ou Não) - Apenas para Smartphones.\",\n",
    "    \"O código EAN fornecido corresponde ao produto? (Sim ou Não) -  Apenas para Smartphones.\",\n",
    "    \"Observação 1 - Qual Código de Homologação fornecido no anúncio?\",\n",
    "]\n"
   ]
  },
  {
   "cell_type": "code",
   "execution_count": 34,
   "metadata": {},
   "outputs": [],
   "source": [
    "df = df[COLUNAS].sample(78)"
   ]
  },
  {
   "cell_type": "code",
   "execution_count": 35,
   "metadata": {},
   "outputs": [],
   "source": [
    "writer = pd.ExcelWriter(\n",
    "    json.with_suffix(\".xlsx\"),\n",
    "    engine=\"xlsxwriter\",\n",
    "    engine_kwargs={\"options\": {\"strings_to_urls\": True}},\n",
    ")\n"
   ]
  },
  {
   "cell_type": "code",
   "execution_count": 36,
   "metadata": {},
   "outputs": [],
   "source": [
    "sheet_name = f\"{name}-smartphone\"\n",
    "df.to_excel(writer, sheet_name=sheet_name, engine=\"xlsxwriter\", index=False)\n"
   ]
  },
  {
   "cell_type": "code",
   "execution_count": 37,
   "metadata": {},
   "outputs": [],
   "source": [
    "workbook = writer.book\n",
    "worksheet = writer.sheets[sheet_name]\n",
    "# Make the columns wider for clarity.\n",
    "worksheet.autofit()\n",
    "worksheet.set_default_row(hide_unused_rows=True)\n",
    "# Freeze the first row\n",
    "worksheet.freeze_panes(1, 0)\n",
    "        "
   ]
  },
  {
   "cell_type": "code",
   "execution_count": 38,
   "metadata": {},
   "outputs": [],
   "source": [
    "PREFIX = \"https://anatel365.sharepoint.com/sites/Desenvolvimentodeappfiscalizaoe-commerce/Documentos%20Compartilhados/General/Resultados/screenshots/\"\n",
    "for i, link in enumerate(df[\"Arquivo da Página\"], start=2):\n",
    "    pdf = PREFIX + link\n",
    "    worksheet.write_url(f\"C{i}\", pdf, string=link)\n"
   ]
  },
  {
   "cell_type": "code",
   "execution_count": 39,
   "metadata": {},
   "outputs": [],
   "source": [
    "writer.close()"
   ]
  }
 ],
 "metadata": {
  "kernelspec": {
   "display_name": "reg_dados",
   "language": "python",
   "name": "python3"
  },
  "language_info": {
   "codemirror_mode": {
    "name": "ipython",
    "version": 3
   },
   "file_extension": ".py",
   "mimetype": "text/x-python",
   "name": "python",
   "nbconvert_exporter": "python",
   "pygments_lexer": "ipython3",
   "version": "3.12.4"
  }
 },
 "nbformat": 4,
 "nbformat_minor": 2
}
