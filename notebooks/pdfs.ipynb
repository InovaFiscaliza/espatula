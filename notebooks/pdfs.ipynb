{
 "cells": [
  {
   "cell_type": "code",
   "execution_count": 1,
   "metadata": {},
   "outputs": [],
   "source": [
    "import os\n",
    "from fastcore.xtras import Path\n",
    "from dotenv import load_dotenv, find_dotenv\n",
    "import PyPDF2\n",
    "import fitz\n",
    "from pypdf import PdfReader, PdfWriter\n",
    "from IPython.display import display_pdf, HTML, IFrame\n"
   ]
  },
  {
   "cell_type": "code",
   "execution_count": 2,
   "metadata": {},
   "outputs": [],
   "source": [
    "def compress_images(pdf):    \n",
    "    reader = PdfReader(pdf)\n",
    "    writer = PdfWriter()\n",
    "    \n",
    "    for page in reader.pages:\n",
    "        writer.add_page(page)\n",
    "    \n",
    "    for page in writer.pages:\n",
    "        for img in page.images:\n",
    "            img.replace(img.image, quality=80)\n",
    "    \n",
    "    if reader.metadata is not None:\n",
    "        writer.add_metadata(reader.metadata)\n",
    "    \n",
    "    with open(pdf, \"wb\") as fp:\n",
    "        writer.write(fp)"
   ]
  },
  {
   "cell_type": "code",
   "execution_count": 3,
   "metadata": {},
   "outputs": [],
   "source": [
    "def remove_last_page(pdf):\n",
    "    pdf_writer = PyPDF2.PdfWriter()\n",
    "\n",
    "    pdf_reader = PyPDF2.PdfReader(pdf)\n",
    "    num_pages = len(pdf_reader.pages)\n",
    "\n",
    "    if num_pages > 1:\n",
    "        num_pages -= 1\n",
    "\n",
    "    for page_num in range(num_pages):\n",
    "        page = pdf_reader.pages[page_num]\n",
    "        pdf_writer.add_page(page)\n",
    "\n",
    "    with open(pdf, \"wb\") as out_file:\n",
    "        pdf_writer.write(out_file)\n"
   ]
  },
  {
   "cell_type": "code",
   "execution_count": 4,
   "metadata": {},
   "outputs": [],
   "source": [
    "def optimize_pdf(input_path, output_path, remove_last_page=False):\n",
    "    doc = fitz.open(input_path)\n",
    "    if remove_last_page and len(doc) > 1:\n",
    "        doc.delete_page(len(doc) - 1)\n",
    "    \n",
    "    for page_num in range(len(doc)):\n",
    "        page = doc.load_page(page_num)\n",
    "        pix = page.get_pixmap(alpha=False)\n",
    "        img = fitz.Pixmap(pix, 0)  # Convert to grayscale\n",
    "        page.insert_image(page.rect, pixmap=img, keep_proportion=True)\n",
    "\n",
    "    doc.save(output_path, garbage=4, deflate=True, clean=True)"
   ]
  },
  {
   "cell_type": "code",
   "execution_count": 5,
   "metadata": {},
   "outputs": [],
   "source": [
    "def merge_pdfs(pdf_list, output_path, remove_last_page=False):\n",
    "    pdf_writer = PyPDF2.PdfWriter()\n",
    "\n",
    "    for pdf in pdf_list:\n",
    "        pdf_reader = PyPDF2.PdfReader(pdf)\n",
    "        num_pages = len(pdf_reader.pages)\n",
    "\n",
    "        if remove_last_page and num_pages > 1:\n",
    "            num_pages -= 1\n",
    "\n",
    "        for page_num in range(num_pages):\n",
    "            page = pdf_reader.pages[page_num]\n",
    "            pdf_writer.add_page(page)\n",
    "\n",
    "    with open(output_path, \"wb\") as out_file:\n",
    "        pdf_writer.write(out_file)\n"
   ]
  },
  {
   "cell_type": "code",
   "execution_count": 6,
   "metadata": {},
   "outputs": [],
   "source": [
    "def merge_pdfs(pdf_list, output_path, remove_last_page=False):\n",
    "    pdf_writer = PyPDF2.PdfWriter()\n",
    "\n",
    "    for pdf in pdf_list:\n",
    "        pdf_reader = PyPDF2.PdfReader(pdf)\n",
    "        num_pages = len(pdf_reader.pages)\n",
    "\n",
    "        if remove_last_page and num_pages > 1:\n",
    "            num_pages -= 1\n",
    "\n",
    "        for page_num in range(num_pages):\n",
    "            page = pdf_reader.pages[page_num]\n",
    "            pdf_writer.add_page(page)\n",
    "\n",
    "    with open(output_path, \"wb\") as out_file:\n",
    "        pdf_writer.write(out_file)\n"
   ]
  },
  {
   "cell_type": "code",
   "execution_count": 7,
   "metadata": {},
   "outputs": [
    {
     "data": {
      "text/plain": [
       "(#1750) [Path('D:/OneDrive - ANATEL/Regulatron/Resultados/screenshots/amazon_20240708_B00BL63176.pdf'),Path('D:/OneDrive - ANATEL/Regulatron/Resultados/screenshots/amazon_20240708_B08G1V1KZR.pdf'),Path('D:/OneDrive - ANATEL/Regulatron/Resultados/screenshots/amazon_20240708_B09QH71RZR.pdf'),Path('D:/OneDrive - ANATEL/Regulatron/Resultados/screenshots/amazon_20240708_B09QSB3LWX.pdf'),Path('D:/OneDrive - ANATEL/Regulatron/Resultados/screenshots/amazon_20240708_B09V6HMJBC.pdf'),Path('D:/OneDrive - ANATEL/Regulatron/Resultados/screenshots/amazon_20240708_B09V88XWFR.pdf'),Path('D:/OneDrive - ANATEL/Regulatron/Resultados/screenshots/amazon_20240708_B09ZF9XV3V.pdf'),Path('D:/OneDrive - ANATEL/Regulatron/Resultados/screenshots/amazon_20240708_B0B56T6WYQ.pdf'),Path('D:/OneDrive - ANATEL/Regulatron/Resultados/screenshots/amazon_20240708_B0BRQKGTVM.pdf'),Path('D:/OneDrive - ANATEL/Regulatron/Resultados/screenshots/amazon_20240708_B0BRQMKH5L.pdf')...]"
      ]
     },
     "execution_count": 7,
     "metadata": {},
     "output_type": "execute_result"
    }
   ],
   "source": [
    "load_dotenv(find_dotenv(), override=True)\n",
    "FOLDER = Path(os.environ[\"FOLDER\"])\n",
    "PDFS = FOLDER / 'screenshots'\n",
    "PDFS.ls()\n"
   ]
  },
  {
   "cell_type": "code",
   "execution_count": 8,
   "metadata": {},
   "outputs": [],
   "source": [
    "MARKETPLACES = ['amazon', 'americanas', 'carrefour', 'magalu', 'ml', 'casasbahia']\n",
    "DATE = '20240708'"
   ]
  },
  {
   "cell_type": "code",
   "execution_count": 10,
   "metadata": {},
   "outputs": [],
   "source": [
    "for mk in MARKETPLACES:\n",
    "    prefix = f'{mk}_{DATE}'\n",
    "    pdf_files = PDFS.ls().filter(lambda file: file.suffix == \".pdf\" and file.stem.startswith(prefix))\n",
    "    # pdf_files.map(Path.unlink)\n",
    "    # pdf_files.map(compress_images)\n",
    "    merge_pdfs(\n",
    "        pdf_files,\n",
    "        FOLDER.parent / \"issues\" / \"screenshots\" / f\"{mk}_{DATE}.pdf\",\n",
    "    )"
   ]
  },
  {
   "cell_type": "code",
   "execution_count": null,
   "metadata": {},
   "outputs": [],
   "source": []
  }
 ],
 "metadata": {
  "kernelspec": {
   "display_name": "sb",
   "language": "python",
   "name": "python3"
  },
  "language_info": {
   "codemirror_mode": {
    "name": "ipython",
    "version": 3
   },
   "file_extension": ".py",
   "mimetype": "text/x-python",
   "name": "python",
   "nbconvert_exporter": "python",
   "pygments_lexer": "ipython3",
   "version": "3.12.3"
  }
 },
 "nbformat": 4,
 "nbformat_minor": 4
}
